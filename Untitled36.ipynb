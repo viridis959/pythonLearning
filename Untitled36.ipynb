{
 "cells": [
  {
   "cell_type": "code",
   "execution_count": 6,
   "metadata": {},
   "outputs": [],
   "source": [
    "def missingNumber(L): \n",
    "    return (len(L) + 1) * (len(L) + 2) / 2 - sum(L)"
   ]
  },
  {
   "cell_type": "code",
   "execution_count": 11,
   "metadata": {},
   "outputs": [
    {
     "data": {
      "text/plain": [
       "[5, 4, 2, 3, 1, 0]"
      ]
     },
     "execution_count": 11,
     "metadata": {},
     "output_type": "execute_result"
    }
   ],
   "source": [
    "#Python program to print topological sorting of a DAG \n",
    "from collections import defaultdict \n",
    "  \n",
    "#Class to represent a graph \n",
    "class Graph: \n",
    "    def __init__(self,vertices): \n",
    "        self.graph = defaultdict(list) #dictionary containing adjacency List \n",
    "        self.V = vertices #No. of vertices \n",
    "  \n",
    "    # function to add an edge to graph \n",
    "    def addEdge(self,u,v): \n",
    "        self.graph[u].append(v) \n",
    "  \n",
    "    # A recursive function used by topologicalSort \n",
    "    def topologicalSortUtil(self,v,visited,stack): \n",
    "  \n",
    "        # Mark the current node as visited. \n",
    "        visited[v] = True\n",
    "  \n",
    "        # Recur for all the vertices adjacent to this vertex \n",
    "        for i in self.graph[v]: \n",
    "            if visited[i] == False: \n",
    "                self.topologicalSortUtil(i,visited,stack) \n",
    "  \n",
    "        # Push current vertex to stack which stores result \n",
    "        stack.insert(0,v)\n",
    "    # The function to do Topological Sort. It uses recursive  \n",
    "    # topologicalSortUtil() \n",
    "    def topologicalSort(self): \n",
    "        # Mark all the vertices as not visited \n",
    "        visited = [False]*self.V \n",
    "        stack =[] \n",
    "  \n",
    "        # Call the recursive helper function to store Topological \n",
    "        # Sort starting from all vertices one by one \n",
    "        for i in range(self.V): \n",
    "            if visited[i] == False: \n",
    "                self.topologicalSortUtil(i,visited,stack) \n",
    "  \n",
    "        # Print contents of the stack \n",
    "        return stack \n",
    "g = Graph(6) \n",
    "g.addEdge(5, 2) \n",
    "g.addEdge(5, 0) \n",
    "g.addEdge(4, 0) \n",
    "g.addEdge(4, 1) \n",
    "g.addEdge(2, 3) \n",
    "g.addEdge(3, 1)\n",
    "g.topologicalSort() \n",
    "#This code is contributed by Neelam Yadav "
   ]
  },
  {
   "cell_type": "code",
   "execution_count": 15,
   "metadata": {},
   "outputs": [],
   "source": [
    "def derangement(n): \n",
    "    if (n == 1): return 0\n",
    "    if (n == 0): return 1\n",
    "    if (n == 2): return 1 \n",
    "    return (n - 1) * (derangement(n - 1) + derangement(n - 2))"
   ]
  },
  {
   "cell_type": "code",
   "execution_count": 16,
   "metadata": {},
   "outputs": [],
   "source": [
    "def minPalPartion(str): \n",
    "      \n",
    "    # Get the length of the string \n",
    "    n = len(str) \n",
    "      \n",
    "    # Create two arrays to build the  \n",
    "    # solution in bottom up manner  \n",
    "    # C[i][j] = Minimum number of cuts  \n",
    "    # needed for palindrome  \n",
    "    # partitioning of substring str[i..j]  \n",
    "    # P[i][j] = true if substring str[i..j]  \n",
    "    # is palindrome, else false. Note that \n",
    "    # C[i][j] is 0 if P[i][j] is true  \n",
    "    C = [[0 for i in range(n)]  \n",
    "            for i in range(n)] \n",
    "    P = [[False for i in range(n)]  \n",
    "                for i in range(n)] \n",
    "    # different looping variables \n",
    "    j = 0\n",
    "    k = 0\n",
    "    L = 0\n",
    "      \n",
    "    # Every substring of length  \n",
    "    # 1 is a palindrome  \n",
    "    for i in range(n): \n",
    "        P[i][i] = True;  \n",
    "        C[i][i] = 0;  \n",
    "          \n",
    "    # L is substring length. Build the  \n",
    "    # solution in bottom up manner by  \n",
    "    # considering all substrings of  \n",
    "    # length starting from 2 to n.  \n",
    "    # The loop structure is same as  \n",
    "    # Matrix Chain Multiplication problem   \n",
    "    # (See https://www.geeksforgeeks.org / matrix-chain-multiplication-dp-8/ ) \n",
    "    for L in range(2, n + 1): \n",
    "          \n",
    "        # For substring of length L, set  \n",
    "        # different possible starting indexes  \n",
    "        for i in range(n - L + 1): \n",
    "            j = i + L - 1 # Set ending index  \n",
    "              \n",
    "            # If L is 2, then we just need to \n",
    "            # compare two characters. Else  \n",
    "            # need to check two corner characters \n",
    "            # and value of P[i + 1][j-1] \n",
    "            if L == 2:  \n",
    "                P[i][j] = (str[i] == str[j]) \n",
    "            else: \n",
    "                P[i][j] = ((str[i] == str[j]) and \n",
    "                             P[i + 1][j - 1]) \n",
    "                               \n",
    "            # IF str[i..j] is palindrome,  \n",
    "            # then C[i][j] is 0 \n",
    "            if P[i][j] == True: \n",
    "                C[i][j] = 0\n",
    "            else: \n",
    "                  \n",
    "                # Make a cut at every possible  \n",
    "                # location starting from i to j, \n",
    "                # and get the minimum cost cut. \n",
    "                C[i][j] = 100000000\n",
    "                for k in range(i, j): \n",
    "                    C[i][j] = min (C[i][j], C[i][k] + \n",
    "                                   C[k + 1][j] + 1) \n",
    "    # Return the min cut value for  \n",
    "    # complete string. i.e., str[0..n-1]  \n",
    "    return C[0][n - 1] "
   ]
  },
  {
   "cell_type": "code",
   "execution_count": 17,
   "metadata": {},
   "outputs": [
    {
     "name": "stdout",
     "output_type": "stream",
     "text": [
      "38\n"
     ]
    }
   ],
   "source": [
    "# input\n",
    "n = 20\n",
    "cuts = [3, 8, 10]\n",
    "# add fake cuts\n",
    "cuts = [-1] + cuts + [n - 1]\n",
    "cuts_num = len(cuts)\n",
    "# init table with zeros\n",
    "table = []\n",
    "for i in range(cuts_num):\n",
    "    table += [[0] * cuts_num]\n",
    "# fill table\n",
    "for diff in range(2, cuts_num):\n",
    "    for start in range(0, cuts_num - diff):\n",
    "        end = start + diff\n",
    "        table[start][end] = 1e9\n",
    "        for mid in range(start + 1, end):\n",
    "            table[start][end] = min(table[start][end], table[\n",
    "                                    start][mid] + table[mid][end])\n",
    "        table[start][end] += cuts[end] - cuts[start]\n",
    "# print result: 38\n",
    "print(table[0][cuts_num - 1])"
   ]
  },
  {
   "cell_type": "code",
   "execution_count": 18,
   "metadata": {},
   "outputs": [
    {
     "ename": "SyntaxError",
     "evalue": "invalid syntax (<ipython-input-18-d95f568b05bc>, line 7)",
     "output_type": "error",
     "traceback": [
      "\u001b[1;36m  File \u001b[1;32m\"<ipython-input-18-d95f568b05bc>\"\u001b[1;36m, line \u001b[1;32m7\u001b[0m\n\u001b[1;33m    print c(0,m+1)\u001b[0m\n\u001b[1;37m          ^\u001b[0m\n\u001b[1;31mSyntaxError\u001b[0m\u001b[1;31m:\u001b[0m invalid syntax\n"
     ]
    }
   ],
   "source": [
    "cuts = [1,4,6,8,9,10,72,100]\n",
    "m = len(cuts) - 2 #two artificial 'cuts' were added\n",
    "\n",
    "@memoize\n",
    "def c(i,j): return cuts[j] - cuts[i] + min((c(i,k) + c(k,j)) for k in xrange(i+1,j))\n",
    "\n",
    "print c(0,m+1)\n"
   ]
  },
  {
   "cell_type": "code",
   "execution_count": null,
   "metadata": {},
   "outputs": [],
   "source": []
  }
 ],
 "metadata": {
  "kernelspec": {
   "display_name": "Python 3",
   "language": "python",
   "name": "python3"
  },
  "language_info": {
   "codemirror_mode": {
    "name": "ipython",
    "version": 3
   },
   "file_extension": ".py",
   "mimetype": "text/x-python",
   "name": "python",
   "nbconvert_exporter": "python",
   "pygments_lexer": "ipython3",
   "version": "3.7.6"
  }
 },
 "nbformat": 4,
 "nbformat_minor": 4
}
