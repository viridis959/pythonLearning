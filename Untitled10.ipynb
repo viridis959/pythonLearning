{
 "cells": [
  {
   "cell_type": "code",
   "execution_count": 1,
   "metadata": {},
   "outputs": [
    {
     "name": "stdout",
     "output_type": "stream",
     "text": [
      " 磁碟區 C 中的磁碟是 OS\n",
      " 磁碟區序號:  668C-B2B9\n",
      "\n",
      " C:\\Users\\viridis\\Desktop\\pythonLearning 的目錄\n",
      "\n",
      "2020/04/09  下午 11:03    <DIR>          .\n",
      "2020/04/09  下午 11:03    <DIR>          ..\n",
      "2020/03/12  下午 03:18           109,856 bobby.jpg\n",
      "2020/03/03  下午 06:38            30,283 camera.ipynb\n",
      "2020/03/11  上午 06:51            26,624 Countrydata.xls\n",
      "2020/03/18  下午 11:05         3,647,233 credit_risk_after.csv\n",
      "2020/03/18  下午 11:05         5,539,328 default of credit card clients.xls\n",
      "2020/03/31  下午 03:03            35,159 Fashion_MNIST_homework.ipynb\n",
      "2020/03/03  下午 06:06            44,077 hEEeNUv.jpg\n",
      "2020/03/12  下午 03:47            22,673 imagenet_classess.txt\n",
      "2020/03/03  下午 02:39            25,515 justTest.ipynb\n",
      "2020/03/03  下午 05:05            18,341 M.ipynb\n",
      "2020/04/08  下午 09:03            76,083 MITC_03_12.ipynb\n",
      "2020/03/19  下午 09:01           104,835 MITC_0319.ipynb\n",
      "2020/04/07  下午 09:00           247,816 myCNNmodel.h5\n",
      "2020/03/18  上午 11:18               547 README.ipynb\n",
      "2020/03/18  上午 11:18                15 README.md\n",
      "2020/03/03  下午 06:21            51,877 Taipei.ipynb\n",
      "2020/04/09  下午 09:47            61,194 train.csv\n",
      "2020/03/03  下午 03:21            72,851 Untitled.ipynb\n",
      "2020/03/04  上午 09:10               555 Untitled1.ipynb\n",
      "2020/04/09  下午 11:03            30,446 Untitled10.ipynb\n",
      "2020/03/20  下午 06:14             1,661 Untitled11.ipynb\n",
      "2020/03/26  下午 09:13            19,373 Untitled12.ipynb\n",
      "2020/04/07  下午 09:00            18,627 Untitled13.ipynb\n",
      "2020/04/07  下午 08:08             3,521 Untitled14.ipynb\n",
      "2020/04/07  下午 09:28             7,480 Untitled15.ipynb\n",
      "2020/04/09  下午 10:59           223,712 Untitled16.ipynb\n",
      "2020/04/09  下午 09:44           238,175 Untitled17.ipynb\n",
      "2020/03/05  下午 08:23             6,804 Untitled2.ipynb\n",
      "2020/03/11  下午 08:19           132,891 Untitled3.ipynb\n",
      "2020/03/12  下午 04:22         1,428,376 Untitled4.ipynb\n",
      "2020/03/12  下午 08:06            38,020 Untitled5.ipynb\n",
      "2020/04/09  下午 09:50            61,265 Untitled6.ipynb\n",
      "2020/03/17  下午 04:56             8,646 Untitled7.ipynb\n",
      "2020/03/18  下午 08:49            25,741 Untitled8.ipynb\n",
      "2020/03/20  下午 09:40           202,183 Untitled9.ipynb\n",
      "2020/03/10  下午 01:54             1,826 天干地支平閏判斷.ipynb\n",
      "2020/03/20  下午 02:11             1,997 可否從一組字串組出我想要的單字(不能重複拿).ipynb\n",
      "2020/03/20  下午 02:31             3,164 刪除一list裡所有的指定數字.ipynb\n",
      "2020/03/03  下午 09:12             4,989 爬蟲網頁並排名.ipynb\n",
      "2020/03/20  下午 02:09             1,816 將一tuple的第一項和最後一項對調.ipynb\n",
      "2020/04/09  下午 10:48            14,847 羅恩力_第七週.ipynb\n",
      "2020/03/06  上午 12:06             6,375 羅恩力_第二週.ipynb\n",
      "2020/03/12  上午 02:55            14,071 羅恩力_第三週.ipynb\n",
      "2020/03/20  下午 10:05            12,258 羅恩力_第五週.ipynb\n",
      "2020/04/08  下午 09:40            43,271 羅恩力_第六週.ipynb\n",
      "2020/03/12  下午 08:10             6,251 羅恩力_第四週.ipynb\n",
      "              46 個檔案      12,672,648 位元組\n",
      "               2 個目錄  44,778,733,568 位元組可用\n"
     ]
    }
   ],
   "source": [
    "ls"
   ]
  },
  {
   "cell_type": "code",
   "execution_count": 2,
   "metadata": {},
   "outputs": [],
   "source": [
    "import pandas as pd\n",
    "import numpy as np"
   ]
  },
  {
   "cell_type": "code",
   "execution_count": 3,
   "metadata": {},
   "outputs": [],
   "source": [
    "df = pd.read_csv(\"credit_risk_after.csv\")"
   ]
  },
  {
   "cell_type": "code",
   "execution_count": 6,
   "metadata": {},
   "outputs": [
    {
     "ename": "AttributeError",
     "evalue": "'DataFrame' object has no attribute 'small'",
     "output_type": "error",
     "traceback": [
      "\u001b[1;31m---------------------------------------------------------------------------\u001b[0m",
      "\u001b[1;31mAttributeError\u001b[0m                            Traceback (most recent call last)",
      "\u001b[1;32m<ipython-input-6-5f01909d02b7>\u001b[0m in \u001b[0;36m<module>\u001b[1;34m\u001b[0m\n\u001b[1;32m----> 1\u001b[1;33m \u001b[0mdf\u001b[0m\u001b[1;33m.\u001b[0m\u001b[0msmall\u001b[0m\u001b[1;33m(\u001b[0m\u001b[1;33m)\u001b[0m\u001b[1;33m\u001b[0m\u001b[1;33m\u001b[0m\u001b[0m\n\u001b[0m",
      "\u001b[1;32mC:\\ProgramData\\Anaconda3\\lib\\site-packages\\pandas\\core\\generic.py\u001b[0m in \u001b[0;36m__getattr__\u001b[1;34m(self, name)\u001b[0m\n\u001b[0;32m   5272\u001b[0m             \u001b[1;32mif\u001b[0m \u001b[0mself\u001b[0m\u001b[1;33m.\u001b[0m\u001b[0m_info_axis\u001b[0m\u001b[1;33m.\u001b[0m\u001b[0m_can_hold_identifiers_and_holds_name\u001b[0m\u001b[1;33m(\u001b[0m\u001b[0mname\u001b[0m\u001b[1;33m)\u001b[0m\u001b[1;33m:\u001b[0m\u001b[1;33m\u001b[0m\u001b[1;33m\u001b[0m\u001b[0m\n\u001b[0;32m   5273\u001b[0m                 \u001b[1;32mreturn\u001b[0m \u001b[0mself\u001b[0m\u001b[1;33m[\u001b[0m\u001b[0mname\u001b[0m\u001b[1;33m]\u001b[0m\u001b[1;33m\u001b[0m\u001b[1;33m\u001b[0m\u001b[0m\n\u001b[1;32m-> 5274\u001b[1;33m             \u001b[1;32mreturn\u001b[0m \u001b[0mobject\u001b[0m\u001b[1;33m.\u001b[0m\u001b[0m__getattribute__\u001b[0m\u001b[1;33m(\u001b[0m\u001b[0mself\u001b[0m\u001b[1;33m,\u001b[0m \u001b[0mname\u001b[0m\u001b[1;33m)\u001b[0m\u001b[1;33m\u001b[0m\u001b[1;33m\u001b[0m\u001b[0m\n\u001b[0m\u001b[0;32m   5275\u001b[0m \u001b[1;33m\u001b[0m\u001b[0m\n\u001b[0;32m   5276\u001b[0m     \u001b[1;32mdef\u001b[0m \u001b[0m__setattr__\u001b[0m\u001b[1;33m(\u001b[0m\u001b[0mself\u001b[0m\u001b[1;33m,\u001b[0m \u001b[0mname\u001b[0m\u001b[1;33m:\u001b[0m \u001b[0mstr\u001b[0m\u001b[1;33m,\u001b[0m \u001b[0mvalue\u001b[0m\u001b[1;33m)\u001b[0m \u001b[1;33m->\u001b[0m \u001b[1;32mNone\u001b[0m\u001b[1;33m:\u001b[0m\u001b[1;33m\u001b[0m\u001b[1;33m\u001b[0m\u001b[0m\n",
      "\u001b[1;31mAttributeError\u001b[0m: 'DataFrame' object has no attribute 'small'"
     ]
    }
   ],
   "source": [
    "df.small()"
   ]
  },
  {
   "cell_type": "code",
   "execution_count": null,
   "metadata": {},
   "outputs": [],
   "source": [
    "df.columns"
   ]
  },
  {
   "cell_type": "code",
   "execution_count": null,
   "metadata": {},
   "outputs": [],
   "source": [
    "df = df.drop(columns = df.columns[0])"
   ]
  },
  {
   "cell_type": "code",
   "execution_count": null,
   "metadata": {},
   "outputs": [],
   "source": [
    "from sklearn.model_selection import train_test_split"
   ]
  },
  {
   "cell_type": "code",
   "execution_count": null,
   "metadata": {},
   "outputs": [],
   "source": [
    "X_train, X_test, Y_train, Y_test = train_test_split(X, Y, test_size =0.3, random_state = 87)"
   ]
  },
  {
   "cell_type": "code",
   "execution_count": null,
   "metadata": {},
   "outputs": [],
   "source": [
    "X_train.shape"
   ]
  },
  {
   "cell_type": "code",
   "execution_count": null,
   "metadata": {},
   "outputs": [],
   "source": [
    "df.describe()"
   ]
  },
  {
   "cell_type": "code",
   "execution_count": null,
   "metadata": {},
   "outputs": [],
   "source": [
    "北七=[9,4,8,7]\n",
    "\n",
    "empty = []\n",
    "\n",
    "for i in enumerate(北七):\n",
    "\n",
    "    empty.append(i)"
   ]
  },
  {
   "cell_type": "code",
   "execution_count": null,
   "metadata": {},
   "outputs": [],
   "source": [
    "empty"
   ]
  },
  {
   "cell_type": "code",
   "execution_count": null,
   "metadata": {},
   "outputs": [],
   "source": [
    "八七字典 = {'就是':94, '北七':87}\n",
    "八七字典['就是']*100+八七字典['北七']"
   ]
  },
  {
   "cell_type": "code",
   "execution_count": null,
   "metadata": {},
   "outputs": [],
   "source": [
    "我難過 = {'五五':55, '六六':66}\n",
    "int(\"{}\".format(我難過['五五'])+\"{}\".format(我難過['六六']))"
   ]
  },
  {
   "cell_type": "code",
   "execution_count": null,
   "metadata": {},
   "outputs": [],
   "source": [
    "df.sort_values()"
   ]
  },
  {
   "cell_type": "code",
   "execution_count": null,
   "metadata": {},
   "outputs": [],
   "source": []
  }
 ],
 "metadata": {
  "kernelspec": {
   "display_name": "Python 3",
   "language": "python",
   "name": "python3"
  },
  "language_info": {
   "codemirror_mode": {
    "name": "ipython",
    "version": 3
   },
   "file_extension": ".py",
   "mimetype": "text/x-python",
   "name": "python",
   "nbconvert_exporter": "python",
   "pygments_lexer": "ipython3",
   "version": "3.7.6"
  }
 },
 "nbformat": 4,
 "nbformat_minor": 4
}
