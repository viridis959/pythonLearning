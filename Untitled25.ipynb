{
 "cells": [
  {
   "cell_type": "code",
   "execution_count": 1,
   "metadata": {},
   "outputs": [],
   "source": [
    "import pandas as pd\n",
    "import numpy as np"
   ]
  },
  {
   "cell_type": "code",
   "execution_count": 2,
   "metadata": {},
   "outputs": [],
   "source": [
    "df = pd.read_csv(\"euw.csv\")"
   ]
  },
  {
   "cell_type": "code",
   "execution_count": 3,
   "metadata": {},
   "outputs": [],
   "source": [
    "df.dropna(inplace=True)\n"
   ]
  },
  {
   "cell_type": "code",
   "execution_count": 4,
   "metadata": {},
   "outputs": [],
   "source": [
    "df = df.drop(columns = df.columns[0])"
   ]
  },
  {
   "cell_type": "code",
   "execution_count": 5,
   "metadata": {},
   "outputs": [],
   "source": [
    "Y = df[\"result\"].to_numpy().reshape(6351,1)\n",
    "df = df.drop(columns = \"result\")"
   ]
  },
  {
   "cell_type": "code",
   "execution_count": 6,
   "metadata": {},
   "outputs": [],
   "source": [
    "X = df.to_numpy()"
   ]
  },
  {
   "cell_type": "code",
   "execution_count": 7,
   "metadata": {},
   "outputs": [],
   "source": [
    "from sklearn.model_selection import train_test_split \n",
    "X_train, X_test, Y_train, Y_test = train_test_split(X, Y, test_size =0.1, random_state = 87)"
   ]
  },
  {
   "cell_type": "code",
   "execution_count": 8,
   "metadata": {},
   "outputs": [],
   "source": [
    "from tensorflow.keras.models import Sequential\n",
    "from tensorflow.keras.layers import Dense, Activation\n",
    "from tensorflow.keras.optimizers import SGD\n",
    "from tensorflow.keras.utils import to_categorical"
   ]
  },
  {
   "cell_type": "code",
   "execution_count": 9,
   "metadata": {},
   "outputs": [],
   "source": [
    "Y_train = to_categorical(Y_train, 2)\n",
    "Y_test = to_categorical(Y_test, 2)\n",
    "X_train = X_train.astype(dtype = 'float32')\n",
    "X_test = X_test.astype(dtype = 'float32')\n",
    "Y_train = Y_train.astype(dtype = 'float32')\n",
    "X_test = X_test.astype(dtype = 'float32')"
   ]
  },
  {
   "cell_type": "code",
   "execution_count": 10,
   "metadata": {},
   "outputs": [],
   "source": [
    "model = Sequential()\n",
    "model.add(Dense(128,input_dim = 23,activation = \"relu\"))\n",
    "model.add(Dense(64,activation = \"relu\"))\n",
    "model.add(Dense(32,activation = \"relu\"))\n",
    "model.add(Dense(2,activation = \"softmax\"))\n",
    "from tensorflow.keras.losses import BinaryCrossentropy\n",
    "from tensorflow.keras.optimizers import Adam\n",
    "model.compile(loss = BinaryCrossentropy(), optimizer=Adam(), metrics=  [\"accuracy\"])"
   ]
  },
  {
   "cell_type": "code",
   "execution_count": 11,
   "metadata": {
    "scrolled": false
   },
   "outputs": [
    {
     "name": "stdout",
     "output_type": "stream",
     "text": [
      "Train on 5715 samples\n",
      "Epoch 1/100\n",
      "5715/5715 [==============================] - 1s 99us/sample - loss: 0.6950 - accuracy: 0.4924\n",
      "Epoch 2/100\n",
      "5715/5715 [==============================] - 0s 40us/sample - loss: 0.6943 - accuracy: 0.4933\n",
      "Epoch 3/100\n",
      "5715/5715 [==============================] - 0s 43us/sample - loss: 0.6935 - accuracy: 0.5111\n",
      "Epoch 4/100\n",
      "5715/5715 [==============================] - 0s 35us/sample - loss: 0.6932 - accuracy: 0.5067\n",
      "Epoch 5/100\n",
      "5715/5715 [==============================] - 0s 26us/sample - loss: 0.6943 - accuracy: 0.5048\n",
      "Epoch 6/100\n",
      "5715/5715 [==============================] - 0s 29us/sample - loss: 0.6928 - accuracy: 0.5062\n",
      "Epoch 7/100\n",
      "5715/5715 [==============================] - 0s 39us/sample - loss: 0.6930 - accuracy: 0.5127\n",
      "Epoch 8/100\n",
      "5715/5715 [==============================] - 0s 38us/sample - loss: 0.6930 - accuracy: 0.5104\n",
      "Epoch 9/100\n",
      "5715/5715 [==============================] - 0s 41us/sample - loss: 0.6928 - accuracy: 0.5174\n",
      "Epoch 10/100\n",
      "5715/5715 [==============================] - 0s 40us/sample - loss: 0.6927 - accuracy: 0.5162\n",
      "Epoch 11/100\n",
      "5715/5715 [==============================] - 0s 35us/sample - loss: 0.6926 - accuracy: 0.5155\n",
      "Epoch 12/100\n",
      "5715/5715 [==============================] - 0s 42us/sample - loss: 0.6929 - accuracy: 0.5162\n",
      "Epoch 13/100\n",
      "5715/5715 [==============================] - 0s 40us/sample - loss: 0.6933 - accuracy: 0.5148\n",
      "Epoch 14/100\n",
      "5715/5715 [==============================] - 0s 27us/sample - loss: 0.6929 - accuracy: 0.5074\n",
      "Epoch 15/100\n",
      "5715/5715 [==============================] - 0s 25us/sample - loss: 0.6928 - accuracy: 0.5095\n",
      "Epoch 16/100\n",
      "5715/5715 [==============================] - 0s 27us/sample - loss: 0.6931 - accuracy: 0.5122\n",
      "Epoch 17/100\n",
      "5715/5715 [==============================] - 0s 28us/sample - loss: 0.6930 - accuracy: 0.5120\n",
      "Epoch 18/100\n",
      "5715/5715 [==============================] - 0s 24us/sample - loss: 0.6927 - accuracy: 0.5104\n",
      "Epoch 19/100\n",
      "5715/5715 [==============================] - 0s 34us/sample - loss: 0.6931 - accuracy: 0.5064\n",
      "Epoch 20/100\n",
      "5715/5715 [==============================] - 0s 39us/sample - loss: 0.6925 - accuracy: 0.5137\n",
      "Epoch 21/100\n",
      "5715/5715 [==============================] - 0s 38us/sample - loss: 0.6926 - accuracy: 0.5094\n",
      "Epoch 22/100\n",
      "5715/5715 [==============================] - 0s 29us/sample - loss: 0.6928 - accuracy: 0.5129\n",
      "Epoch 23/100\n",
      "5715/5715 [==============================] - 0s 26us/sample - loss: 0.6929 - accuracy: 0.5074\n",
      "Epoch 24/100\n",
      "5715/5715 [==============================] - 0s 26us/sample - loss: 0.6927 - accuracy: 0.5122\n",
      "Epoch 25/100\n",
      "5715/5715 [==============================] - 0s 41us/sample - loss: 0.6926 - accuracy: 0.5164\n",
      "Epoch 26/100\n",
      "5715/5715 [==============================] - 0s 40us/sample - loss: 0.6928 - accuracy: 0.4996\n",
      "Epoch 27/100\n",
      "5715/5715 [==============================] - 0s 34us/sample - loss: 0.6927 - accuracy: 0.5080\n",
      "Epoch 28/100\n",
      "5715/5715 [==============================] - 0s 27us/sample - loss: 0.6930 - accuracy: 0.5081\n",
      "Epoch 29/100\n",
      "5715/5715 [==============================] - 0s 29us/sample - loss: 0.6925 - accuracy: 0.5200\n",
      "Epoch 30/100\n",
      "5715/5715 [==============================] - 0s 41us/sample - loss: 0.6927 - accuracy: 0.5081\n",
      "Epoch 31/100\n",
      "5715/5715 [==============================] - 0s 41us/sample - loss: 0.6927 - accuracy: 0.5153\n",
      "Epoch 32/100\n",
      "5715/5715 [==============================] - 0s 31us/sample - loss: 0.6928 - accuracy: 0.5062\n",
      "Epoch 33/100\n",
      "5715/5715 [==============================] - 0s 32us/sample - loss: 0.6926 - accuracy: 0.5116\n",
      "Epoch 34/100\n",
      "5715/5715 [==============================] - 0s 40us/sample - loss: 0.6931 - accuracy: 0.5020\n",
      "Epoch 35/100\n",
      "5715/5715 [==============================] - 0s 44us/sample - loss: 0.6926 - accuracy: 0.5174\n",
      "Epoch 36/100\n",
      "5715/5715 [==============================] - 0s 39us/sample - loss: 0.6923 - accuracy: 0.5148\n",
      "Epoch 37/100\n",
      "5715/5715 [==============================] - 0s 31us/sample - loss: 0.6924 - accuracy: 0.5218\n",
      "Epoch 38/100\n",
      "5715/5715 [==============================] - 0s 29us/sample - loss: 0.6923 - accuracy: 0.5220s - loss: 0.6924 - accuracy: 0.\n",
      "Epoch 39/100\n",
      "5715/5715 [==============================] - 0s 28us/sample - loss: 0.6929 - accuracy: 0.5113\n",
      "Epoch 40/100\n",
      "5715/5715 [==============================] - 0s 40us/sample - loss: 0.6922 - accuracy: 0.5176\n",
      "Epoch 41/100\n",
      "5715/5715 [==============================] - 0s 41us/sample - loss: 0.6920 - accuracy: 0.5150\n",
      "Epoch 42/100\n",
      "5715/5715 [==============================] - 0s 27us/sample - loss: 0.6932 - accuracy: 0.5164\n",
      "Epoch 43/100\n",
      "5715/5715 [==============================] - 0s 25us/sample - loss: 0.6932 - accuracy: 0.5066\n",
      "Epoch 44/100\n",
      "5715/5715 [==============================] - 0s 30us/sample - loss: 0.6927 - accuracy: 0.5165\n",
      "Epoch 45/100\n",
      "5715/5715 [==============================] - 0s 28us/sample - loss: 0.6931 - accuracy: 0.5111\n",
      "Epoch 46/100\n",
      "5715/5715 [==============================] - 0s 25us/sample - loss: 0.6924 - accuracy: 0.5200\n",
      "Epoch 47/100\n",
      "5715/5715 [==============================] - 0s 26us/sample - loss: 0.6928 - accuracy: 0.5192\n",
      "Epoch 48/100\n",
      "5715/5715 [==============================] - 0s 37us/sample - loss: 0.6926 - accuracy: 0.5122\n",
      "Epoch 49/100\n",
      "5715/5715 [==============================] - 0s 38us/sample - loss: 0.6924 - accuracy: 0.5228\n",
      "Epoch 50/100\n",
      "5715/5715 [==============================] - 0s 30us/sample - loss: 0.6918 - accuracy: 0.5237\n",
      "Epoch 51/100\n",
      "5715/5715 [==============================] - 0s 29us/sample - loss: 0.6922 - accuracy: 0.5169\n",
      "Epoch 52/100\n",
      "5715/5715 [==============================] - 0s 41us/sample - loss: 0.6916 - accuracy: 0.5284\n",
      "Epoch 53/100\n",
      "5715/5715 [==============================] - 0s 39us/sample - loss: 0.6918 - accuracy: 0.5214\n",
      "Epoch 54/100\n",
      "5715/5715 [==============================] - 0s 38us/sample - loss: 0.6922 - accuracy: 0.5186\n",
      "Epoch 55/100\n",
      "5715/5715 [==============================] - 0s 25us/sample - loss: 0.6918 - accuracy: 0.5225\n",
      "Epoch 56/100\n",
      "5715/5715 [==============================] - 0s 27us/sample - loss: 0.6920 - accuracy: 0.5256\n",
      "Epoch 57/100\n",
      "5715/5715 [==============================] - 0s 27us/sample - loss: 0.6919 - accuracy: 0.5246\n",
      "Epoch 58/100\n",
      "5715/5715 [==============================] - 0s 36us/sample - loss: 0.6922 - accuracy: 0.5260\n",
      "Epoch 59/100\n",
      "5715/5715 [==============================] - 0s 38us/sample - loss: 0.6917 - accuracy: 0.5209\n",
      "Epoch 60/100\n",
      "5715/5715 [==============================] - 0s 32us/sample - loss: 0.6919 - accuracy: 0.5207\n",
      "Epoch 61/100\n",
      "5715/5715 [==============================] - 0s 33us/sample - loss: 0.6915 - accuracy: 0.5195\n",
      "Epoch 62/100\n",
      "5715/5715 [==============================] - 0s 30us/sample - loss: 0.6917 - accuracy: 0.5237\n",
      "Epoch 63/100\n",
      "5715/5715 [==============================] - 0s 38us/sample - loss: 0.6913 - accuracy: 0.5258\n",
      "Epoch 64/100\n",
      "5715/5715 [==============================] - 0s 39us/sample - loss: 0.6915 - accuracy: 0.5237\n",
      "Epoch 65/100\n",
      "5715/5715 [==============================] - 0s 36us/sample - loss: 0.6918 - accuracy: 0.5150\n",
      "Epoch 66/100\n",
      "5715/5715 [==============================] - 0s 26us/sample - loss: 0.6917 - accuracy: 0.5218\n",
      "Epoch 67/100\n",
      "5715/5715 [==============================] - 0s 28us/sample - loss: 0.6913 - accuracy: 0.5171\n",
      "Epoch 68/100\n",
      "5715/5715 [==============================] - 0s 36us/sample - loss: 0.6917 - accuracy: 0.5229\n",
      "Epoch 69/100\n",
      "5715/5715 [==============================] - 0s 44us/sample - loss: 0.6919 - accuracy: 0.5134\n",
      "Epoch 70/100\n",
      "5715/5715 [==============================] - 0s 45us/sample - loss: 0.6917 - accuracy: 0.5185\n",
      "Epoch 71/100\n",
      "5715/5715 [==============================] - 0s 34us/sample - loss: 0.6923 - accuracy: 0.5185\n",
      "Epoch 72/100\n",
      "5715/5715 [==============================] - 0s 36us/sample - loss: 0.6918 - accuracy: 0.5143\n",
      "Epoch 73/100\n",
      "5715/5715 [==============================] - 0s 34us/sample - loss: 0.6912 - accuracy: 0.5274\n",
      "Epoch 74/100\n",
      "5715/5715 [==============================] - 0s 35us/sample - loss: 0.6913 - accuracy: 0.5220\n",
      "Epoch 75/100\n",
      "5715/5715 [==============================] - 0s 37us/sample - loss: 0.6911 - accuracy: 0.5298\n",
      "Epoch 76/100\n",
      "5715/5715 [==============================] - 0s 38us/sample - loss: 0.6925 - accuracy: 0.5181\n",
      "Epoch 77/100\n"
     ]
    },
    {
     "name": "stdout",
     "output_type": "stream",
     "text": [
      "5715/5715 [==============================] - 0s 52us/sample - loss: 0.6912 - accuracy: 0.5239\n",
      "Epoch 78/100\n",
      "5715/5715 [==============================] - 0s 46us/sample - loss: 0.6911 - accuracy: 0.5288\n",
      "Epoch 79/100\n",
      "5715/5715 [==============================] - 0s 34us/sample - loss: 0.6911 - accuracy: 0.5277\n",
      "Epoch 80/100\n",
      "5715/5715 [==============================] - 0s 33us/sample - loss: 0.6913 - accuracy: 0.5209\n",
      "Epoch 81/100\n",
      "5715/5715 [==============================] - 0s 43us/sample - loss: 0.6920 - accuracy: 0.5204\n",
      "Epoch 82/100\n",
      "5715/5715 [==============================] - 0s 41us/sample - loss: 0.6914 - accuracy: 0.5249\n",
      "Epoch 83/100\n",
      "5715/5715 [==============================] - 0s 47us/sample - loss: 0.6912 - accuracy: 0.5260\n",
      "Epoch 84/100\n",
      "5715/5715 [==============================] - 0s 48us/sample - loss: 0.6919 - accuracy: 0.5253\n",
      "Epoch 85/100\n",
      "5715/5715 [==============================] - 0s 39us/sample - loss: 0.6917 - accuracy: 0.5227\n",
      "Epoch 86/100\n",
      "5715/5715 [==============================] - 0s 29us/sample - loss: 0.6914 - accuracy: 0.5258\n",
      "Epoch 87/100\n",
      "5715/5715 [==============================] - 0s 32us/sample - loss: 0.6908 - accuracy: 0.5297\n",
      "Epoch 88/100\n",
      "5715/5715 [==============================] - 0s 34us/sample - loss: 0.6923 - accuracy: 0.5225\n",
      "Epoch 89/100\n",
      "5715/5715 [==============================] - 0s 34us/sample - loss: 0.6909 - accuracy: 0.5304\n",
      "Epoch 90/100\n",
      "5715/5715 [==============================] - 0s 35us/sample - loss: 0.6911 - accuracy: 0.5290\n",
      "Epoch 91/100\n",
      "5715/5715 [==============================] - 0s 32us/sample - loss: 0.6917 - accuracy: 0.5248\n",
      "Epoch 92/100\n",
      "5715/5715 [==============================] - 0s 39us/sample - loss: 0.6906 - accuracy: 0.5302\n",
      "Epoch 93/100\n",
      "5715/5715 [==============================] - 0s 30us/sample - loss: 0.6935 - accuracy: 0.5106\n",
      "Epoch 94/100\n",
      "5715/5715 [==============================] - 0s 32us/sample - loss: 0.6921 - accuracy: 0.5197\n",
      "Epoch 95/100\n",
      "5715/5715 [==============================] - 0s 37us/sample - loss: 0.6913 - accuracy: 0.5220\n",
      "Epoch 96/100\n",
      "5715/5715 [==============================] - 0s 35us/sample - loss: 0.6909 - accuracy: 0.5256\n",
      "Epoch 97/100\n",
      "5715/5715 [==============================] - 0s 47us/sample - loss: 0.6917 - accuracy: 0.5230\n",
      "Epoch 98/100\n",
      "5715/5715 [==============================] - 0s 46us/sample - loss: 0.6909 - accuracy: 0.5312\n",
      "Epoch 99/100\n",
      "5715/5715 [==============================] - 0s 31us/sample - loss: 0.6921 - accuracy: 0.5228\n",
      "Epoch 100/100\n",
      "5715/5715 [==============================] - 0s 46us/sample - loss: 0.6914 - accuracy: 0.5269\n"
     ]
    },
    {
     "data": {
      "text/plain": [
       "<tensorflow.python.keras.callbacks.History at 0x1655b7801c8>"
      ]
     },
     "execution_count": 11,
     "metadata": {},
     "output_type": "execute_result"
    }
   ],
   "source": [
    "model.fit(X_train,Y_train, batch_size = 100, epochs =100)"
   ]
  },
  {
   "cell_type": "code",
   "execution_count": 12,
   "metadata": {},
   "outputs": [
    {
     "name": "stdout",
     "output_type": "stream",
     "text": [
      "636/636 [==============================] - 0s 362us/sample - loss: 0.6938 - accuracy: 0.5031\n"
     ]
    },
    {
     "data": {
      "text/plain": [
       "[0.6937797654349849, 0.5031447]"
      ]
     },
     "execution_count": 12,
     "metadata": {},
     "output_type": "execute_result"
    }
   ],
   "source": [
    "model.evaluate(X_test,Y_test)"
   ]
  },
  {
   "cell_type": "code",
   "execution_count": 13,
   "metadata": {},
   "outputs": [
    {
     "data": {
      "text/plain": [
       "array([[0.5197017 , 0.48029825]], dtype=float32)"
      ]
     },
     "execution_count": 13,
     "metadata": {},
     "output_type": "execute_result"
    }
   ],
   "source": [
    "model.predict(np.array([0.5]*5 + [0.5]*4 + [0.5]*5 + [0.5]*5 + [0.5]*4).reshape(1,23))"
   ]
  },
  {
   "cell_type": "code",
   "execution_count": 14,
   "metadata": {},
   "outputs": [
    {
     "data": {
      "text/plain": [
       "array([[0.54172266, 0.45827731]], dtype=float32)"
      ]
     },
     "execution_count": 14,
     "metadata": {},
     "output_type": "execute_result"
    }
   ],
   "source": [
    "model.predict(np.array([0.7]*5 + [0.5]*4 + [0.5]*5 + [0.5]*5 + [0.5]*4).reshape(1,23))"
   ]
  },
  {
   "cell_type": "code",
   "execution_count": 15,
   "metadata": {},
   "outputs": [
    {
     "data": {
      "text/plain": [
       "array([[0.5328817, 0.4671184]], dtype=float32)"
      ]
     },
     "execution_count": 15,
     "metadata": {},
     "output_type": "execute_result"
    }
   ],
   "source": [
    "model.predict(np.array([0.5]*5 + [0.7]*4 + [0.5]*5 + [0.5]*5 + [0.5]*4).reshape(1,23))"
   ]
  },
  {
   "cell_type": "code",
   "execution_count": 16,
   "metadata": {},
   "outputs": [
    {
     "data": {
      "text/plain": [
       "array([[0.50472355, 0.49527648]], dtype=float32)"
      ]
     },
     "execution_count": 16,
     "metadata": {},
     "output_type": "execute_result"
    }
   ],
   "source": [
    "model.predict(np.array([0.5]*5 + [0.5]*4 + [0.7]*5 + [0.5]*5 + [0.5]*4).reshape(1,23))"
   ]
  },
  {
   "cell_type": "code",
   "execution_count": 17,
   "metadata": {},
   "outputs": [
    {
     "data": {
      "text/plain": [
       "array([[0.4827075, 0.5172925]], dtype=float32)"
      ]
     },
     "execution_count": 17,
     "metadata": {},
     "output_type": "execute_result"
    }
   ],
   "source": [
    "model.predict(np.array([0.5]*5 + [0.5]*4 + [0.5]*5 + [0.7]*5 + [0.5]*4).reshape(1,23))"
   ]
  },
  {
   "cell_type": "code",
   "execution_count": 18,
   "metadata": {},
   "outputs": [
    {
     "data": {
      "text/plain": [
       "array([[0.49162954, 0.50837046]], dtype=float32)"
      ]
     },
     "execution_count": 18,
     "metadata": {},
     "output_type": "execute_result"
    }
   ],
   "source": [
    "model.predict(np.array([0.5]*5 + [0.5]*4 + [0.5]*5 + [0.5]*5 + [0.7]*4).reshape(1,23))"
   ]
  },
  {
   "cell_type": "code",
   "execution_count": 19,
   "metadata": {},
   "outputs": [
    {
     "data": {
      "text/plain": [
       "array([[0.46015763, 0.53984237]], dtype=float32)"
      ]
     },
     "execution_count": 19,
     "metadata": {},
     "output_type": "execute_result"
    }
   ],
   "source": [
    "model.predict(np.array([0.3]*5 + [0.5]*4 + [0.7]*5 + [0.5]*5 + [0.5]*4).reshape(1,23))"
   ]
  },
  {
   "cell_type": "code",
   "execution_count": 20,
   "metadata": {},
   "outputs": [
    {
     "data": {
      "text/plain": [
       "array([[0.5504376, 0.4495624]], dtype=float32)"
      ]
     },
     "execution_count": 20,
     "metadata": {},
     "output_type": "execute_result"
    }
   ],
   "source": [
    "model.predict(np.array([0.7]*5 + [0.5]*4 + [0.3]*5 + [0.5]*5 + [0.5]*4).reshape(1,23))"
   ]
  },
  {
   "cell_type": "code",
   "execution_count": null,
   "metadata": {},
   "outputs": [],
   "source": []
  },
  {
   "cell_type": "code",
   "execution_count": null,
   "metadata": {},
   "outputs": [],
   "source": []
  }
 ],
 "metadata": {
  "kernelspec": {
   "display_name": "Python 3",
   "language": "python",
   "name": "python3"
  },
  "language_info": {
   "codemirror_mode": {
    "name": "ipython",
    "version": 3
   },
   "file_extension": ".py",
   "mimetype": "text/x-python",
   "name": "python",
   "nbconvert_exporter": "python",
   "pygments_lexer": "ipython3",
   "version": "3.7.6"
  }
 },
 "nbformat": 4,
 "nbformat_minor": 4
}
