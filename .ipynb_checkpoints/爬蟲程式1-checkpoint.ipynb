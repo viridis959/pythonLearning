{
 "cells": [
  {
   "cell_type": "code",
   "execution_count": 1,
   "metadata": {},
   "outputs": [],
   "source": [
    "import requests\n",
    "from bs4 import BeautifulSoup\n",
    "import numpy as np\n",
    "import pandas as pd"
   ]
  },
  {
   "cell_type": "code",
   "execution_count": 2,
   "metadata": {},
   "outputs": [],
   "source": [
    "# 回傳opgg的Leaderboards上某頁數的全部召喚師ID(伺服器region =0:KR, =1:NA, =2:EUW, =3:EUNE)\n",
    "def get_ID(region:int, page:int)->list:\n",
    "    container = []\n",
    "    soup = BeautifulSoup(requests.get(f'https://{[\"www\", \"na\", \"euw\", \"eune\"][region]}.op.gg/ranking/ladder/page={str(page)}').text, 'html.parser')      \n",
    "    if page == 1:\n",
    "        container = [i.text for i in soup.find_all(\"a\", class_=\"ranking-highest__name\")]\n",
    "    return container + [i.text for i in soup.find_all(\"td\", class_=\"select_summoner ranking-table__cell ranking-table__cell--summoner\")]"
   ]
  },
  {
   "cell_type": "code",
   "execution_count": null,
   "metadata": {},
   "outputs": [],
   "source": []
  }
 ],
 "metadata": {
  "kernelspec": {
   "display_name": "Python 3",
   "language": "python",
   "name": "python3"
  },
  "language_info": {
   "codemirror_mode": {
    "name": "ipython",
    "version": 3
   },
   "file_extension": ".py",
   "mimetype": "text/x-python",
   "name": "python",
   "nbconvert_exporter": "python",
   "pygments_lexer": "ipython3",
   "version": "3.7.6"
  }
 },
 "nbformat": 4,
 "nbformat_minor": 4
}
