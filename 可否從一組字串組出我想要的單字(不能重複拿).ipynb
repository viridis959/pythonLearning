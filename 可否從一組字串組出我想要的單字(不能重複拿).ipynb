{
 "cells": [
  {
   "cell_type": "code",
   "execution_count": 1,
   "metadata": {},
   "outputs": [],
   "source": [
    "# 回傳一字串能否從另一字串所組成(不能重複使用)\n",
    "def is_valid_word(word, tiles):\n",
    "    i = 0\n",
    "    j = 0\n",
    "    for i in range(len(word)):\n",
    "        if word[i] in tiles:\n",
    "            tiles = tiles.replace(tiles[tiles.find(word[i])], '', 1)\n",
    "            j = j + 1\n",
    "            if j == len(word):\n",
    "                return \"can\" \n",
    "                break\n",
    "        else:\n",
    "            return \"cannot\"\n",
    "def is_valid_word_2(word, tiles):\n",
    "    for letter in word:\n",
    "        if letter not in tiles:\n",
    "            return false\n",
    "        else:\n",
    "            tiles = tiles.replace(letter, \"\", 1)\n",
    "    return true"
   ]
  },
  {
   "cell_type": "code",
   "execution_count": 2,
   "metadata": {},
   "outputs": [
    {
     "name": "stdout",
     "output_type": "stream",
     "text": [
      "Please input the word: sam\n",
      "Please input the dictionary: samuel\n"
     ]
    },
    {
     "data": {
      "text/plain": [
       "'can'"
      ]
     },
     "execution_count": 2,
     "metadata": {},
     "output_type": "execute_result"
    }
   ],
   "source": [
    "is_valid_word(input(\"Please input the word: \"), input(\"Please input the dictionary: \"))"
   ]
  },
  {
   "cell_type": "code",
   "execution_count": null,
   "metadata": {},
   "outputs": [],
   "source": []
  }
 ],
 "metadata": {
  "kernelspec": {
   "display_name": "Python 3",
   "language": "python",
   "name": "python3"
  },
  "language_info": {
   "codemirror_mode": {
    "name": "ipython",
    "version": 3
   },
   "file_extension": ".py",
   "mimetype": "text/x-python",
   "name": "python",
   "nbconvert_exporter": "python",
   "pygments_lexer": "ipython3",
   "version": "3.7.6"
  }
 },
 "nbformat": 4,
 "nbformat_minor": 2
}
