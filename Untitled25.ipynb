{
 "cells": [
  {
   "cell_type": "code",
   "execution_count": 1,
   "metadata": {},
   "outputs": [],
   "source": [
    "import pandas as pd\n",
    "import numpy as np"
   ]
  },
  {
   "cell_type": "code",
   "execution_count": 2,
   "metadata": {},
   "outputs": [],
   "source": [
    "df = pd.read_csv(\"euw.csv\")"
   ]
  },
  {
   "cell_type": "code",
   "execution_count": 3,
   "metadata": {},
   "outputs": [
    {
     "data": {
      "text/html": [
       "<div>\n",
       "<style scoped>\n",
       "    .dataframe tbody tr th:only-of-type {\n",
       "        vertical-align: middle;\n",
       "    }\n",
       "\n",
       "    .dataframe tbody tr th {\n",
       "        vertical-align: top;\n",
       "    }\n",
       "\n",
       "    .dataframe thead th {\n",
       "        text-align: right;\n",
       "    }\n",
       "</style>\n",
       "<table border=\"1\" class=\"dataframe\">\n",
       "  <thead>\n",
       "    <tr style=\"text-align: right;\">\n",
       "      <th></th>\n",
       "      <th>Unnamed: 0</th>\n",
       "      <th>result</th>\n",
       "      <th>top_win_rate</th>\n",
       "      <th>top_lane_kill_rate</th>\n",
       "      <th>top_kda</th>\n",
       "      <th>top_kill_participate</th>\n",
       "      <th>top_damage</th>\n",
       "      <th>jg_win_rate</th>\n",
       "      <th>jg_kda</th>\n",
       "      <th>jg_kill_participate</th>\n",
       "      <th>...</th>\n",
       "      <th>mid_damage</th>\n",
       "      <th>adc_win_rate</th>\n",
       "      <th>adc_lane_kill_rate</th>\n",
       "      <th>adc_kda</th>\n",
       "      <th>adc_kill_participate</th>\n",
       "      <th>adc_damage</th>\n",
       "      <th>sup_win_rate</th>\n",
       "      <th>sup_lane_kill_rate</th>\n",
       "      <th>sup_kda</th>\n",
       "      <th>sup_kill_participate</th>\n",
       "    </tr>\n",
       "  </thead>\n",
       "  <tbody>\n",
       "    <tr>\n",
       "      <th>0</th>\n",
       "      <td>0</td>\n",
       "      <td>1</td>\n",
       "      <td>0.4839</td>\n",
       "      <td>0.4248</td>\n",
       "      <td>0.512000</td>\n",
       "      <td>0.510612</td>\n",
       "      <td>0.486098</td>\n",
       "      <td>0.4936</td>\n",
       "      <td>0.500000</td>\n",
       "      <td>0.502000</td>\n",
       "      <td>...</td>\n",
       "      <td>0.470049</td>\n",
       "      <td>0.5452</td>\n",
       "      <td>0.4910</td>\n",
       "      <td>0.529070</td>\n",
       "      <td>0.517454</td>\n",
       "      <td>0.516859</td>\n",
       "      <td>0.4953</td>\n",
       "      <td>0.5812</td>\n",
       "      <td>0.447464</td>\n",
       "      <td>0.476359</td>\n",
       "    </tr>\n",
       "    <tr>\n",
       "      <th>1</th>\n",
       "      <td>1</td>\n",
       "      <td>1</td>\n",
       "      <td>0.5004</td>\n",
       "      <td>0.5537</td>\n",
       "      <td>0.487047</td>\n",
       "      <td>0.483333</td>\n",
       "      <td>0.516382</td>\n",
       "      <td>0.5022</td>\n",
       "      <td>0.500998</td>\n",
       "      <td>0.507128</td>\n",
       "      <td>...</td>\n",
       "      <td>0.571829</td>\n",
       "      <td>0.5039</td>\n",
       "      <td>0.5892</td>\n",
       "      <td>0.527451</td>\n",
       "      <td>0.525762</td>\n",
       "      <td>0.512127</td>\n",
       "      <td>0.4974</td>\n",
       "      <td>0.4919</td>\n",
       "      <td>0.480469</td>\n",
       "      <td>0.475356</td>\n",
       "    </tr>\n",
       "    <tr>\n",
       "      <th>2</th>\n",
       "      <td>2</td>\n",
       "      <td>1</td>\n",
       "      <td>0.5082</td>\n",
       "      <td>0.6198</td>\n",
       "      <td>0.589623</td>\n",
       "      <td>0.520732</td>\n",
       "      <td>0.515645</td>\n",
       "      <td>0.5095</td>\n",
       "      <td>0.524490</td>\n",
       "      <td>0.518701</td>\n",
       "      <td>...</td>\n",
       "      <td>0.426533</td>\n",
       "      <td>0.4774</td>\n",
       "      <td>0.5394</td>\n",
       "      <td>0.481343</td>\n",
       "      <td>0.494781</td>\n",
       "      <td>0.456355</td>\n",
       "      <td>0.4734</td>\n",
       "      <td>0.4532</td>\n",
       "      <td>0.408730</td>\n",
       "      <td>0.481564</td>\n",
       "    </tr>\n",
       "    <tr>\n",
       "      <th>3</th>\n",
       "      <td>3</td>\n",
       "      <td>0</td>\n",
       "      <td>0.5185</td>\n",
       "      <td>0.3376</td>\n",
       "      <td>0.411417</td>\n",
       "      <td>0.485861</td>\n",
       "      <td>0.595481</td>\n",
       "      <td>0.5418</td>\n",
       "      <td>0.515593</td>\n",
       "      <td>0.507085</td>\n",
       "      <td>...</td>\n",
       "      <td>0.501483</td>\n",
       "      <td>0.5023</td>\n",
       "      <td>0.4663</td>\n",
       "      <td>0.480159</td>\n",
       "      <td>0.490741</td>\n",
       "      <td>0.463383</td>\n",
       "      <td>0.5444</td>\n",
       "      <td>0.3788</td>\n",
       "      <td>0.502804</td>\n",
       "      <td>0.530335</td>\n",
       "    </tr>\n",
       "    <tr>\n",
       "      <th>4</th>\n",
       "      <td>4</td>\n",
       "      <td>0</td>\n",
       "      <td>0.4891</td>\n",
       "      <td>0.5282</td>\n",
       "      <td>0.551783</td>\n",
       "      <td>0.532680</td>\n",
       "      <td>0.503218</td>\n",
       "      <td>0.4957</td>\n",
       "      <td>0.465217</td>\n",
       "      <td>0.510617</td>\n",
       "      <td>...</td>\n",
       "      <td>0.542647</td>\n",
       "      <td>0.4961</td>\n",
       "      <td>0.4108</td>\n",
       "      <td>0.472549</td>\n",
       "      <td>0.474238</td>\n",
       "      <td>0.487873</td>\n",
       "      <td>0.5127</td>\n",
       "      <td>0.4588</td>\n",
       "      <td>0.496656</td>\n",
       "      <td>0.507729</td>\n",
       "    </tr>\n",
       "  </tbody>\n",
       "</table>\n",
       "<p>5 rows × 25 columns</p>\n",
       "</div>"
      ],
      "text/plain": [
       "   Unnamed: 0  result  top_win_rate  top_lane_kill_rate   top_kda  \\\n",
       "0           0       1        0.4839              0.4248  0.512000   \n",
       "1           1       1        0.5004              0.5537  0.487047   \n",
       "2           2       1        0.5082              0.6198  0.589623   \n",
       "3           3       0        0.5185              0.3376  0.411417   \n",
       "4           4       0        0.4891              0.5282  0.551783   \n",
       "\n",
       "   top_kill_participate  top_damage  jg_win_rate    jg_kda  \\\n",
       "0              0.510612    0.486098       0.4936  0.500000   \n",
       "1              0.483333    0.516382       0.5022  0.500998   \n",
       "2              0.520732    0.515645       0.5095  0.524490   \n",
       "3              0.485861    0.595481       0.5418  0.515593   \n",
       "4              0.532680    0.503218       0.4957  0.465217   \n",
       "\n",
       "   jg_kill_participate  ...  mid_damage  adc_win_rate  adc_lane_kill_rate  \\\n",
       "0             0.502000  ...    0.470049        0.5452              0.4910   \n",
       "1             0.507128  ...    0.571829        0.5039              0.5892   \n",
       "2             0.518701  ...    0.426533        0.4774              0.5394   \n",
       "3             0.507085  ...    0.501483        0.5023              0.4663   \n",
       "4             0.510617  ...    0.542647        0.4961              0.4108   \n",
       "\n",
       "    adc_kda  adc_kill_participate  adc_damage  sup_win_rate  \\\n",
       "0  0.529070              0.517454    0.516859        0.4953   \n",
       "1  0.527451              0.525762    0.512127        0.4974   \n",
       "2  0.481343              0.494781    0.456355        0.4734   \n",
       "3  0.480159              0.490741    0.463383        0.5444   \n",
       "4  0.472549              0.474238    0.487873        0.5127   \n",
       "\n",
       "   sup_lane_kill_rate   sup_kda  sup_kill_participate  \n",
       "0              0.5812  0.447464              0.476359  \n",
       "1              0.4919  0.480469              0.475356  \n",
       "2              0.4532  0.408730              0.481564  \n",
       "3              0.3788  0.502804              0.530335  \n",
       "4              0.4588  0.496656              0.507729  \n",
       "\n",
       "[5 rows x 25 columns]"
      ]
     },
     "execution_count": 3,
     "metadata": {},
     "output_type": "execute_result"
    }
   ],
   "source": [
    "df.head()"
   ]
  },
  {
   "cell_type": "code",
   "execution_count": 4,
   "metadata": {},
   "outputs": [],
   "source": [
    "df = df.drop(columns = df.columns[0])"
   ]
  },
  {
   "cell_type": "code",
   "execution_count": 5,
   "metadata": {},
   "outputs": [],
   "source": [
    "Y = df[\"result\"].to_numpy().reshape(3590,1)\n",
    "df = df.drop(columns = \"result\")"
   ]
  },
  {
   "cell_type": "code",
   "execution_count": 6,
   "metadata": {},
   "outputs": [],
   "source": [
    "X = ((df.iloc[:,0:23] - df.iloc[:,0:23].mean())/df.iloc[:,0:23].std()).to_numpy()"
   ]
  },
  {
   "cell_type": "code",
   "execution_count": 7,
   "metadata": {},
   "outputs": [],
   "source": [
    "from sklearn.model_selection import train_test_split \n",
    "X_train, X_test, Y_train, Y_test = train_test_split(X, Y, test_size =0.3, random_state = 87)"
   ]
  },
  {
   "cell_type": "code",
   "execution_count": 8,
   "metadata": {},
   "outputs": [],
   "source": [
    "from tensorflow.keras.models import Sequential\n",
    "from tensorflow.keras.layers import Dense, Activation\n",
    "from tensorflow.keras.optimizers import SGD\n",
    "from tensorflow.keras.utils import to_categorical"
   ]
  },
  {
   "cell_type": "code",
   "execution_count": 9,
   "metadata": {},
   "outputs": [],
   "source": [
    "Y_train = to_categorical(Y_train, 2)\n",
    "Y_test = to_categorical(Y_test, 2)\n",
    "X_train = X_train.astype(dtype = 'float32')\n",
    "X_test = X_test.astype(dtype = 'float32')\n",
    "Y_train = Y_train.astype(dtype = 'float32')\n",
    "X_test = X_test.astype(dtype = 'float32')"
   ]
  },
  {
   "cell_type": "code",
   "execution_count": 10,
   "metadata": {},
   "outputs": [],
   "source": [
    "model = Sequential()\n",
    "model.add(Dense(128,input_dim = 23,activation = \"relu\"))\n",
    "model.add(Dense(64,activation = \"relu\"))\n",
    "model.add(Dense(16,activation = \"relu\"))\n",
    "model.add(Dense(2,activation = \"softmax\"))\n",
    "from tensorflow.keras.losses import BinaryCrossentropy\n",
    "from tensorflow.keras.optimizers import Adam\n",
    "model.compile(loss = BinaryCrossentropy(), optimizer=Adam(), metrics=  [\"accuracy\"])"
   ]
  },
  {
   "cell_type": "code",
   "execution_count": 11,
   "metadata": {},
   "outputs": [
    {
     "name": "stdout",
     "output_type": "stream",
     "text": [
      "Train on 2513 samples\n",
      "Epoch 1/20\n",
      "2513/2513 [==============================] - 0s 195us/sample - loss: 0.6966 - accuracy: 0.5062\n",
      "Epoch 2/20\n",
      "2513/2513 [==============================] - 0s 27us/sample - loss: 0.6839 - accuracy: 0.5623\n",
      "Epoch 3/20\n",
      "2513/2513 [==============================] - 0s 22us/sample - loss: 0.6764 - accuracy: 0.5834\n",
      "Epoch 4/20\n",
      "2513/2513 [==============================] - 0s 31us/sample - loss: 0.6687 - accuracy: 0.5917\n",
      "Epoch 5/20\n",
      "2513/2513 [==============================] - 0s 20us/sample - loss: 0.6600 - accuracy: 0.6228\n",
      "Epoch 6/20\n",
      "2513/2513 [==============================] - 0s 19us/sample - loss: 0.6522 - accuracy: 0.6399\n",
      "Epoch 7/20\n",
      "2513/2513 [==============================] - 0s 17us/sample - loss: 0.6424 - accuracy: 0.6614\n",
      "Epoch 8/20\n",
      "2513/2513 [==============================] - 0s 17us/sample - loss: 0.6326 - accuracy: 0.6729\n",
      "Epoch 9/20\n",
      "2513/2513 [==============================] - 0s 17us/sample - loss: 0.6236 - accuracy: 0.6741\n",
      "Epoch 10/20\n",
      "2513/2513 [==============================] - 0s 16us/sample - loss: 0.6105 - accuracy: 0.6956\n",
      "Epoch 11/20\n",
      "2513/2513 [==============================] - 0s 18us/sample - loss: 0.6003 - accuracy: 0.7071\n",
      "Epoch 12/20\n",
      "2513/2513 [==============================] - 0s 19us/sample - loss: 0.5910 - accuracy: 0.7067\n",
      "Epoch 13/20\n",
      "2513/2513 [==============================] - 0s 19us/sample - loss: 0.5759 - accuracy: 0.7350\n",
      "Epoch 14/20\n",
      "2513/2513 [==============================] - 0s 26us/sample - loss: 0.5622 - accuracy: 0.7382\n",
      "Epoch 15/20\n",
      "2513/2513 [==============================] - 0s 28us/sample - loss: 0.5449 - accuracy: 0.7501\n",
      "Epoch 16/20\n",
      "2513/2513 [==============================] - 0s 21us/sample - loss: 0.5331 - accuracy: 0.7668\n",
      "Epoch 17/20\n",
      "2513/2513 [==============================] - 0s 18us/sample - loss: 0.5174 - accuracy: 0.7640\n",
      "Epoch 18/20\n",
      "2513/2513 [==============================] - 0s 21us/sample - loss: 0.4973 - accuracy: 0.7931\n",
      "Epoch 19/20\n",
      "2513/2513 [==============================] - 0s 19us/sample - loss: 0.4837 - accuracy: 0.7891\n",
      "Epoch 20/20\n",
      "2513/2513 [==============================] - 0s 18us/sample - loss: 0.4686 - accuracy: 0.8098\n"
     ]
    },
    {
     "data": {
      "text/plain": [
       "<tensorflow.python.keras.callbacks.History at 0x2e77286e3c8>"
      ]
     },
     "execution_count": 11,
     "metadata": {},
     "output_type": "execute_result"
    }
   ],
   "source": [
    "model.fit(X_train,Y_train, batch_size = 200, epochs =20)"
   ]
  },
  {
   "cell_type": "code",
   "execution_count": 12,
   "metadata": {},
   "outputs": [
    {
     "name": "stdout",
     "output_type": "stream",
     "text": [
      "1077/1077 [==============================] - 0s 102us/sample - loss: 0.7762 - accuracy: 0.5255\n"
     ]
    },
    {
     "data": {
      "text/plain": [
       "[0.7761537764729896, 0.5255339]"
      ]
     },
     "execution_count": 12,
     "metadata": {},
     "output_type": "execute_result"
    }
   ],
   "source": [
    "model.evaluate(X_test,Y_test)"
   ]
  },
  {
   "cell_type": "code",
   "execution_count": 13,
   "metadata": {},
   "outputs": [
    {
     "data": {
      "text/plain": [
       "array([1], dtype=int64)"
      ]
     },
     "execution_count": 13,
     "metadata": {},
     "output_type": "execute_result"
    }
   ],
   "source": [
    "model.predict_classes(np.array([0.5]*23).reshape(1,23))"
   ]
  },
  {
   "cell_type": "code",
   "execution_count": null,
   "metadata": {},
   "outputs": [],
   "source": []
  },
  {
   "cell_type": "code",
   "execution_count": null,
   "metadata": {},
   "outputs": [],
   "source": []
  }
 ],
 "metadata": {
  "kernelspec": {
   "display_name": "Python 3",
   "language": "python",
   "name": "python3"
  },
  "language_info": {
   "codemirror_mode": {
    "name": "ipython",
    "version": 3
   },
   "file_extension": ".py",
   "mimetype": "text/x-python",
   "name": "python",
   "nbconvert_exporter": "python",
   "pygments_lexer": "ipython3",
   "version": "3.7.6"
  }
 },
 "nbformat": 4,
 "nbformat_minor": 4
}
