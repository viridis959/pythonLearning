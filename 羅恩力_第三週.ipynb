{
 "cells": [
  {
   "cell_type": "code",
   "execution_count": 1,
   "metadata": {},
   "outputs": [],
   "source": [
    "%matplotlib inline\n",
    "import numpy as np\n",
    "import matplotlib.pyplot as plt"
   ]
  },
  {
   "cell_type": "markdown",
   "metadata": {},
   "source": [
    "# 第一題"
   ]
  },
  {
   "cell_type": "code",
   "execution_count": 72,
   "metadata": {},
   "outputs": [
    {
     "data": {
      "text/plain": [
       "array([[48.55, 43.9 , 64.35, 54.7 , 30.55, 35.4 , 43.5 , 46.7 , 46.05,\n",
       "        44.9 ],\n",
       "       [75.7 , 61.85, 75.9 , 53.3 , 42.95, 60.85, 44.45, 54.2 , 67.1 ,\n",
       "        49.75],\n",
       "       [29.4 , 74.45, 39.15, 71.6 , 34.6 , 54.15, 45.35, 67.2 , 72.2 ,\n",
       "        34.95]])"
      ]
     },
     "execution_count": 72,
     "metadata": {},
     "output_type": "execute_result"
    }
   ],
   "source": [
    "grades = np.random.randint(0, 101, (3, 10, 5))\n",
    "weights = np.array([0.25, 0.25, 0.25, 0.15, 0.10])\n",
    "np.dot(grades, weights)"
   ]
  },
  {
   "cell_type": "markdown",
   "metadata": {},
   "source": [
    "# 第二題"
   ]
  },
  {
   "cell_type": "code",
   "execution_count": 57,
   "metadata": {},
   "outputs": [
    {
     "data": {
      "text/plain": [
       "array([ 39,  70,  62,  36,  73,   9,  83,  44,  11,  61,  46,  21,  20,\n",
       "        58,   9,  23,  12,  62, 100,  58,  92,  37,  85,  71,  15,  45,\n",
       "        38,  94,  60,  62,  56,  53,  25,  35,  75,  46,  90,  31,  84,\n",
       "        86])"
      ]
     },
     "execution_count": 57,
     "metadata": {},
     "output_type": "execute_result"
    }
   ],
   "source": [
    "sunflower = np.random.randint(101, size = 40)\n",
    "sunflower"
   ]
  },
  {
   "cell_type": "code",
   "execution_count": 61,
   "metadata": {},
   "outputs": [
    {
     "data": {
      "text/plain": [
       "100"
      ]
     },
     "execution_count": 61,
     "metadata": {},
     "output_type": "execute_result"
    }
   ],
   "source": [
    "sunflower.max()"
   ]
  },
  {
   "cell_type": "code",
   "execution_count": 62,
   "metadata": {},
   "outputs": [
    {
     "data": {
      "text/plain": [
       "9"
      ]
     },
     "execution_count": 62,
     "metadata": {},
     "output_type": "execute_result"
    }
   ],
   "source": [
    "sunflower.min()"
   ]
  },
  {
   "cell_type": "code",
   "execution_count": 64,
   "metadata": {},
   "outputs": [
    {
     "data": {
      "text/plain": [
       "17"
      ]
     },
     "execution_count": 64,
     "metadata": {},
     "output_type": "execute_result"
    }
   ],
   "source": [
    "np.sum(sunflower >= 60)"
   ]
  },
  {
   "cell_type": "code",
   "execution_count": 66,
   "metadata": {},
   "outputs": [
    {
     "data": {
      "text/plain": [
       "51.925"
      ]
     },
     "execution_count": 66,
     "metadata": {},
     "output_type": "execute_result"
    }
   ],
   "source": [
    "sunflower.mean()"
   ]
  },
  {
   "cell_type": "code",
   "execution_count": 67,
   "metadata": {},
   "outputs": [
    {
     "data": {
      "text/plain": [
       "26.074304880475722"
      ]
     },
     "execution_count": 67,
     "metadata": {},
     "output_type": "execute_result"
    }
   ],
   "source": [
    "sunflower.std()"
   ]
  },
  {
   "cell_type": "code",
   "execution_count": 68,
   "metadata": {},
   "outputs": [
    {
     "data": {
      "text/plain": [
       "(array([5., 4., 3., 5., 3., 8., 2., 2., 5., 3.]),\n",
       " array([  9. ,  18.1,  27.2,  36.3,  45.4,  54.5,  63.6,  72.7,  81.8,\n",
       "         90.9, 100. ]),\n",
       " <a list of 10 Patch objects>)"
      ]
     },
     "execution_count": 68,
     "metadata": {},
     "output_type": "execute_result"
    },
    {
     "data": {
      "image/png": "[encoded data removed]",
      "text/plain": [
       "<Figure size 432x288 with 1 Axes>"
      ]
     },
     "metadata": {
      "needs_background": "light"
     },
     "output_type": "display_data"
    }
   ],
   "source": [
    "plt.hist(sunflower, bins = 10)"
   ]
  },
  {
   "cell_type": "markdown",
   "metadata": {},
   "source": [
    "# 挑戰題一"
   ]
  },
  {
   "cell_type": "code",
   "execution_count": 128,
   "metadata": {},
   "outputs": [],
   "source": [
    "# 回傳加權計算後的學生期末成績\n",
    "def highGrade(x):\n",
    "    container = []\n",
    "    weights1 = np.array([0.2, 0.35, 0.45])\n",
    "    weights2 = np.array([0, 0.4, 0.6])\n",
    "    for i in range(len(x)):\n",
    "        classGra = x[i]\n",
    "        for j in range(len(x[0])):\n",
    "            container.append(max(np.dot(classGra[j], weights1), np.dot(classGra[j], weights2)))\n",
    "    return np.array(container).reshape(len(x), len(x[0]), 1) "
   ]
  },
  {
   "cell_type": "code",
   "execution_count": 129,
   "metadata": {},
   "outputs": [
    {
     "data": {
      "text/plain": [
       "array([[[49.45],\n",
       "        [37.  ],\n",
       "        [40.8 ],\n",
       "        [67.9 ],\n",
       "        [60.2 ],\n",
       "        [59.6 ],\n",
       "        [53.8 ],\n",
       "        [38.5 ],\n",
       "        [35.1 ],\n",
       "        [37.2 ],\n",
       "        [55.  ],\n",
       "        [32.5 ],\n",
       "        [47.85],\n",
       "        [12.6 ],\n",
       "        [42.45],\n",
       "        [74.4 ],\n",
       "        [34.  ],\n",
       "        [43.3 ],\n",
       "        [38.3 ],\n",
       "        [70.6 ],\n",
       "        [71.2 ],\n",
       "        [57.45],\n",
       "        [45.2 ],\n",
       "        [43.7 ],\n",
       "        [67.6 ],\n",
       "        [76.2 ],\n",
       "        [66.5 ],\n",
       "        [62.5 ],\n",
       "        [49.6 ],\n",
       "        [86.4 ]],\n",
       "\n",
       "       [[33.2 ],\n",
       "        [75.4 ],\n",
       "        [65.75],\n",
       "        [30.8 ],\n",
       "        [17.2 ],\n",
       "        [74.  ],\n",
       "        [53.  ],\n",
       "        [43.05],\n",
       "        [48.15],\n",
       "        [57.4 ],\n",
       "        [33.2 ],\n",
       "        [95.  ],\n",
       "        [26.3 ],\n",
       "        [43.5 ],\n",
       "        [55.6 ],\n",
       "        [37.  ],\n",
       "        [40.75],\n",
       "        [54.95],\n",
       "        [51.4 ],\n",
       "        [23.55],\n",
       "        [39.15],\n",
       "        [91.8 ],\n",
       "        [25.95],\n",
       "        [62.4 ],\n",
       "        [48.6 ],\n",
       "        [53.  ],\n",
       "        [44.15],\n",
       "        [43.1 ],\n",
       "        [90.6 ],\n",
       "        [31.4 ]],\n",
       "\n",
       "       [[42.9 ],\n",
       "        [55.  ],\n",
       "        [37.35],\n",
       "        [12.85],\n",
       "        [60.4 ],\n",
       "        [57.4 ],\n",
       "        [63.4 ],\n",
       "        [54.2 ],\n",
       "        [79.  ],\n",
       "        [77.65],\n",
       "        [44.15],\n",
       "        [61.4 ],\n",
       "        [71.05],\n",
       "        [62.8 ],\n",
       "        [43.25],\n",
       "        [79.6 ],\n",
       "        [48.6 ],\n",
       "        [62.6 ],\n",
       "        [39.1 ],\n",
       "        [44.3 ],\n",
       "        [57.35],\n",
       "        [45.8 ],\n",
       "        [66.2 ],\n",
       "        [32.7 ],\n",
       "        [21.35],\n",
       "        [70.2 ],\n",
       "        [86.6 ],\n",
       "        [27.55],\n",
       "        [67.4 ],\n",
       "        [58.75]]])"
      ]
     },
     "execution_count": 129,
     "metadata": {},
     "output_type": "execute_result"
    }
   ],
   "source": [
    "a = np.random.randint(0, 101, (3, 30, 3))\n",
    "highGrade(a)"
   ]
  },
  {
   "cell_type": "markdown",
   "metadata": {},
   "source": [
    "# 挑戰題二"
   ]
  },
  {
   "cell_type": "code",
   "execution_count": 141,
   "metadata": {},
   "outputs": [],
   "source": [
    "def nested(x):\n",
    "    for i in range(len(x)):\n",
    "        nestOne = x[i]\n",
    "        for j in range(len(x[0])):\n",
    "            if (nestOne[j] >= 1):\n",
    "                nestOne[j] = 1\n",
    "            else:\n",
    "                nestOne[j] = 0\n",
    "    return x"
   ]
  },
  {
   "cell_type": "code",
   "execution_count": 144,
   "metadata": {},
   "outputs": [
    {
     "data": {
      "text/plain": [
       "array([[1., 0., 1.],\n",
       "       [0., 0., 1.],\n",
       "       [1., 0., 0.]])"
      ]
     },
     "execution_count": 144,
     "metadata": {},
     "output_type": "execute_result"
    }
   ],
   "source": [
    "a = np.array([[2  , 0.9, 6  ], \n",
    "              [0.7, 0.3, 89 ],\n",
    "              [66 , 0.1, 0.4]])\n",
    "nested(a)"
   ]
  },
  {
   "cell_type": "code",
   "execution_count": null,
   "metadata": {},
   "outputs": [],
   "source": []
  }
 ],
 "metadata": {
  "kernelspec": {
   "display_name": "Python 3",
   "language": "python",
   "name": "python3"
  },
  "language_info": {
   "codemirror_mode": {
    "name": "ipython",
    "version": 3
   },
   "file_extension": ".py",
   "mimetype": "text/x-python",
   "name": "python",
   "nbconvert_exporter": "python",
   "pygments_lexer": "ipython3",
   "version": "3.7.6"
  }
 },
 "nbformat": 4,
 "nbformat_minor": 2
}
