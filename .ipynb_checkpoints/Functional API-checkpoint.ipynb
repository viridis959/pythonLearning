{
 "cells": [
  {
   "cell_type": "code",
   "execution_count": 1,
   "metadata": {},
   "outputs": [],
   "source": [
    "import matplotlib.pyplot as plt\n",
    "import numpy as np\n",
    "from tensorflow.keras import datasets\n",
    "from tensorflow.keras.utils import to_categorical"
   ]
  },
  {
   "cell_type": "code",
   "execution_count": 2,
   "metadata": {},
   "outputs": [
    {
     "name": "stdout",
     "output_type": "stream",
     "text": [
      "(60000, 28, 28) (10000, 28, 28)\n"
     ]
    }
   ],
   "source": [
    "(x_train, y_train), (x_test, y_test) = datasets.fashion_mnist.load_data()\n",
    "\n",
    "#查看數據特徵\n",
    "print(x_train.shape, x_test.shape)"
   ]
  },
  {
   "cell_type": "code",
   "execution_count": 3,
   "metadata": {},
   "outputs": [],
   "source": [
    "# 數據轉換為合適格式\n",
    "x_train = x_train.reshape(-1, 28*28)\n",
    "x_test = x_test.reshape(-1, 28*28)\n",
    "x_train = x_train / x_train.max()\n",
    "x_test = x_test / x_test.max()\n",
    "\n",
    "y_train = to_categorical(y_train, 10)\n",
    "y_test = to_categorical(y_test, 10)"
   ]
  },
  {
   "cell_type": "code",
   "execution_count": 4,
   "metadata": {},
   "outputs": [],
   "source": [
    "# 打造函數學習機 (包含 Functional API)\n",
    "from tensorflow.keras.models import Sequential\n",
    "from tensorflow.keras.layers import Conv2D, MaxPooling2D\n",
    "from tensorflow.keras.layers import Dense, Flatten"
   ]
  },
  {
   "cell_type": "code",
   "execution_count": 5,
   "metadata": {},
   "outputs": [],
   "source": [
    "from tensorflow.keras.layers import GlobalAveragePooling2D \n",
    "from tensorflow.keras.models import Model\n",
    "from tensorflow.keras.layers import Input\n",
    "from tensorflow.keras.layers import concatenate, add"
   ]
  },
  {
   "cell_type": "code",
   "execution_count": 6,
   "metadata": {},
   "outputs": [],
   "source": [
    "#          x\n",
    "#        /   \\\n",
    "#   x_1_1    x_1_2\n",
    "#     /       /  \\\n",
    "#  x_2_1  x_2_2  x_2_3\n",
    "#    |       \\    /\n",
    "#  x_3_1      x_3_2\n",
    "#      \\     /\n",
    "#       x_4_1\n",
    "#         |\n",
    "#         y"
   ]
  },
  {
   "cell_type": "code",
   "execution_count": 7,
   "metadata": {},
   "outputs": [],
   "source": [
    "x = Input(shape=(784,))\n",
    "f1 = Dense(128, activation = \"relu\")\n",
    "f2 = Dense(256, activation = \"relu\")\n",
    "x_1_1 = f1(x)\n",
    "x_1_2 = f2(x)\n",
    "f3 = Dense(64, activation = \"relu\")\n",
    "x_2_1 = f3(x_1_1)\n",
    "f4 = Dense(64, activation = \"relu\")\n",
    "f5 = Dense(64, activation = \"sigmoid\")\n",
    "x_2_2 = f4(x_1_2)\n",
    "x_2_3 = f5(x_1_2)\n",
    "f6 = Dense(32, activation = \"relu\")\n",
    "x_3_1 = f6(x_2_1)\n",
    "x_3_2 = concatenate([x_2_2, x_2_3])\n",
    "f7 = Dense(10, activation = \"softmax\")\n",
    "x_4_1 = concatenate([x_3_1, x_3_2])\n",
    "y = f7(x_4_1)"
   ]
  },
  {
   "cell_type": "code",
   "execution_count": 8,
   "metadata": {},
   "outputs": [
    {
     "name": "stdout",
     "output_type": "stream",
     "text": [
      "Model: \"model\"\n",
      "__________________________________________________________________________________________________\n",
      "Layer (type)                    Output Shape         Param #     Connected to                     \n",
      "==================================================================================================\n",
      "input_1 (InputLayer)            [(None, 784)]        0                                            \n",
      "__________________________________________________________________________________________________\n",
      "dense (Dense)                   (None, 128)          100480      input_1[0][0]                    \n",
      "__________________________________________________________________________________________________\n",
      "dense_1 (Dense)                 (None, 256)          200960      input_1[0][0]                    \n",
      "__________________________________________________________________________________________________\n",
      "dense_2 (Dense)                 (None, 64)           8256        dense[0][0]                      \n",
      "__________________________________________________________________________________________________\n",
      "dense_3 (Dense)                 (None, 64)           16448       dense_1[0][0]                    \n",
      "__________________________________________________________________________________________________\n",
      "dense_4 (Dense)                 (None, 64)           16448       dense_1[0][0]                    \n",
      "__________________________________________________________________________________________________\n",
      "dense_5 (Dense)                 (None, 32)           2080        dense_2[0][0]                    \n",
      "__________________________________________________________________________________________________\n",
      "concatenate (Concatenate)       (None, 128)          0           dense_3[0][0]                    \n",
      "                                                                 dense_4[0][0]                    \n",
      "__________________________________________________________________________________________________\n",
      "concatenate_1 (Concatenate)     (None, 160)          0           dense_5[0][0]                    \n",
      "                                                                 concatenate[0][0]                \n",
      "__________________________________________________________________________________________________\n",
      "dense_6 (Dense)                 (None, 10)           1610        concatenate_1[0][0]              \n",
      "==================================================================================================\n",
      "Total params: 346,282\n",
      "Trainable params: 346,282\n",
      "Non-trainable params: 0\n",
      "__________________________________________________________________________________________________\n"
     ]
    }
   ],
   "source": [
    "model = Model(x, y)\n",
    "model.summary()"
   ]
  },
  {
   "cell_type": "code",
   "execution_count": 10,
   "metadata": {},
   "outputs": [],
   "source": [
    "from tensorflow.keras.optimizers import Adam\n",
    "model.compile(loss='categorical_crossentropy', optimizer=Adam(),metrics=['categorical_accuracy'])"
   ]
  },
  {
   "cell_type": "code",
   "execution_count": 11,
   "metadata": {},
   "outputs": [
    {
     "name": "stdout",
     "output_type": "stream",
     "text": [
      "Train on 60000 samples, validate on 10000 samples\n",
      "Epoch 1/20\n",
      "60000/60000 [==============================] - 28s 469us/sample - loss: 0.4681 - categorical_accuracy: 0.8296 - val_loss: 0.4225 - val_categorical_accuracy: 0.8474\n",
      "Epoch 2/20\n",
      "60000/60000 [==============================] - 22s 369us/sample - loss: 0.3587 - categorical_accuracy: 0.8675 - val_loss: 0.3747 - val_categorical_accuracy: 0.8638\n",
      "Epoch 3/20\n",
      "60000/60000 [==============================] - 19s 322us/sample - loss: 0.3213 - categorical_accuracy: 0.8813 - val_loss: 0.3567 - val_categorical_accuracy: 0.8699\n",
      "Epoch 4/20\n",
      "60000/60000 [==============================] - 21s 347us/sample - loss: 0.2980 - categorical_accuracy: 0.8883 - val_loss: 0.3353 - val_categorical_accuracy: 0.8780\n",
      "Epoch 5/20\n",
      "60000/60000 [==============================] - 19s 321us/sample - loss: 0.2810 - categorical_accuracy: 0.8941 - val_loss: 0.3657 - val_categorical_accuracy: 0.8740\n",
      "Epoch 6/20\n",
      "60000/60000 [==============================] - 21s 343us/sample - loss: 0.2686 - categorical_accuracy: 0.8994 - val_loss: 0.3526 - val_categorical_accuracy: 0.8732\n",
      "Epoch 7/20\n",
      "60000/60000 [==============================] - 21s 351us/sample - loss: 0.2565 - categorical_accuracy: 0.9037 - val_loss: 0.3449 - val_categorical_accuracy: 0.8774\n",
      "Epoch 8/20\n",
      "60000/60000 [==============================] - 22s 363us/sample - loss: 0.2467 - categorical_accuracy: 0.9075 - val_loss: 0.3380 - val_categorical_accuracy: 0.8770\n",
      "Epoch 9/20\n",
      "60000/60000 [==============================] - 19s 324us/sample - loss: 0.2391 - categorical_accuracy: 0.9107 - val_loss: 0.3390 - val_categorical_accuracy: 0.8842\n",
      "Epoch 10/20\n",
      "60000/60000 [==============================] - 21s 352us/sample - loss: 0.2316 - categorical_accuracy: 0.9117 - val_loss: 0.3464 - val_categorical_accuracy: 0.8857\n",
      "Epoch 11/20\n",
      "60000/60000 [==============================] - 20s 331us/sample - loss: 0.2231 - categorical_accuracy: 0.9158 - val_loss: 0.3763 - val_categorical_accuracy: 0.8801\n",
      "Epoch 12/20\n",
      "60000/60000 [==============================] - 21s 343us/sample - loss: 0.2198 - categorical_accuracy: 0.9168 - val_loss: 0.3606 - val_categorical_accuracy: 0.8855\n",
      "Epoch 13/20\n",
      "60000/60000 [==============================] - 20s 333us/sample - loss: 0.2134 - categorical_accuracy: 0.9196 - val_loss: 0.3365 - val_categorical_accuracy: 0.8875\n",
      "Epoch 14/20\n",
      "60000/60000 [==============================] - 21s 342us/sample - loss: 0.2077 - categorical_accuracy: 0.9216 - val_loss: 0.3521 - val_categorical_accuracy: 0.8877\n",
      "Epoch 15/20\n",
      "60000/60000 [==============================] - 22s 361us/sample - loss: 0.2030 - categorical_accuracy: 0.9228 - val_loss: 0.3632 - val_categorical_accuracy: 0.8921\n",
      "Epoch 16/20\n",
      "60000/60000 [==============================] - 21s 358us/sample - loss: 0.1952 - categorical_accuracy: 0.9264 - val_loss: 0.3383 - val_categorical_accuracy: 0.8918\n",
      "Epoch 17/20\n",
      "60000/60000 [==============================] - 21s 346us/sample - loss: 0.1951 - categorical_accuracy: 0.9278 - val_loss: 0.3682 - val_categorical_accuracy: 0.8861\n",
      "Epoch 18/20\n",
      "60000/60000 [==============================] - 20s 333us/sample - loss: 0.1889 - categorical_accuracy: 0.9285 - val_loss: 0.3838 - val_categorical_accuracy: 0.8897\n",
      "Epoch 19/20\n",
      "60000/60000 [==============================] - 20s 330us/sample - loss: 0.1832 - categorical_accuracy: 0.9307 - val_loss: 0.4042 - val_categorical_accuracy: 0.8825\n",
      "Epoch 20/20\n",
      "60000/60000 [==============================] - 18s 301us/sample - loss: 0.1827 - categorical_accuracy: 0.9320 - val_loss: 0.3993 - val_categorical_accuracy: 0.8860\n"
     ]
    }
   ],
   "source": [
    "mymodel = model.fit(x_train, y_train, batch_size=10, epochs=20, validation_data=(x_test, y_test))"
   ]
  },
  {
   "cell_type": "code",
   "execution_count": 12,
   "metadata": {},
   "outputs": [
    {
     "name": "stdout",
     "output_type": "stream",
     "text": [
      "10000/10000 [==============================] - 1s 77us/sample - loss: 0.3993 - categorical_accuracy: 0.8860\n"
     ]
    },
    {
     "data": {
      "text/plain": [
       "[0.39933610857725144, 0.886]"
      ]
     },
     "execution_count": 12,
     "metadata": {},
     "output_type": "execute_result"
    }
   ],
   "source": [
    "model.evaluate(x_test, y_test)"
   ]
  },
  {
   "cell_type": "code",
   "execution_count": null,
   "metadata": {},
   "outputs": [],
   "source": []
  }
 ],
 "metadata": {
  "kernelspec": {
   "display_name": "Python 3",
   "language": "python",
   "name": "python3"
  },
  "language_info": {
   "codemirror_mode": {
    "name": "ipython",
    "version": 3
   },
   "file_extension": ".py",
   "mimetype": "text/x-python",
   "name": "python",
   "nbconvert_exporter": "python",
   "pygments_lexer": "ipython3",
   "version": "3.7.6"
  }
 },
 "nbformat": 4,
 "nbformat_minor": 4
}
