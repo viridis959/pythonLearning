{
 "cells": [
  {
   "cell_type": "code",
   "execution_count": 2,
   "metadata": {},
   "outputs": [
    {
     "data": {
      "text/plain": [
       "array([ 26,  28, 110, 132])"
      ]
     },
     "execution_count": 2,
     "metadata": {},
     "output_type": "execute_result"
    }
   ],
   "source": [
    "import numpy as np\n",
    "2 * np.array([13, 14, 55, 66])"
   ]
  },
  {
   "cell_type": "code",
   "execution_count": 4,
   "metadata": {},
   "outputs": [
    {
     "ename": "TypeError",
     "evalue": "can't multiply sequence by non-int of type 'list'",
     "output_type": "error",
     "traceback": [
      "\u001b[1;31m---------------------------------------------------------------------------\u001b[0m",
      "\u001b[1;31mTypeError\u001b[0m                                 Traceback (most recent call last)",
      "\u001b[1;32m<ipython-input-4-c9e467766efe>\u001b[0m in \u001b[0;36m<module>\u001b[1;34m\u001b[0m\n\u001b[1;32m----> 1\u001b[1;33m \u001b[1;33m[\u001b[0m\u001b[1;36m7\u001b[0m\u001b[1;33m,\u001b[0m\u001b[1;36m6\u001b[0m\u001b[1;33m]\u001b[0m\u001b[1;33m*\u001b[0m\u001b[1;33m[\u001b[0m\u001b[1;36m8\u001b[0m\u001b[1;33m,\u001b[0m\u001b[1;36m7\u001b[0m\u001b[1;33m]\u001b[0m\u001b[1;33m\u001b[0m\u001b[1;33m\u001b[0m\u001b[0m\n\u001b[0m",
      "\u001b[1;31mTypeError\u001b[0m: can't multiply sequence by non-int of type 'list'"
     ]
    }
   ],
   "source": [
    "[7,6]*[8,7]"
   ]
  },
  {
   "cell_type": "code",
   "execution_count": 5,
   "metadata": {},
   "outputs": [
    {
     "data": {
      "text/plain": [
       "True"
      ]
     },
     "execution_count": 5,
     "metadata": {},
     "output_type": "execute_result"
    }
   ],
   "source": [
    "'Z'>'B'"
   ]
  },
  {
   "cell_type": "code",
   "execution_count": 6,
   "metadata": {},
   "outputs": [
    {
     "data": {
      "text/plain": [
       "array([56.])"
      ]
     },
     "execution_count": 6,
     "metadata": {},
     "output_type": "execute_result"
    }
   ],
   "source": [
    "五五六六 = np.linspace(56,5566)\n",
    "\n",
    "五五六六[五五六六<87]"
   ]
  },
  {
   "cell_type": "code",
   "execution_count": 8,
   "metadata": {},
   "outputs": [],
   "source": [
    "year = 1\n",
    "\n",
    "l = [9,4,8,7]\n",
    "\n",
    "for i in l:\n",
    "\n",
    "    year = year*i"
   ]
  },
  {
   "cell_type": "code",
   "execution_count": 9,
   "metadata": {},
   "outputs": [
    {
     "data": {
      "text/plain": [
       "2016"
      ]
     },
     "execution_count": 9,
     "metadata": {},
     "output_type": "execute_result"
    }
   ],
   "source": [
    "year"
   ]
  },
  {
   "cell_type": "code",
   "execution_count": 10,
   "metadata": {},
   "outputs": [
    {
     "data": {
      "text/plain": [
       "[5, 6, 6, 7]"
      ]
     },
     "execution_count": 10,
     "metadata": {},
     "output_type": "execute_result"
    }
   ],
   "source": [
    "[5, 6]+[6, 7]"
   ]
  },
  {
   "cell_type": "code",
   "execution_count": 18,
   "metadata": {},
   "outputs": [
    {
     "data": {
      "text/plain": [
       "[<matplotlib.lines.Line2D at 0x25ecd9b7f88>]"
      ]
     },
     "execution_count": 18,
     "metadata": {},
     "output_type": "execute_result"
    },
    {
     "data": {
      "image/png": "[encoded data removed]",
      "text/plain": [
       "<Figure size 432x288 with 1 Axes>"
      ]
     },
     "metadata": {
      "needs_background": "light"
     },
     "output_type": "display_data"
    }
   ],
   "source": [
    "import matplotlib.pyplot as plt\n",
    "plt.plot(range(87))"
   ]
  },
  {
   "cell_type": "code",
   "execution_count": 23,
   "metadata": {},
   "outputs": [
    {
     "ename": "TypeError",
     "evalue": "ones() missing 1 required positional argument: 'shape'",
     "output_type": "error",
     "traceback": [
      "\u001b[1;31m---------------------------------------------------------------------------\u001b[0m",
      "\u001b[1;31mTypeError\u001b[0m                                 Traceback (most recent call last)",
      "\u001b[1;32m<ipython-input-23-3e9e74468e5d>\u001b[0m in \u001b[0;36m<module>\u001b[1;34m\u001b[0m\n\u001b[1;32m----> 1\u001b[1;33m \u001b[0mnp\u001b[0m\u001b[1;33m.\u001b[0m\u001b[0mones\u001b[0m\u001b[1;33m(\u001b[0m\u001b[1;33m)\u001b[0m\u001b[1;33m\u001b[0m\u001b[1;33m\u001b[0m\u001b[0m\n\u001b[0m",
      "\u001b[1;31mTypeError\u001b[0m: ones() missing 1 required positional argument: 'shape'"
     ]
    }
   ],
   "source": [
    "np.ones()"
   ]
  },
  {
   "cell_type": "code",
   "execution_count": 13,
   "metadata": {},
   "outputs": [
    {
     "data": {
      "text/plain": [
       "[(1, '2010'),\n",
       " (2, '2009'),\n",
       " (3, '2008'),\n",
       " (4, '2007'),\n",
       " (5, '2006'),\n",
       " (6, '2005'),\n",
       " (7, '2004'),\n",
       " (8, '2003'),\n",
       " (9, '2002'),\n",
       " (10, '2001'),\n",
       " (11, '2000'),\n",
       " (12, '1999'),\n",
       " (13, '1998'),\n",
       " (14, '1997'),\n",
       " (15, '1996'),\n",
       " (16, '1995'),\n",
       " (17, '1994'),\n",
       " (18, '1993'),\n",
       " (19, '1992'),\n",
       " (20, '1991'),\n",
       " (21, '1990'),\n",
       " (22, '1989'),\n",
       " (23, '1988'),\n",
       " (24, '1987'),\n",
       " (25, '1986'),\n",
       " (26, '1985'),\n",
       " (27, '1984'),\n",
       " (28, '1983'),\n",
       " (29, '1982'),\n",
       " (30, '1981'),\n",
       " (31, '1980'),\n",
       " (32, '1979'),\n",
       " (33, '1978'),\n",
       " (34, '1977'),\n",
       " (35, '1976'),\n",
       " (36, '1975'),\n",
       " (37, '1974'),\n",
       " (38, '1973'),\n",
       " (39, '1972'),\n",
       " (40, '1971'),\n",
       " (41, '1970'),\n",
       " (42, '1969'),\n",
       " (43, '1968'),\n",
       " (44, '1967'),\n",
       " (45, '1966'),\n",
       " (46, '1965'),\n",
       " (47, '1964'),\n",
       " (48, '1963'),\n",
       " (49, '1962'),\n",
       " (50, '1961'),\n",
       " (51, '1960'),\n",
       " (52, '1959'),\n",
       " (53, '1958'),\n",
       " (54, '1957'),\n",
       " (55, '1956'),\n",
       " (56, '1955'),\n",
       " (57, '1954'),\n",
       " (58, '1953'),\n",
       " (59, '1952'),\n",
       " (60, '1951'),\n",
       " (61, '1950')]"
      ]
     },
     "execution_count": 13,
     "metadata": {},
     "output_type": "execute_result"
    }
   ],
   "source": [
    "YEAR_ITEMS = []\n",
    "j = 2010\n",
    "for i in range(1, 62):\n",
    "    YEAR_ITEMS.append((i, str(j)))\n",
    "    j -= 1\n",
    "YEAR_ITEMS"
   ]
  },
  {
   "cell_type": "code",
   "execution_count": 16,
   "metadata": {},
   "outputs": [
    {
     "data": {
      "text/plain": [
       "[(1, '1'),\n",
       " (2, '2'),\n",
       " (3, '3'),\n",
       " (4, '4'),\n",
       " (5, '5'),\n",
       " (6, '6'),\n",
       " (7, '7'),\n",
       " (8, '8'),\n",
       " (9, '9'),\n",
       " (10, '10'),\n",
       " (11, '11'),\n",
       " (12, '12'),\n",
       " (13, '13'),\n",
       " (14, '14'),\n",
       " (15, '15'),\n",
       " (16, '16'),\n",
       " (17, '17'),\n",
       " (18, '18'),\n",
       " (19, '19'),\n",
       " (20, '20'),\n",
       " (21, '21'),\n",
       " (22, '22'),\n",
       " (23, '23'),\n",
       " (24, '24'),\n",
       " (25, '25'),\n",
       " (26, '26'),\n",
       " (27, '27'),\n",
       " (28, '28'),\n",
       " (29, '29'),\n",
       " (30, '30'),\n",
       " (31, '31')]"
      ]
     },
     "execution_count": 16,
     "metadata": {},
     "output_type": "execute_result"
    }
   ],
   "source": [
    "DATE_ITEMS = []\n",
    "m = 1\n",
    "for i in range(1, 32):\n",
    "    DATE_ITEMS.append((i, str(m)))\n",
    "    m += 1\n",
    "DATE_ITEMS"
   ]
  },
  {
   "cell_type": "code",
   "execution_count": null,
   "metadata": {},
   "outputs": [],
   "source": []
  }
 ],
 "metadata": {
  "kernelspec": {
   "display_name": "Python 3",
   "language": "python",
   "name": "python3"
  },
  "language_info": {
   "codemirror_mode": {
    "name": "ipython",
    "version": 3
   },
   "file_extension": ".py",
   "mimetype": "text/x-python",
   "name": "python",
   "nbconvert_exporter": "python",
   "pygments_lexer": "ipython3",
   "version": "3.7.6"
  }
 },
 "nbformat": 4,
 "nbformat_minor": 4
}
