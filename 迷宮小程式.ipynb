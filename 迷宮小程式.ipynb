{
 "cells": [
  {
   "cell_type": "code",
   "execution_count": 1,
   "metadata": {},
   "outputs": [],
   "source": [
    "#以矩陣表示，1代表牆壁，得到兩點可否相通\n",
    "def search_maze(m:list, s:list, e:list)->bool:\n",
    "    list = [s]\n",
    "    while list:\n",
    "        tamp = list\n",
    "        list = []\n",
    "        for i in tamp:\n",
    "            if (i[0] + 1) < len(m) and m[i[0] + 1][i[1]] == 0:\n",
    "                list.append([i[0] + 1, i[1]])\n",
    "            if (i[0] - 1) >= 0 and m[i[0] - 1][i[1]] == 0:\n",
    "                list.append([i[0] - 1, i[1]])\n",
    "            if (i[1] + 1) < len(m[0]) and m[i[0]][i[1] + 1] == 0:\n",
    "                list.append([i[0], i[1] + 1])\n",
    "            if (i[1] - 1) >= 0 and m[i[0]][i[1] - 1] == 0:\n",
    "                list.append([i[0], i[1] - 1])\n",
    "            m[i[0]][i[1]] = 1\n",
    "        if any(i == e for i in list):\n",
    "            return True\n",
    "    return False"
   ]
  },
  {
   "cell_type": "code",
   "execution_count": 2,
   "metadata": {},
   "outputs": [
    {
     "name": "stdout",
     "output_type": "stream",
     "text": [
      "True\n"
     ]
    }
   ],
   "source": [
    "m = [[0, 0, 1, 0], [0, 0, 0, 0], [0, 0, 0, 0], [0, 0, 1, 0], [1, 0, 0, 1], [0, 0, 0, 1]]\n",
    "print(search_maze(m, [2, 1], [2, 0]))"
   ]
  },
  {
   "cell_type": "code",
   "execution_count": 3,
   "metadata": {},
   "outputs": [
    {
     "name": "stdout",
     "output_type": "stream",
     "text": [
      "False\n"
     ]
    }
   ],
   "source": [
    "m = [[0, 1, 0, 1, 0, 0], [0, 0, 0, 1, 0, 0], [0, 0, 1, 0, 1, 1], [1, 0, 0, 0, 0, 0]]\n",
    "print(search_maze(m, [3, 1], [0, 4]))"
   ]
  },
  {
   "cell_type": "code",
   "execution_count": null,
   "metadata": {},
   "outputs": [],
   "source": []
  }
 ],
 "metadata": {
  "kernelspec": {
   "display_name": "Python 3",
   "language": "python",
   "name": "python3"
  },
  "language_info": {
   "codemirror_mode": {
    "name": "ipython",
    "version": 3
   },
   "file_extension": ".py",
   "mimetype": "text/x-python",
   "name": "python",
   "nbconvert_exporter": "python",
   "pygments_lexer": "ipython3",
   "version": "3.7.6"
  }
 },
 "nbformat": 4,
 "nbformat_minor": 4
}
