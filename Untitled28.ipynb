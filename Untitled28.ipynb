{
 "cells": [
  {
   "cell_type": "code",
   "execution_count": 5,
   "metadata": {},
   "outputs": [
    {
     "name": "stdout",
     "output_type": "stream",
     "text": [
      "任務進度: 100.0%434623813%1%%%%"
     ]
    }
   ],
   "source": [
    "#回傳每個角色與其他角色對線的數據(有被統計出來的才會回傳)\n",
    "import requests\n",
    "from bs4 import BeautifulSoup\n",
    "import numpy as np\n",
    "import pandas as pd\n",
    "def get_matchup():\n",
    "    dict = {'亞歷斯塔': '12', '亞菲利歐': '523', '伊澤瑞爾': '81', '伊瑞莉雅': '39', '伊羅旖': '420', '伊芙琳': '28', \n",
    "            '伊莉絲': '60', '克雷德': '240', '克黎思妲': '429', '凱爾': '10', '凱特琳': '51', '凱能': '85', '凱莎': '145', \n",
    "            '剎雅': '498', '剛普朗克': '41', '加里歐': '3', '努努和威朗普': '20', '劫': '238', '勒布朗': '7', '卡力斯': '121', \n",
    "            '卡爾瑟斯': '30', '卡特蓮娜': '55', '卡瑪': '43', '卡莎碧雅': '69', '卡薩丁': '38', '卡蜜兒': '164', \n",
    "            '厄薩斯': '266', '古拉格斯': '79', '史瓦妮': '113', '吉茵珂絲': '222', '吶兒': '150', '嘉文四世': '59', \n",
    "            '圖奇': '29', '埃爾文': '427', '塔莉雅': '163', '塔里克': '44', '塔隆': '91', '墨菲特': '54', '夜曲': '56', \n",
    "            '奈德麗': '76', '奧莉安娜': '61', '好運姐': '21', '妮可': '518', '姍娜': '235', '姬亞娜': '246', '威寇茲': '161', \n",
    "            '娜米': '267', '安妮': '1', '寇格魔': '96', '崔絲塔娜': '18', '巴德': '432', '布蘭德': '63', '布郎姆': '201', \n",
    "            '布里茨': '53', '希格斯': '115', '希瓦娜': '102', '希維爾': '15', '庫奇': '42', '弗力貝爾': '106', \n",
    "            '弗拉迪米爾': '8', '悟空': '62', '悠咪': '350', '慎': '98', '慨影': '141', '拉克絲': '99', '拉姆斯': '33', \n",
    "            '提摩': '17', '斯溫': '50', '易大師': '11', '星朵拉': '134', '札克': '154', '李星': '64', '杰西': '126', \n",
    "            '枷蘿': '143', '柔依': '142', '極靈': '26', '歐拉夫': '2', '汎': '67', '沃維克': '19', '法洛士': '110', \n",
    "            '波比': '78', '泰達米爾': '23', '派克': '555', '漢默丁格': '74', '潘森': '80', '烏爾加特': '6', '烏迪爾': '77', \n",
    "            '燼': '202', '特朗德': '48', '犽宿': '157', '珍娜': '40', '瑟雷西': '412', '科加斯': '31', '約瑞科': '83', \n",
    "            '納帝魯斯': '111', '納瑟斯': '75', '索娜': '37', '索拉卡': '16', '維克特': '112', '維迦': '45', '翱銳龍獸': '136', \n",
    "            '艾克': '245', '艾妮維亞': '34', '艾希': '22', '茂凱': '57', '菲歐拉': '114', '菲艾': '254', '葛雷夫': '104', \n",
    "            '葵恩': '133', '蒙多醫生': '36', '蓋倫': '86', '薩科': '35', '藍寶': '68', '貪啃奇': '223', '費德提克': '9', \n",
    "            '賈克斯': '24', '賽勒斯': '517', '賽恩': '14', '賽特': '875', '赫克林': '120', '趙信': '5', '路西恩': '236', \n",
    "            '辛吉德': '27', '逆命': '4', '達瑞文': '119', '達瑞斯': '122', '鄂爾': '516', '銳空': '497', '鏡爪': '203', \n",
    "            '阿卡莉': '84', '阿姆姆': '32', '阿璃': '103', '阿祈爾': '268', '雷尼克頓': '58', '雷歐娜': '89', '雷玟': '92', \n",
    "            '雷珂煞': '421', '雷茲': '13', '雷葛爾': '107', '露璐': '117', '飛斯': '105', '馬爾札哈': '90', '魔甘娜': '25', \n",
    "            '魔鬥凱薩': '82', '麗珊卓': '127', '黛安娜': '131', '齊勒斯': '101', '史加納': '72'}\n",
    "    tamp = []\n",
    "    count = 0\n",
    "    for key_a, value_a in dict.items():\n",
    "        for key_b, value_b in dict.items():\n",
    "            url = f'https://www.op.gg/champion/ajax/statistics/counterChampion/championId={value_a}&targetChampionId={value_b}&position=adc'\n",
    "            r = requests.get(url)\n",
    "            soup = BeautifulSoup(r.text, 'html.parser')\n",
    "            list = soup.find_all(\"td\", class_=\"champion-matchup-data\") \n",
    "            if list:\n",
    "                tamp.append(key_a)\n",
    "                tamp.append(key_b)\n",
    "                tamp.append(3)\n",
    "                tamp.append(float(list[10].get_text(strip=True).replace(\"%\", \"\")) * 0.01)         \n",
    "                tamp.append(float(list[0].get_text(strip=True).replace(\"%\", \"\")) / \n",
    "                            (float(list[0].get_text(strip=True).replace(\"%\", \"\")) + float(list[1].get_text(strip=True).replace(\"%\", \"\"))))\n",
    "                tamp.append(float(list[2].get_text(strip=True).partition(' :')[0]) / \n",
    "                            (float(list[2].get_text(strip=True).partition(' :')[0]) + float(list[3].get_text(strip=True).partition(' :')[0])))\n",
    "                tamp.append(float(list[4].get_text(strip=True).replace(\"%\", \"\")) / \n",
    "                            (float(list[4].get_text(strip=True).replace(\"%\", \"\")) + float(list[5].get_text(strip=True).replace(\"%\", \"\"))))\n",
    "                tamp.append(float(list[6].get_text(strip=True).replace(\",\", \"\")) / \n",
    "                            (float(list[6].get_text(strip=True).replace(\",\", \"\")) + float(list[7].get_text(strip=True).replace(\",\", \"\"))))\n",
    "            count += 1\n",
    "            print(u\"\\r任務進度: \" + str((count * 100) / (148*148)) + \"%\", end=\"\")            \n",
    "    df = pd.DataFrame(np.reshape(tamp, (-1, 8)))\n",
    "    df.columns = ['summoner_a', 'summoner_b', 'position', 'win_rate', 'lane_kill_rate', 'kda', 'kill_participate', 'damage']\n",
    "    return df\n",
    "get_matchup().to_csv(\"info_adc.csv\", encoding=\"utf-8\") "
   ]
  },
  {
   "cell_type": "code",
   "execution_count": 6,
   "metadata": {},
   "outputs": [],
   "source": [
    "df = pd.read_csv(\"info.csv\")\n",
    "df2 = pd.read_csv(\"info_adc.csv\")"
   ]
  },
  {
   "cell_type": "code",
   "execution_count": 7,
   "metadata": {},
   "outputs": [],
   "source": [
    "df = df.append(df2)"
   ]
  },
  {
   "cell_type": "code",
   "execution_count": 9,
   "metadata": {},
   "outputs": [],
   "source": [
    "df.to_csv(\"info_correct.csv\", encoding=\"utf-8\") "
   ]
  },
  {
   "cell_type": "code",
   "execution_count": null,
   "metadata": {},
   "outputs": [],
   "source": []
  }
 ],
 "metadata": {
  "kernelspec": {
   "display_name": "Python 3",
   "language": "python",
   "name": "python3"
  },
  "language_info": {
   "codemirror_mode": {
    "name": "ipython",
    "version": 3
   },
   "file_extension": ".py",
   "mimetype": "text/x-python",
   "name": "python",
   "nbconvert_exporter": "python",
   "pygments_lexer": "ipython3",
   "version": "3.7.6"
  }
 },
 "nbformat": 4,
 "nbformat_minor": 4
}
