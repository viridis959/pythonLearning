{
 "cells": [
  {
   "cell_type": "code",
   "execution_count": 7,
   "metadata": {},
   "outputs": [],
   "source": [
    "#回傳年份在天干、地支、十二生肖字串的序位\n",
    "def skyGround(x):\n",
    "    sky = \"甲乙丙丁戊己庚辛壬癸\"\n",
    "    ground = \"子醜寅卯辰巳午未申酉戌亥\"\n",
    "    animal = \"鼠牛虎兔龍蛇馬羊猴雞狗豬\"\n",
    "    return sky[(x + 6) % 10] + ground[(x + 8) % 12] + animal[(x + 8) % 12]"
   ]
  },
  {
   "cell_type": "code",
   "execution_count": 8,
   "metadata": {},
   "outputs": [],
   "source": [
    "#回傳年份為平或閏年\n",
    "def leap(x):\n",
    "    if (x % 4 == 0) & (x % 100 != 0):\n",
    "        return \"閏\"\n",
    "    elif x % 400 == 0:\n",
    "        return \"閏\"\n",
    "    else:\n",
    "        return \"平\""
   ]
  },
  {
   "cell_type": "code",
   "execution_count": 9,
   "metadata": {},
   "outputs": [
    {
     "name": "stdout",
     "output_type": "stream",
     "text": [
      "請輸入年份:2019\n",
      "2019年為己亥豬年(平年)\n"
     ]
    }
   ],
   "source": [
    "#輸入輸出\n",
    "year = int(input(\"請輸入年份:\"))\n",
    "print(\"{}年為{}年({}年)\".format(year, skyGround(year), leap(year)))"
   ]
  },
  {
   "cell_type": "code",
   "execution_count": null,
   "metadata": {},
   "outputs": [],
   "source": []
  }
 ],
 "metadata": {
  "kernelspec": {
   "display_name": "Python 3",
   "language": "python",
   "name": "python3"
  },
  "language_info": {
   "codemirror_mode": {
    "name": "ipython",
    "version": 3
   },
   "file_extension": ".py",
   "mimetype": "text/x-python",
   "name": "python",
   "nbconvert_exporter": "python",
   "pygments_lexer": "ipython3",
   "version": "3.7.4"
  }
 },
 "nbformat": 4,
 "nbformat_minor": 2
}
