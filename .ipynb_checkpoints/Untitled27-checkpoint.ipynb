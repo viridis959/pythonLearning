{
 "cells": [
  {
   "cell_type": "code",
   "execution_count": 1,
   "metadata": {},
   "outputs": [],
   "source": [
    "for i in []:\n",
    "    print(i)"
   ]
  },
  {
   "cell_type": "code",
   "execution_count": 3,
   "metadata": {},
   "outputs": [
    {
     "data": {
      "text/plain": [
       "False"
      ]
     },
     "execution_count": 3,
     "metadata": {},
     "output_type": "execute_result"
    }
   ],
   "source": [
    "[2, 1, 1, 1] == sorted([2, 1, 1, 1])"
   ]
  },
  {
   "cell_type": "code",
   "execution_count": 6,
   "metadata": {},
   "outputs": [
    {
     "name": "stdout",
     "output_type": "stream",
     "text": [
      "(1, 2, 2, 1)\n",
      "(1, 2, 1, 2)\n",
      "(1, 2, 2, 1)\n",
      "(1, 2, 1, 2)\n",
      "(1, 1, 2, 2)\n",
      "(1, 1, 2, 2)\n",
      "(2, 1, 2, 1)\n",
      "(2, 1, 1, 2)\n",
      "(2, 2, 1, 1)\n",
      "(2, 2, 1, 1)\n",
      "(2, 1, 1, 2)\n",
      "(2, 1, 2, 1)\n",
      "(2, 1, 2, 1)\n",
      "(2, 1, 1, 2)\n",
      "(2, 2, 1, 1)\n",
      "(2, 2, 1, 1)\n",
      "(2, 1, 1, 2)\n",
      "(2, 1, 2, 1)\n",
      "(1, 1, 2, 2)\n",
      "(1, 1, 2, 2)\n",
      "(1, 2, 1, 2)\n",
      "(1, 2, 2, 1)\n",
      "(1, 2, 1, 2)\n",
      "(1, 2, 2, 1)\n"
     ]
    }
   ],
   "source": [
    "import itertools\n",
    "for i in itertools.permutations([1, 2, 2, 1]):\n",
    "    print(i)"
   ]
  },
  {
   "cell_type": "code",
   "execution_count": 9,
   "metadata": {},
   "outputs": [
    {
     "data": {
      "text/plain": [
       "[[1, 2, 2, 1],\n",
       " [1, 2, 1, 2],\n",
       " [1, 1, 2, 2],\n",
       " [2, 1, 2, 1],\n",
       " [2, 1, 1, 2],\n",
       " [2, 2, 1, 1]]"
      ]
     },
     "execution_count": 9,
     "metadata": {},
     "output_type": "execute_result"
    }
   ],
   "source": [
    "c = []\n",
    "for i in itertools.permutations([1, 2, 2, 1]):\n",
    "        if list(i) not in c:\n",
    "            c.append(list(i))\n",
    "c"
   ]
  },
  {
   "cell_type": "code",
   "execution_count": 13,
   "metadata": {},
   "outputs": [
    {
     "data": {
      "text/plain": [
       "[1, 1, 2, 2]"
      ]
     },
     "execution_count": 13,
     "metadata": {},
     "output_type": "execute_result"
    }
   ],
   "source": [
    "[1,1,2,2].copy()"
   ]
  },
  {
   "cell_type": "code",
   "execution_count": 14,
   "metadata": {},
   "outputs": [
    {
     "name": "stdout",
     "output_type": "stream",
     "text": [
      "['1', '2', '3']\n",
      "['1', '2', '-']\n",
      "['1', '-', '3']\n",
      "['1', '-', '-']\n",
      "['-', '2', '3']\n",
      "['-', '2', '-']\n",
      "['-', '-', '3']\n",
      "['-', '-', '-']\n"
     ]
    }
   ],
   "source": [
    "def do_backtrack(a:list, inputs:list):\n",
    "    c = []\n",
    "    if (is_a_solution(a, inputs)):\n",
    "        process_solution(a, inputs)\n",
    "    else:\n",
    "        construct_candidate(a, inputs, c)\n",
    "        for i in c:\n",
    "            a.append(i)\n",
    "            do_backtrack(a, inputs)\n",
    "            a.pop()\n",
    "            \n",
    "def is_a_solution(a:list, inputs:list)->bool:\n",
    "    return len(a) == len(inputs)\n",
    "\n",
    "def construct_candidate(a:list, inputs:list, c:list):\n",
    "    c.append(True)\n",
    "    c.append(False)\n",
    "\n",
    "def process_solution(a:list, inputs:list):\n",
    "    # print([inputs[i] for i, x in enumerate(a) if x])\n",
    "    print([inputs[i] if x else '-' for i, x in enumerate(a)])\n",
    "    \n",
    "do_backtrack([],['1','2','3'])\n"
   ]
  },
  {
   "cell_type": "code",
   "execution_count": 25,
   "metadata": {},
   "outputs": [
    {
     "name": "stdout",
     "output_type": "stream",
     "text": [
      "[1]\n",
      "[1, 2]\n",
      "[1, 2, 2]\n",
      "[1, 2, 2, 1]\n",
      "[2]\n",
      "[2, 2]\n",
      "[1]\n",
      "[1, 1]\n",
      "[1]\n",
      "[1, 1]\n",
      "[2]\n",
      "[2, 2]\n",
      "\n"
     ]
    }
   ],
   "source": [
    "def do_backtrack(a:list, inputs:list):\n",
    "    c = []\n",
    "    if (is_a_solution(a, inputs)):\n",
    "        process_solution(a, inputs)\n",
    "        print(\"1\")\n",
    "    else:\n",
    "        construct_candidate(a, inputs, c)\n",
    "        for i in c:\n",
    "            a.append(i)\n",
    "            do_backtrack(a, inputs)\n",
    "            a.pop()\n",
    "            \n",
    "def is_a_solution(a:list, inputs:list)->bool:\n",
    "    return len(a) == len(inputs)\n",
    "def construct_candidate(a:list, inputs:list, c:list):\n",
    "    for i in inputs:\n",
    "        if i not in a:\n",
    "            c.append(i)\n",
    "def process_solution(a:list, inputs:list):\n",
    "    solution.append(a.copy())\n",
    "solution = []    \n",
    "do_backtrack([],[1, 2, 2, 1])\n",
    "print()"
   ]
  },
  {
   "cell_type": "code",
   "execution_count": null,
   "metadata": {},
   "outputs": [],
   "source": []
  }
 ],
 "metadata": {
  "kernelspec": {
   "display_name": "Python 3",
   "language": "python",
   "name": "python3"
  },
  "language_info": {
   "codemirror_mode": {
    "name": "ipython",
    "version": 3
   },
   "file_extension": ".py",
   "mimetype": "text/x-python",
   "name": "python",
   "nbconvert_exporter": "python",
   "pygments_lexer": "ipython3",
   "version": "3.7.6"
  }
 },
 "nbformat": 4,
 "nbformat_minor": 4
}
