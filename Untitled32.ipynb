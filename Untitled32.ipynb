{
 "cells": [
  {
   "cell_type": "code",
   "execution_count": 1,
   "metadata": {},
   "outputs": [],
   "source": [
    "import os\n",
    "import pandas as pd\n",
    "import torch\n",
    "import torch.nn as nn\n",
    "import torch.nn.functional as F\n",
    "from sklearn.model_selection import train_test_split\n",
    "from sklearn.preprocessing import MinMaxScaler\n",
    "import torch.optim as optim\n",
    "import numpy as np\n",
    "from sklearn.metrics import accuracy_score"
   ]
  },
  {
   "cell_type": "code",
   "execution_count": 2,
   "metadata": {},
   "outputs": [],
   "source": [
    "data = pd.read_csv(\"euw.csv\")"
   ]
  },
  {
   "cell_type": "code",
   "execution_count": 3,
   "metadata": {},
   "outputs": [],
   "source": [
    "del data[\"Unnamed: 0\"]"
   ]
  },
  {
   "cell_type": "code",
   "execution_count": 4,
   "metadata": {},
   "outputs": [
    {
     "name": "stdout",
     "output_type": "stream",
     "text": [
      "      result  top_win_rate  top_lane_kill_rate   top_kda  \\\n",
      "8339       0        0.5006              0.3883  0.411765   \n",
      "8340       1        0.4941              0.5486  0.526027   \n",
      "8341       1        0.4720              0.4838  0.461728   \n",
      "8342       1        0.5010              0.4616  0.530474   \n",
      "8343       1        0.5214              0.4366  0.518433   \n",
      "\n",
      "      top_kill_participate  top_damage  jg_win_rate    jg_kda  \\\n",
      "8339              0.473118    0.454192       0.4815  0.507071   \n",
      "8340              0.503392    0.481299       0.4989  0.436300   \n",
      "8341              0.455516    0.468515       0.4908  0.533898   \n",
      "8342              0.481700    0.458139       0.4867  0.468619   \n",
      "8343              0.508454    0.529423       0.5194  0.498062   \n",
      "\n",
      "      jg_kill_participate  jg_damage  ...  mid_damage  adc_win_rate  \\\n",
      "8339             0.507389   0.455516  ...    0.527254        0.4971   \n",
      "8340             0.455106   0.572070  ...    0.460571        0.4619   \n",
      "8341             0.514342   0.507757  ...    0.420675        0.4738   \n",
      "8342             0.507508   0.494272  ...    0.568611        0.4791   \n",
      "8343             0.493384   0.543305  ...    0.525691        0.5192   \n",
      "\n",
      "      adc_lane_kill_rate   adc_kda  adc_kill_participate  adc_damage  \\\n",
      "8339              0.5134  0.494424              0.504578    0.511285   \n",
      "8340              0.4803  0.498990              0.519481    0.517857   \n",
      "8341              0.5419  0.512245              0.508964    0.503445   \n",
      "8342              0.4344  0.464000              0.469368    0.472625   \n",
      "8343              0.5916  0.591837              0.540434    0.517132   \n",
      "\n",
      "      sup_win_rate  sup_lane_kill_rate   sup_kda  sup_kill_participate  \n",
      "8339        0.4891              0.5778  0.428309              0.485242  \n",
      "8340        0.5397              0.4512  0.556377              0.531034  \n",
      "8341        0.5282              0.4836  0.396252              0.473068  \n",
      "8342        0.4900              0.6190  0.454044              0.498297  \n",
      "8343        0.5325              0.3924  0.521898              0.500568  \n",
      "\n",
      "[5 rows x 24 columns]\n"
     ]
    }
   ],
   "source": [
    "print(data.tail())"
   ]
  },
  {
   "cell_type": "code",
   "execution_count": 6,
   "metadata": {},
   "outputs": [
    {
     "ename": "NameError",
     "evalue": "name 'label' is not defined",
     "output_type": "error",
     "traceback": [
      "\u001b[1;31m---------------------------------------------------------------------------\u001b[0m",
      "\u001b[1;31mNameError\u001b[0m                                 Traceback (most recent call last)",
      "\u001b[1;32m<ipython-input-6-f4d61915e04e>\u001b[0m in \u001b[0;36m<module>\u001b[1;34m\u001b[0m\n\u001b[0;32m      2\u001b[0m \u001b[0mdata_scaled\u001b[0m \u001b[1;33m=\u001b[0m \u001b[0mscaler\u001b[0m\u001b[1;33m.\u001b[0m\u001b[0mfit_transform\u001b[0m\u001b[1;33m(\u001b[0m\u001b[0mdata\u001b[0m\u001b[1;33m)\u001b[0m\u001b[1;33m\u001b[0m\u001b[1;33m\u001b[0m\u001b[0m\n\u001b[0;32m      3\u001b[0m \u001b[0mdata\u001b[0m \u001b[1;33m=\u001b[0m \u001b[0mpd\u001b[0m\u001b[1;33m.\u001b[0m\u001b[0mDataFrame\u001b[0m\u001b[1;33m(\u001b[0m\u001b[0mdata_scaled\u001b[0m\u001b[1;33m)\u001b[0m\u001b[1;33m\u001b[0m\u001b[1;33m\u001b[0m\u001b[0m\n\u001b[1;32m----> 4\u001b[1;33m \u001b[0mtrain_x\u001b[0m\u001b[1;33m,\u001b[0m \u001b[0mtest_x\u001b[0m\u001b[1;33m,\u001b[0m \u001b[0mtrain_y\u001b[0m\u001b[1;33m,\u001b[0m \u001b[0mtest_y\u001b[0m \u001b[1;33m=\u001b[0m \u001b[0mtrain_test_split\u001b[0m\u001b[1;33m(\u001b[0m\u001b[0mdata\u001b[0m\u001b[1;33m,\u001b[0m \u001b[0mlabel\u001b[0m\u001b[1;33m,\u001b[0m \u001b[0mtest_size\u001b[0m \u001b[1;33m=\u001b[0m \u001b[1;36m0.1\u001b[0m\u001b[1;33m,\u001b[0m \u001b[0mshuffle\u001b[0m\u001b[1;33m=\u001b[0m\u001b[1;32mFalse\u001b[0m\u001b[1;33m)\u001b[0m\u001b[1;33m\u001b[0m\u001b[1;33m\u001b[0m\u001b[0m\n\u001b[0m",
      "\u001b[1;31mNameError\u001b[0m: name 'label' is not defined"
     ]
    }
   ],
   "source": [
    "scaler = MinMaxScaler()\n",
    "data_scaled = scaler.fit_transform(data)\n",
    "data = pd.DataFrame(data_scaled)\n",
    "train_x, test_x, train_y, test_y = train_test_split(data, label, test_size = 0.1, shuffle=False)"
   ]
  },
  {
   "cell_type": "code",
   "execution_count": null,
   "metadata": {},
   "outputs": [],
   "source": []
  }
 ],
 "metadata": {
  "kernelspec": {
   "display_name": "Python 3",
   "language": "python",
   "name": "python3"
  },
  "language_info": {
   "codemirror_mode": {
    "name": "ipython",
    "version": 3
   },
   "file_extension": ".py",
   "mimetype": "text/x-python",
   "name": "python",
   "nbconvert_exporter": "python",
   "pygments_lexer": "ipython3",
   "version": "3.7.6"
  }
 },
 "nbformat": 4,
 "nbformat_minor": 4
}
