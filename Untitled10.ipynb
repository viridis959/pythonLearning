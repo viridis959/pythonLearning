{
 "cells": [
  {
   "cell_type": "code",
   "execution_count": 1,
   "metadata": {},
   "outputs": [
    {
     "name": "stdout",
     "output_type": "stream",
     "text": [
      " 磁碟區 C 中的磁碟是 OS\n",
      " 磁碟區序號:  668C-B2B9\n",
      "\n",
      " C:\\Users\\viridis\\Desktop\\pythonLearning 的目錄\n",
      "\n",
      "2020/03/19  下午 07:05    <DIR>          .\n",
      "2020/03/19  下午 07:05    <DIR>          ..\n",
      "2020/03/12  下午 03:18           109,856 bobby.jpg\n",
      "2020/03/03  下午 06:38            30,283 camera.ipynb\n",
      "2020/03/11  上午 06:51            26,624 Countrydata.xls\n",
      "2020/03/18  下午 11:05         3,647,233 credit_risk_after.csv\n",
      "2020/03/18  下午 11:05         5,539,328 default of credit card clients.xls\n",
      "2020/03/03  下午 06:06            44,077 hEEeNUv.jpg\n",
      "2020/03/12  下午 03:47            22,673 imagenet_classess.txt\n",
      "2020/03/03  下午 02:39            25,515 justTest.ipynb\n",
      "2020/03/03  下午 05:05            18,341 M.ipynb\n",
      "2020/03/12  下午 02:31            76,083 MITC_03_12.ipynb\n",
      "2020/03/18  下午 11:05           104,835 MITC_0319.ipynb\n",
      "2020/03/18  上午 11:18               547 README.ipynb\n",
      "2020/03/18  上午 11:18                15 README.md\n",
      "2020/03/03  下午 06:21            51,877 Taipei.ipynb\n",
      "2020/03/03  下午 03:21            72,851 Untitled.ipynb\n",
      "2020/03/04  上午 09:10               555 Untitled1.ipynb\n",
      "2020/03/19  下午 07:05               555 Untitled10.ipynb\n",
      "2020/03/05  下午 08:23             6,804 Untitled2.ipynb\n",
      "2020/03/11  下午 08:19           132,891 Untitled3.ipynb\n",
      "2020/03/12  下午 04:22         1,428,376 Untitled4.ipynb\n",
      "2020/03/12  下午 08:06            38,020 Untitled5.ipynb\n",
      "2020/03/12  下午 09:03            61,265 Untitled6.ipynb\n",
      "2020/03/17  下午 04:56             8,646 Untitled7.ipynb\n",
      "2020/03/18  下午 08:49            25,741 Untitled8.ipynb\n",
      "2020/03/19  下午 06:49           109,611 Untitled9.ipynb\n",
      "2020/03/10  下午 01:54             1,826 天干地支平閏判斷.ipynb\n",
      "2020/03/17  下午 08:15             1,737 可否從一組字串組出我想要的單字(不能重複拿).ipynb\n",
      "2020/03/17  下午 08:05             2,887 刪除一list裡所有的指定數字.ipynb\n",
      "2020/03/03  下午 09:12             4,989 爬蟲網頁並排名.ipynb\n",
      "2020/03/17  下午 07:00             1,816 將一tuple的第一項和最後一項對調.ipynb\n",
      "2020/03/06  上午 12:06             6,375 羅恩力_第二週.ipynb\n",
      "2020/03/12  上午 02:55            14,071 羅恩力_第三週.ipynb\n",
      "2020/03/12  下午 08:10             6,251 羅恩力_第四週.ipynb\n",
      "              33 個檔案      11,622,554 位元組\n",
      "               2 個目錄  51,809,124,352 位元組可用\n"
     ]
    }
   ],
   "source": [
    "ls"
   ]
  },
  {
   "cell_type": "code",
   "execution_count": 2,
   "metadata": {},
   "outputs": [],
   "source": [
    "import pandas as pd\n",
    "import numpy as np"
   ]
  },
  {
   "cell_type": "code",
   "execution_count": 5,
   "metadata": {},
   "outputs": [],
   "source": [
    "df = pd.read_csv(\"credit_risk_after.csv\")"
   ]
  },
  {
   "cell_type": "code",
   "execution_count": 6,
   "metadata": {},
   "outputs": [
    {
     "data": {
      "text/html": [
       "<div>\n",
       "<style scoped>\n",
       "    .dataframe tbody tr th:only-of-type {\n",
       "        vertical-align: middle;\n",
       "    }\n",
       "\n",
       "    .dataframe tbody tr th {\n",
       "        vertical-align: top;\n",
       "    }\n",
       "\n",
       "    .dataframe thead th {\n",
       "        text-align: right;\n",
       "    }\n",
       "</style>\n",
       "<table border=\"1\" class=\"dataframe\">\n",
       "  <thead>\n",
       "    <tr style=\"text-align: right;\">\n",
       "      <th></th>\n",
       "      <th>Unnamed: 0</th>\n",
       "      <th>LIMIT_BAL</th>\n",
       "      <th>AGE</th>\n",
       "      <th>PAY_0</th>\n",
       "      <th>PAY_2</th>\n",
       "      <th>PAY_3</th>\n",
       "      <th>PAY_4</th>\n",
       "      <th>PAY_5</th>\n",
       "      <th>PAY_6</th>\n",
       "      <th>BILL_AMT1</th>\n",
       "      <th>...</th>\n",
       "      <th>PAY_AMT6</th>\n",
       "      <th>Education_O</th>\n",
       "      <th>graduate</th>\n",
       "      <th>university</th>\n",
       "      <th>highschool</th>\n",
       "      <th>Marriage_O</th>\n",
       "      <th>Married</th>\n",
       "      <th>Single</th>\n",
       "      <th>Male</th>\n",
       "      <th>Female</th>\n",
       "    </tr>\n",
       "  </thead>\n",
       "  <tbody>\n",
       "    <tr>\n",
       "      <th>0</th>\n",
       "      <td>0</td>\n",
       "      <td>20000</td>\n",
       "      <td>24</td>\n",
       "      <td>2</td>\n",
       "      <td>2</td>\n",
       "      <td>-1</td>\n",
       "      <td>-1</td>\n",
       "      <td>-2</td>\n",
       "      <td>-2</td>\n",
       "      <td>3913</td>\n",
       "      <td>...</td>\n",
       "      <td>0</td>\n",
       "      <td>0</td>\n",
       "      <td>0.0</td>\n",
       "      <td>1.0</td>\n",
       "      <td>0.0</td>\n",
       "      <td>0.0</td>\n",
       "      <td>1.0</td>\n",
       "      <td>0.0</td>\n",
       "      <td>0.0</td>\n",
       "      <td>1.0</td>\n",
       "    </tr>\n",
       "    <tr>\n",
       "      <th>1</th>\n",
       "      <td>1</td>\n",
       "      <td>120000</td>\n",
       "      <td>26</td>\n",
       "      <td>-1</td>\n",
       "      <td>2</td>\n",
       "      <td>0</td>\n",
       "      <td>0</td>\n",
       "      <td>0</td>\n",
       "      <td>2</td>\n",
       "      <td>2682</td>\n",
       "      <td>...</td>\n",
       "      <td>2000</td>\n",
       "      <td>0</td>\n",
       "      <td>0.0</td>\n",
       "      <td>1.0</td>\n",
       "      <td>0.0</td>\n",
       "      <td>0.0</td>\n",
       "      <td>0.0</td>\n",
       "      <td>1.0</td>\n",
       "      <td>0.0</td>\n",
       "      <td>1.0</td>\n",
       "    </tr>\n",
       "    <tr>\n",
       "      <th>2</th>\n",
       "      <td>2</td>\n",
       "      <td>90000</td>\n",
       "      <td>34</td>\n",
       "      <td>0</td>\n",
       "      <td>0</td>\n",
       "      <td>0</td>\n",
       "      <td>0</td>\n",
       "      <td>0</td>\n",
       "      <td>0</td>\n",
       "      <td>29239</td>\n",
       "      <td>...</td>\n",
       "      <td>5000</td>\n",
       "      <td>0</td>\n",
       "      <td>0.0</td>\n",
       "      <td>1.0</td>\n",
       "      <td>0.0</td>\n",
       "      <td>0.0</td>\n",
       "      <td>0.0</td>\n",
       "      <td>1.0</td>\n",
       "      <td>0.0</td>\n",
       "      <td>1.0</td>\n",
       "    </tr>\n",
       "    <tr>\n",
       "      <th>3</th>\n",
       "      <td>3</td>\n",
       "      <td>50000</td>\n",
       "      <td>37</td>\n",
       "      <td>0</td>\n",
       "      <td>0</td>\n",
       "      <td>0</td>\n",
       "      <td>0</td>\n",
       "      <td>0</td>\n",
       "      <td>0</td>\n",
       "      <td>46990</td>\n",
       "      <td>...</td>\n",
       "      <td>1000</td>\n",
       "      <td>0</td>\n",
       "      <td>0.0</td>\n",
       "      <td>1.0</td>\n",
       "      <td>0.0</td>\n",
       "      <td>0.0</td>\n",
       "      <td>1.0</td>\n",
       "      <td>0.0</td>\n",
       "      <td>0.0</td>\n",
       "      <td>1.0</td>\n",
       "    </tr>\n",
       "    <tr>\n",
       "      <th>4</th>\n",
       "      <td>4</td>\n",
       "      <td>50000</td>\n",
       "      <td>57</td>\n",
       "      <td>-1</td>\n",
       "      <td>0</td>\n",
       "      <td>-1</td>\n",
       "      <td>0</td>\n",
       "      <td>0</td>\n",
       "      <td>0</td>\n",
       "      <td>8617</td>\n",
       "      <td>...</td>\n",
       "      <td>679</td>\n",
       "      <td>0</td>\n",
       "      <td>0.0</td>\n",
       "      <td>1.0</td>\n",
       "      <td>0.0</td>\n",
       "      <td>0.0</td>\n",
       "      <td>1.0</td>\n",
       "      <td>0.0</td>\n",
       "      <td>1.0</td>\n",
       "      <td>0.0</td>\n",
       "    </tr>\n",
       "  </tbody>\n",
       "</table>\n",
       "<p>5 rows × 30 columns</p>\n",
       "</div>"
      ],
      "text/plain": [
       "   Unnamed: 0  LIMIT_BAL  AGE  PAY_0  PAY_2  PAY_3  PAY_4  PAY_5  PAY_6  \\\n",
       "0           0      20000   24      2      2     -1     -1     -2     -2   \n",
       "1           1     120000   26     -1      2      0      0      0      2   \n",
       "2           2      90000   34      0      0      0      0      0      0   \n",
       "3           3      50000   37      0      0      0      0      0      0   \n",
       "4           4      50000   57     -1      0     -1      0      0      0   \n",
       "\n",
       "   BILL_AMT1  ...  PAY_AMT6  Education_O  graduate  university  highschool  \\\n",
       "0       3913  ...         0            0       0.0         1.0         0.0   \n",
       "1       2682  ...      2000            0       0.0         1.0         0.0   \n",
       "2      29239  ...      5000            0       0.0         1.0         0.0   \n",
       "3      46990  ...      1000            0       0.0         1.0         0.0   \n",
       "4       8617  ...       679            0       0.0         1.0         0.0   \n",
       "\n",
       "   Marriage_O  Married  Single  Male  Female  \n",
       "0         0.0      1.0     0.0   0.0     1.0  \n",
       "1         0.0      0.0     1.0   0.0     1.0  \n",
       "2         0.0      0.0     1.0   0.0     1.0  \n",
       "3         0.0      1.0     0.0   0.0     1.0  \n",
       "4         0.0      1.0     0.0   1.0     0.0  \n",
       "\n",
       "[5 rows x 30 columns]"
      ]
     },
     "execution_count": 6,
     "metadata": {},
     "output_type": "execute_result"
    }
   ],
   "source": [
    "df.head()"
   ]
  },
  {
   "cell_type": "code",
   "execution_count": 7,
   "metadata": {},
   "outputs": [
    {
     "data": {
      "text/plain": [
       "Index(['Unnamed: 0', 'LIMIT_BAL', 'AGE', 'PAY_0', 'PAY_2', 'PAY_3', 'PAY_4',\n",
       "       'PAY_5', 'PAY_6', 'BILL_AMT1', 'BILL_AMT2', 'BILL_AMT3', 'BILL_AMT4',\n",
       "       'BILL_AMT5', 'BILL_AMT6', 'PAY_AMT1', 'PAY_AMT2', 'PAY_AMT3',\n",
       "       'PAY_AMT4', 'PAY_AMT5', 'PAY_AMT6', 'Education_O', 'graduate',\n",
       "       'university', 'highschool', 'Marriage_O', 'Married', 'Single', 'Male',\n",
       "       'Female'],\n",
       "      dtype='object')"
      ]
     },
     "execution_count": 7,
     "metadata": {},
     "output_type": "execute_result"
    }
   ],
   "source": [
    "df.columns"
   ]
  },
  {
   "cell_type": "code",
   "execution_count": 9,
   "metadata": {},
   "outputs": [],
   "source": [
    "df = df.drop(columns = df.columns[0])"
   ]
  },
  {
   "cell_type": "code",
   "execution_count": 10,
   "metadata": {},
   "outputs": [],
   "source": [
    "from sklearn.model_selection import train_test_split"
   ]
  },
  {
   "cell_type": "code",
   "execution_count": 13,
   "metadata": {},
   "outputs": [
    {
     "ename": "NameError",
     "evalue": "name 'X' is not defined",
     "output_type": "error",
     "traceback": [
      "\u001b[1;31m---------------------------------------------------------------------------\u001b[0m",
      "\u001b[1;31mNameError\u001b[0m                                 Traceback (most recent call last)",
      "\u001b[1;32m<ipython-input-13-f7b9ae5ab0b1>\u001b[0m in \u001b[0;36m<module>\u001b[1;34m\u001b[0m\n\u001b[1;32m----> 1\u001b[1;33m \u001b[0mX_train\u001b[0m\u001b[1;33m,\u001b[0m \u001b[0mX_test\u001b[0m\u001b[1;33m,\u001b[0m \u001b[0mY_train\u001b[0m\u001b[1;33m,\u001b[0m \u001b[0mY_test\u001b[0m \u001b[1;33m=\u001b[0m \u001b[0mtrain_test_split\u001b[0m\u001b[1;33m(\u001b[0m\u001b[0mX\u001b[0m\u001b[1;33m,\u001b[0m \u001b[0mY\u001b[0m\u001b[1;33m,\u001b[0m \u001b[0mtest_size\u001b[0m \u001b[1;33m=\u001b[0m\u001b[1;36m0.3\u001b[0m\u001b[1;33m,\u001b[0m \u001b[0mrandom_state\u001b[0m \u001b[1;33m=\u001b[0m \u001b[1;36m87\u001b[0m\u001b[1;33m)\u001b[0m\u001b[1;33m\u001b[0m\u001b[1;33m\u001b[0m\u001b[0m\n\u001b[0m",
      "\u001b[1;31mNameError\u001b[0m: name 'X' is not defined"
     ]
    }
   ],
   "source": [
    "X_train, X_test, Y_train, Y_test = train_test_split(X, Y, test_size =0.3, random_state = 87)"
   ]
  },
  {
   "cell_type": "code",
   "execution_count": 12,
   "metadata": {},
   "outputs": [
    {
     "ename": "NameError",
     "evalue": "name 'X_train' is not defined",
     "output_type": "error",
     "traceback": [
      "\u001b[1;31m---------------------------------------------------------------------------\u001b[0m",
      "\u001b[1;31mNameError\u001b[0m                                 Traceback (most recent call last)",
      "\u001b[1;32m<ipython-input-12-d2ba684acd0f>\u001b[0m in \u001b[0;36m<module>\u001b[1;34m\u001b[0m\n\u001b[1;32m----> 1\u001b[1;33m \u001b[0mX_train\u001b[0m\u001b[1;33m.\u001b[0m\u001b[0mshape\u001b[0m\u001b[1;33m\u001b[0m\u001b[1;33m\u001b[0m\u001b[0m\n\u001b[0m",
      "\u001b[1;31mNameError\u001b[0m: name 'X_train' is not defined"
     ]
    }
   ],
   "source": [
    "X_train.shape"
   ]
  },
  {
   "cell_type": "code",
   "execution_count": null,
   "metadata": {},
   "outputs": [],
   "source": []
  }
 ],
 "metadata": {
  "kernelspec": {
   "display_name": "Python 3",
   "language": "python",
   "name": "python3"
  },
  "language_info": {
   "codemirror_mode": {
    "name": "ipython",
    "version": 3
   },
   "file_extension": ".py",
   "mimetype": "text/x-python",
   "name": "python",
   "nbconvert_exporter": "python",
   "pygments_lexer": "ipython3",
   "version": "3.7.6"
  }
 },
 "nbformat": 4,
 "nbformat_minor": 4
}
