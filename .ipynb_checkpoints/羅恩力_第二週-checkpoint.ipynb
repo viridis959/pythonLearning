{
 "cells": [
  {
   "cell_type": "markdown",
   "metadata": {},
   "source": [
    "# 猜數字遊戲"
   ]
  },
  {
   "cell_type": "code",
   "execution_count": 1,
   "metadata": {},
   "outputs": [
    {
     "name": "stdout",
     "output_type": "stream",
     "text": [
      "Populating the interactive namespace from numpy and matplotlib\n"
     ]
    }
   ],
   "source": [
    "%pylab inline"
   ]
  },
  {
   "cell_type": "code",
   "execution_count": 2,
   "metadata": {},
   "outputs": [
    {
     "name": "stdout",
     "output_type": "stream",
     "text": [
      "請輸入您猜測的數字:66\n",
      "您輸入的數字太小了!\n",
      "請輸入您猜測的數字:77\n",
      "您輸入的數字太小了!\n",
      "請輸入您猜測的數字:88\n",
      "您輸入的數字太大了!\n",
      "請輸入您猜測的數字:85\n",
      "恭喜您猜對了!\n"
     ]
    }
   ],
   "source": [
    "randomNumber = randint(1, 101)\n",
    "guessNumber = 0\n",
    "while float(guessNumber) != randomNumber:\n",
    "    guessNumber = input(\"請輸入您猜測的數字:\")\n",
    "    if float(guessNumber) > randomNumber:\n",
    "        print(\"您輸入的數字太大了!\")\n",
    "    elif float(guessNumber) < randomNumber:\n",
    "        print(\"您輸入的數字太小了!\")\n",
    "    else:\n",
    "        print(\"恭喜您猜對了!\")"
   ]
  },
  {
   "cell_type": "markdown",
   "metadata": {},
   "source": [
    "# 感恩讚嘆機器人"
   ]
  },
  {
   "cell_type": "code",
   "execution_count": 4,
   "metadata": {},
   "outputs": [
    {
     "name": "stdout",
     "output_type": "stream",
     "text": [
      ">>哈囉\n",
      "感恩炎龍，讚嘆炎龍。\n",
      ">>我很開心\n",
      "感恩恩力，讚嘆恩力。\n",
      ">>我很悲傷\n",
      "感恩上帝，讚嘆上帝。\n",
      ">>byebye\n",
      "感恩炎龍，讚嘆炎龍。\n"
     ]
    }
   ],
   "source": [
    "message = \"\"\n",
    "while message != \"byebye\":\n",
    "    message = input(\">>\")\n",
    "    if(\"悲傷\" in message):\n",
    "        print(\"感恩上帝，讚嘆上帝。\")\n",
    "    elif(\"開心\" in message):\n",
    "        print(\"感恩恩力，讚嘆恩力。\")\n",
    "    else:\n",
    "        print(\"感恩炎龍，讚嘆炎龍。\")"
   ]
  },
  {
   "cell_type": "markdown",
   "metadata": {},
   "source": [
    "# 寫個函數讓字串倒過來排"
   ]
  },
  {
   "cell_type": "code",
   "execution_count": 9,
   "metadata": {},
   "outputs": [],
   "source": [
    "def reverse(oldString):\n",
    "    newString = \"\"\n",
    "    x = len(oldString)\n",
    "    while x > 0:\n",
    "        newString = newString + oldString[x - 1]\n",
    "        x = x - 1\n",
    "    return newString"
   ]
  },
  {
   "cell_type": "code",
   "execution_count": 12,
   "metadata": {},
   "outputs": [
    {
     "name": "stdout",
     "output_type": "stream",
     "text": [
      "請輸入您想要反轉的字串:一二三\n"
     ]
    },
    {
     "data": {
      "text/plain": [
       "'三二一'"
      ]
     },
     "execution_count": 12,
     "metadata": {},
     "output_type": "execute_result"
    }
   ],
   "source": [
    "reverse(input(\"請輸入您想要反轉的字串:\"))"
   ]
  },
  {
   "cell_type": "markdown",
   "metadata": {},
   "source": [
    "# 天干地支"
   ]
  },
  {
   "cell_type": "code",
   "execution_count": 21,
   "metadata": {},
   "outputs": [],
   "source": [
    "def skyGround(x):\n",
    "    sky = \"甲乙丙丁戊己庚辛壬癸\"\n",
    "    ground = \"子醜寅卯辰巳午未申酉戌亥\"\n",
    "    return sky[(x + 6) % 10] + ground[(x + 8) % 12]"
   ]
  },
  {
   "cell_type": "code",
   "execution_count": 24,
   "metadata": {},
   "outputs": [
    {
     "name": "stdout",
     "output_type": "stream",
     "text": [
      "甲午\n",
      "乙未\n",
      "丙申\n",
      "丁酉\n",
      "戊戌\n",
      "己亥\n",
      "庚子\n",
      "辛醜\n",
      "壬寅\n",
      "癸卯\n",
      "甲辰\n",
      "乙巳\n",
      "丙午\n",
      "丁未\n",
      "戊申\n",
      "己酉\n",
      "庚戌\n",
      "辛亥\n",
      "壬子\n",
      "癸醜\n",
      "甲寅\n",
      "乙卯\n",
      "丙辰\n",
      "丁巳\n",
      "戊午\n",
      "己未\n",
      "庚申\n",
      "辛酉\n",
      "壬戌\n",
      "癸亥\n",
      "甲子\n",
      "乙醜\n",
      "丙寅\n",
      "丁卯\n",
      "戊辰\n",
      "己巳\n",
      "庚午\n",
      "辛未\n",
      "壬申\n",
      "癸酉\n",
      "甲戌\n",
      "乙亥\n",
      "丙子\n",
      "丁醜\n",
      "戊寅\n",
      "己卯\n",
      "庚辰\n",
      "辛巳\n",
      "壬午\n",
      "癸未\n",
      "甲申\n",
      "乙酉\n",
      "丙戌\n",
      "丁亥\n",
      "戊子\n",
      "己醜\n",
      "庚寅\n",
      "辛卯\n",
      "壬辰\n",
      "癸巳\n"
     ]
    }
   ],
   "source": [
    "year = 2014\n",
    "while year <= 2073:\n",
    "    print(skyGround(year))\n",
    "    year = year + 1"
   ]
  },
  {
   "cell_type": "markdown",
   "metadata": {},
   "source": [
    "# 我有一棵樹"
   ]
  },
  {
   "cell_type": "code",
   "execution_count": 31,
   "metadata": {},
   "outputs": [],
   "source": [
    "def tree(x):\n",
    "    i = 1\n",
    "    while i <= x:\n",
    "        print(\" \" * (x - i) + \"*\" * (i * 2 - 1))\n",
    "        i = i + 1"
   ]
  },
  {
   "cell_type": "code",
   "execution_count": 32,
   "metadata": {},
   "outputs": [
    {
     "name": "stdout",
     "output_type": "stream",
     "text": [
      "     *\n",
      "    ***\n",
      "   *****\n",
      "  *******\n",
      " *********\n",
      "***********\n"
     ]
    }
   ],
   "source": [
    "tree(6)"
   ]
  },
  {
   "cell_type": "code",
   "execution_count": null,
   "metadata": {},
   "outputs": [],
   "source": []
  }
 ],
 "metadata": {
  "kernelspec": {
   "display_name": "Python 3",
   "language": "python",
   "name": "python3"
  },
  "language_info": {
   "codemirror_mode": {
    "name": "ipython",
    "version": 3
   },
   "file_extension": ".py",
   "mimetype": "text/x-python",
   "name": "python",
   "nbconvert_exporter": "python",
   "pygments_lexer": "ipython3",
   "version": "3.7.4"
  }
 },
 "nbformat": 4,
 "nbformat_minor": 2
}
