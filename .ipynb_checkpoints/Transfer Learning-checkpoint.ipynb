{
 "cells": [
  {
   "cell_type": "code",
   "execution_count": 1,
   "metadata": {},
   "outputs": [],
   "source": [
    "import matplotlib.pyplot as plt\n",
    "import numpy as np\n",
    "from tensorflow.keras import datasets\n",
    "from tensorflow.keras.utils import to_categorical\n",
    "from tensorflow.keras.layers import Conv2D, MaxPool2D, GlobalAveragePooling2D\n",
    "from tensorflow.keras.layers import Dense\n",
    "from tensorflow.keras.layers import Flatten\n",
    "from tensorflow.keras.models import Sequential"
   ]
  },
  {
   "cell_type": "code",
   "execution_count": 2,
   "metadata": {},
   "outputs": [
    {
     "name": "stdout",
     "output_type": "stream",
     "text": [
      "(60000, 28, 28) (10000, 28, 28)\n"
     ]
    }
   ],
   "source": [
    "(x_train, y_train), (x_test, y_test) = datasets.fashion_mnist.load_data()\n",
    "\n",
    "#查看數據特徵\n",
    "print(x_train.shape, x_test.shape)"
   ]
  },
  {
   "cell_type": "code",
   "execution_count": 3,
   "metadata": {},
   "outputs": [],
   "source": [
    "# 數據轉換為合適格式\n",
    "x_train = x_train.reshape(60000, 28, 28, 1)\n",
    "x_test = x_test.reshape(10000, 28, 28, 1)\n",
    "x_train = x_train / x_train.max()\n",
    "x_test = x_test / x_test.max()\n",
    "y_train = to_categorical(y_train, 10)\n",
    "y_test = to_categorical(y_test, 10)"
   ]
  },
  {
   "cell_type": "code",
   "execution_count": 4,
   "metadata": {},
   "outputs": [],
   "source": [
    "CNN = [Conv2D(128, (3, 3), input_shape=(28, 28, 1), padding='same', activation='relu'),\n",
    "       MaxPool2D(),\n",
    "       Conv2D(256, (3, 3), padding='same', activation='relu'), \n",
    "       GlobalAveragePooling2D()]\n",
    "FC = [Dense(64, activation = 'relu'),\n",
    "      Dense(10, activation = 'softmax')]"
   ]
  },
  {
   "cell_type": "code",
   "execution_count": 5,
   "metadata": {},
   "outputs": [],
   "source": [
    "model = Sequential(CNN + FC)"
   ]
  },
  {
   "cell_type": "code",
   "execution_count": 6,
   "metadata": {},
   "outputs": [
    {
     "name": "stdout",
     "output_type": "stream",
     "text": [
      "Model: \"sequential\"\n",
      "_________________________________________________________________\n",
      "Layer (type)                 Output Shape              Param #   \n",
      "=================================================================\n",
      "conv2d (Conv2D)              (None, 28, 28, 128)       1280      \n",
      "_________________________________________________________________\n",
      "max_pooling2d (MaxPooling2D) (None, 14, 14, 128)       0         \n",
      "_________________________________________________________________\n",
      "conv2d_1 (Conv2D)            (None, 14, 14, 256)       295168    \n",
      "_________________________________________________________________\n",
      "global_average_pooling2d (Gl (None, 256)               0         \n",
      "_________________________________________________________________\n",
      "dense (Dense)                (None, 64)                16448     \n",
      "_________________________________________________________________\n",
      "dense_1 (Dense)              (None, 10)                650       \n",
      "=================================================================\n",
      "Total params: 313,546\n",
      "Trainable params: 313,546\n",
      "Non-trainable params: 0\n",
      "_________________________________________________________________\n"
     ]
    }
   ],
   "source": [
    "model.summary()"
   ]
  },
  {
   "cell_type": "code",
   "execution_count": 7,
   "metadata": {},
   "outputs": [
    {
     "name": "stdout",
     "output_type": "stream",
     "text": [
      "Train on 60000 samples, validate on 10000 samples\n",
      "Epoch 1/10\n",
      "60000/60000 [==============================] - 424s 7ms/sample - loss: 0.8236 - categorical_accuracy: 0.6971 - val_loss: 0.5935 - val_categorical_accuracy: 0.7858\n",
      "Epoch 2/10\n",
      "60000/60000 [==============================] - 428s 7ms/sample - loss: 0.5248 - categorical_accuracy: 0.8116 - val_loss: 0.4869 - val_categorical_accuracy: 0.8209\n",
      "Epoch 3/10\n",
      "60000/60000 [==============================] - 467s 8ms/sample - loss: 0.4360 - categorical_accuracy: 0.8451 - val_loss: 0.4057 - val_categorical_accuracy: 0.8571\n",
      "Epoch 4/10\n",
      "60000/60000 [==============================] - 786s 13ms/sample - loss: 0.3862 - categorical_accuracy: 0.8618 - val_loss: 0.4002 - val_categorical_accuracy: 0.8551\n",
      "Epoch 5/10\n",
      "60000/60000 [==============================] - 585s 10ms/sample - loss: 0.3526 - categorical_accuracy: 0.8735 - val_loss: 0.3538 - val_categorical_accuracy: 0.8743\n",
      "Epoch 6/10\n",
      "60000/60000 [==============================] - 438s 7ms/sample - loss: 0.3260 - categorical_accuracy: 0.8829 - val_loss: 0.3556 - val_categorical_accuracy: 0.8690\n",
      "Epoch 7/10\n",
      "60000/60000 [==============================] - 429s 7ms/sample - loss: 0.3067 - categorical_accuracy: 0.8896 - val_loss: 0.3710 - val_categorical_accuracy: 0.8653\n",
      "Epoch 8/10\n",
      "60000/60000 [==============================] - 436s 7ms/sample - loss: 0.2896 - categorical_accuracy: 0.8941 - val_loss: 0.2985 - val_categorical_accuracy: 0.8939\n",
      "Epoch 9/10\n",
      "60000/60000 [==============================] - 441s 7ms/sample - loss: 0.2753 - categorical_accuracy: 0.8996 - val_loss: 0.3083 - val_categorical_accuracy: 0.8882\n",
      "Epoch 10/10\n",
      "60000/60000 [==============================] - 456s 8ms/sample - loss: 0.2634 - categorical_accuracy: 0.9037 - val_loss: 0.3096 - val_categorical_accuracy: 0.8880\n"
     ]
    }
   ],
   "source": [
    "from tensorflow.keras.optimizers import Adam\n",
    "model.compile(loss='categorical_crossentropy', optimizer=Adam(), metrics=['categorical_accuracy'])\n",
    "mymodel1 = model.fit(x_train, y_train, batch_size=10, epochs=10, validation_data=(x_test, y_test))"
   ]
  },
  {
   "cell_type": "code",
   "execution_count": 10,
   "metadata": {},
   "outputs": [
    {
     "name": "stdout",
     "output_type": "stream",
     "text": [
      "Downloading data from https://www.cs.toronto.edu/~kriz/cifar-10-python.tar.gz\n",
      "170500096/170498071 [==============================] - 323s 2us/step\n"
     ]
    }
   ],
   "source": [
    "#另一個資料集\n",
    "from tensorflow.keras.datasets import cifar10\n",
    "(x_train1, y_train1), (x_test1, y_test1) = cifar10.load_data()\n",
    "x_train1 = x_train1/x_train1.max()\n",
    "x_test1 = x_test/x_test.max()\n",
    "y_train1 = to_categorical(y_train1, 10)\n",
    "y_test1 = to_categorical(y_test1, 10)"
   ]
  },
  {
   "cell_type": "code",
   "execution_count": 15,
   "metadata": {},
   "outputs": [],
   "source": [
    "FC2 = [Dense(units=64, activation='relu'),\n",
    "       Dense(units=10, activation='softmax')]"
   ]
  },
  {
   "cell_type": "code",
   "execution_count": 16,
   "metadata": {},
   "outputs": [
    {
     "name": "stdout",
     "output_type": "stream",
     "text": [
      "Model: \"sequential_3\"\n",
      "_________________________________________________________________\n",
      "Layer (type)                 Output Shape              Param #   \n",
      "=================================================================\n",
      "conv2d (Conv2D)              (None, 28, 28, 128)       1280      \n",
      "_________________________________________________________________\n",
      "max_pooling2d (MaxPooling2D) (None, 14, 14, 128)       0         \n",
      "_________________________________________________________________\n",
      "conv2d_1 (Conv2D)            (None, 14, 14, 256)       295168    \n",
      "_________________________________________________________________\n",
      "global_average_pooling2d (Gl (None, 256)               0         \n",
      "_________________________________________________________________\n",
      "dense_2 (Dense)              (None, 64)                16448     \n",
      "_________________________________________________________________\n",
      "dense_3 (Dense)              (None, 10)                650       \n",
      "=================================================================\n",
      "Total params: 313,546\n",
      "Trainable params: 313,546\n",
      "Non-trainable params: 0\n",
      "_________________________________________________________________\n"
     ]
    }
   ],
   "source": [
    "model2 = Sequential(CNN + FC2)\n",
    "model2.summary()"
   ]
  },
  {
   "cell_type": "code",
   "execution_count": null,
   "metadata": {},
   "outputs": [
    {
     "name": "stdout",
     "output_type": "stream",
     "text": [
      "Train on 60000 samples, validate on 10000 samples\n",
      "Epoch 1/10\n",
      "60000/60000 [==============================] - 473s 8ms/sample - loss: 0.2516 - categorical_accuracy: 0.9066 - val_loss: 0.2890 - val_categorical_accuracy: 0.8966\n",
      "Epoch 2/10\n",
      "60000/60000 [==============================] - 504s 8ms/sample - loss: 0.2411 - categorical_accuracy: 0.9113 - val_loss: 0.3027 - val_categorical_accuracy: 0.8906 0.2413 - catego\n",
      "Epoch 3/10\n",
      "60000/60000 [==============================] - 527s 9ms/sample - loss: 0.2320 - categorical_accuracy: 0.9157 - val_loss: 0.2971 - val_categorical_accuracy: 0.8938\n",
      "Epoch 4/10\n",
      "60000/60000 [==============================] - 464s 8ms/sample - loss: 0.2267 - categorical_accuracy: 0.9172 - val_loss: 0.2651 - val_categorical_accuracy: 0.9036\n",
      "Epoch 5/10\n",
      "60000/60000 [==============================] - 416s 7ms/sample - loss: 0.2194 - categorical_accuracy: 0.9196 - val_loss: 0.2658 - val_categorical_accuracy: 0.9026\n",
      "Epoch 6/10\n",
      "60000/60000 [==============================] - 441s 7ms/sample - loss: 0.2131 - categorical_accuracy: 0.9219 - val_loss: 0.2529 - val_categorical_accuracy: 0.9094\n",
      "Epoch 7/10\n",
      "37940/60000 [=================>............] - ETA: 2:25 - loss: 0.2061 - categorical_accuracy: 0.9247"
     ]
    }
   ],
   "source": [
    "for layer in CNN:\n",
    "    layer.trainable = False\n",
    "model2.compile(loss='categorical_crossentropy', optimizer=Adam(), metrics=['categorical_accuracy'])\n",
    "mymodel2 = model.fit(x_train, y_train, batch_size=10, epochs=10, validation_data=(x_test, y_test))"
   ]
  },
  {
   "cell_type": "code",
   "execution_count": null,
   "metadata": {},
   "outputs": [],
   "source": []
  }
 ],
 "metadata": {
  "kernelspec": {
   "display_name": "Python 3",
   "language": "python",
   "name": "python3"
  },
  "language_info": {
   "codemirror_mode": {
    "name": "ipython",
    "version": 3
   },
   "file_extension": ".py",
   "mimetype": "text/x-python",
   "name": "python",
   "nbconvert_exporter": "python",
   "pygments_lexer": "ipython3",
   "version": "3.7.6"
  }
 },
 "nbformat": 4,
 "nbformat_minor": 4
}
