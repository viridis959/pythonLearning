{
 "cells": [
  {
   "cell_type": "code",
   "execution_count": 1,
   "metadata": {},
   "outputs": [],
   "source": [
    "import requests\n",
    "from bs4 import BeautifulSoup\n",
    "import numpy as np\n",
    "import pandas as pd"
   ]
  },
  {
   "cell_type": "code",
   "execution_count": 2,
   "metadata": {},
   "outputs": [],
   "source": [
    "# 回傳opgg上某召喚師ID的最近二十場內有效牌位對戰英雄及結果(左上,左野,左中,左下,左輔,右上,右野,右中,右下,右輔,0=左輸1=左贏)\n",
    "def get_match(region:int, summoner_id:str)->pd.DataFrame:\n",
    "    soup = BeautifulSoup(requests.get(f'https://{[\"www\", \"na\", \"euw\", \"eune\"][region]}.op.gg/summoner/userName={summoner_id.replace(\" \", \"+\")}').text, 'html.parser')\n",
    "    list_match = [i.text for i in soup.find_all(\"div\", class_=\"Image16\")]\n",
    "    list_inf = [i.get_text(strip=True) for i in soup.select('div.GameSettingInfo > div.ChampionName')] + [i.get_text(strip=True) for i in soup.find_all(\"div\", class_=\"GameType\")] + [i.get_text(strip=True) for i in soup.find_all(\"div\", class_=\"GameResult\")]\n",
    "    df = pd.DataFrame(np.append(np.reshape(list_match, (-1, 10)), np.reshape(list_inf, (3, -1)).T, 1))\n",
    "    df = df[~df[12].str.contains(\"Remake\") & df[11].str.contains(\"Ranked\")]\n",
    "    df['result'] = np.where((((df[0]==df[10])|(df[1]==df[10])|(df[2]==df[10])|(df[3]==df[10])|(df[4]==df[10]))&(df[12].str.contains(\"Victory\")))|\n",
    "                            (((df[5]==df[10])|(df[6]==df[10])|(df[7]==df[10])|(df[8]==df[10])|(df[9]==df[10]))&(df[12].str.contains(\"Defeat\"))), 1, 0)\n",
    "    df.drop(df.columns[[10, 11, 12]], axis = 1, inplace = True)\n",
    "    return df"
   ]
  },
  {
   "cell_type": "code",
   "execution_count": null,
   "metadata": {},
   "outputs": [],
   "source": []
  }
 ],
 "metadata": {
  "kernelspec": {
   "display_name": "Python 3",
   "language": "python",
   "name": "python3"
  },
  "language_info": {
   "codemirror_mode": {
    "name": "ipython",
    "version": 3
   },
   "file_extension": ".py",
   "mimetype": "text/x-python",
   "name": "python",
   "nbconvert_exporter": "python",
   "pygments_lexer": "ipython3",
   "version": "3.7.6"
  }
 },
 "nbformat": 4,
 "nbformat_minor": 4
}
