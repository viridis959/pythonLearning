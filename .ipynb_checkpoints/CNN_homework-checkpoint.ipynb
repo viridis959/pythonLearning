{
 "cells": [
  {
   "cell_type": "code",
   "execution_count": 1,
   "metadata": {},
   "outputs": [],
   "source": [
    "%matplotlib inline\n",
    "\n",
    "import numpy as np\n",
    "import matplotlib.pyplot as plt\n",
    "import tensorflow as tf"
   ]
  },
  {
   "cell_type": "code",
   "execution_count": 2,
   "metadata": {},
   "outputs": [],
   "source": [
    "from tensorflow.keras.datasets import fashion_mnist"
   ]
  },
  {
   "cell_type": "code",
   "execution_count": 3,
   "metadata": {},
   "outputs": [],
   "source": [
    "(x_train, y_train), (x_test, y_test) = fashion_mnist.load_data()"
   ]
  },
  {
   "cell_type": "code",
   "execution_count": 4,
   "metadata": {},
   "outputs": [
    {
     "name": "stdout",
     "output_type": "stream",
     "text": [
      "60000 10000 (60000, 28, 28) [[  0   0   0   0   0   0   0   0   1   0  79 116  76  28  61 116 123  52\n",
      "    0   0   0   0   0   0   0   0   0   0]\n",
      " [  0   0   0   0   0   0   0   0   0  87 174 166 178 107 150 150 167 157\n",
      "   20   0   0   0   0   0   0   0   0   0]\n",
      " [  0   0   0   0   0   0   0   0   0  88 130 148 151  84 131 159 134 123\n",
      "   21   0   0   0   0   0   0   0   0   0]\n",
      " [  0   0   0   0   0   0   0   0   0  97 120 111 139 163 155 111 110 139\n",
      "   28   0   0   0   0   0   0   0   0   0]\n",
      " [  0   0   0   0   0   0   0   0   0  99 126 112  99  97 103 108 107 139\n",
      "   32   0   0   0   0   0   0   0   0   0]\n",
      " [  0   0   0   0   0   0   0   0   0 106 119 104 102 111 110 103  96 136\n",
      "   36   0   0   0   0   0   0   0   0   0]\n",
      " [  0   0   0   0   0   0   0   0   0 110 116  93  96  96  97  92  93 138\n",
      "   41   0   0   0   0   0   0   0   0   0]\n",
      " [  0   0   0   0   0   0   0   0   0 112 115  95  91  96 100  96  96 143\n",
      "   49   0   0   0   0   0   0   0   0   0]\n",
      " [  0   0   0   0   0   0   0   0   0 122 111  93  95  97 100  97  93 135\n",
      "   60   0   0   0   0   0   0   0   0   0]\n",
      " [  0   0   0   0   0   0   0   0   1 128 108  95  96  95  95  93  92 128\n",
      "   95   0   0   0   0   0   0   0   0   0]\n",
      " [  0   0   0   0   0   0   0   0  71 130 103  97  93  93  91  92  92 111\n",
      "  138  20   0   0   0   0   0   0   0   0]\n",
      " [  0   0   0   0   0   0   0   0 120 122 107  97  92  97  92  96  96 111\n",
      "  144  59   0   0   0   0   0   0   0   0]\n",
      " [  0   0   0   0   0   0   0   0 112 119 106  99  93  95  92  92  96 103\n",
      "  146  48   0   0   0   0   0   0   0   0]\n",
      " [  0   0   0   0   0   0   0   0 107 119 110  97  93  92  99  92  95 103\n",
      "  150  56   0   0   0   0   0   0   0   0]\n",
      " [  0   0   0   0   0   0   0   0  97 116 116  95  92  96  99  92  99 102\n",
      "  144  52   0   0   0   0   0   0   0   0]\n",
      " [  0   0   0   0   0   0   0   0  95 116 118 100  93  96  92  96 100 102\n",
      "  136  51   0   0   0   0   0   0   0   0]\n",
      " [  0   0   0   0   0   0   0   0 107 119 112 103  92  95  93  97  99  97\n",
      "  126  59   0   0   0   0   0   0   0   0]\n",
      " [  0   0   0   0   0   0   0   0 124 116 115 112 102  99  96  99 100  95\n",
      "  126  63   0   0   0   0   0   0   0   0]\n",
      " [  0   0   0   0   0   0   0   0 127 112 114 114 103 102 102 102  99  99\n",
      "  132  55   0   0   0   0   0   0   0   0]\n",
      " [  0   0   0   0   0   0   0   0 127 110 116 114 102  99 103 103 100 102\n",
      "  124  52   0   0   0   0   0   0   0   0]\n",
      " [  0   0   0   0   0   0   0   0 130 110 115 112 104 100  97 103 107  91\n",
      "  159  68   0   0   0   0   0   0   0   0]\n",
      " [  0   0   0   0   0   0   0   0 130 110 107 118 108 102  97 107 115  92\n",
      "  175  67   0   0   0   0   0   0   0   0]\n",
      " [  0   0   0   0   0   0   0   0 128 118 104 123 107 106 104 110 111 100\n",
      "  134  53   0   0   0   0   0   0   0   0]\n",
      " [  0   0   0   0   0   0   0   0 130 119 106 124 110 110 108 110 110 106\n",
      "  135  73   0   0   0   0   0   0   0   0]\n",
      " [  0   0   0   0   0   0   0   0 127 107 115 136 119 110 115 114 118 107\n",
      "  130 108   0   0   0   0   0   0   0   0]\n",
      " [  0   0   0   0   0   0   0   0 190 110  89 115  96  92  92  99 100  87\n",
      "  154 134   0   0   0   0   0   0   0   0]\n",
      " [  0   0   0   0   0   0   0   0 202 255 186 185 182 178 177 179 185 199\n",
      "  201 140   0   0   0   0   0   0   0   0]\n",
      " [  0   0   0   0   0   0   0   0  18  85 124 134 135 135 132 127 108  95\n",
      "   96  22   0   0   0   0   0   0   0   0]]\n"
     ]
    }
   ],
   "source": [
    "#查看數據特徵\n",
    "print(len(x_train), len(x_test), x_train.shape, x_train[9487])"
   ]
  },
  {
   "cell_type": "code",
   "execution_count": 5,
   "metadata": {},
   "outputs": [],
   "source": [
    "# 數據轉換為合適格式\n",
    "x_train = x_train.reshape(60000, 28, 28, 1) / 255\n",
    "x_test = x_test.reshape(10000, 28, 28, 1) / 255"
   ]
  },
  {
   "cell_type": "code",
   "execution_count": 6,
   "metadata": {},
   "outputs": [],
   "source": [
    "from tensorflow.keras.utils import to_categorical"
   ]
  },
  {
   "cell_type": "code",
   "execution_count": 7,
   "metadata": {},
   "outputs": [],
   "source": [
    "y_train = to_categorical(y_train, 10)\n",
    "y_test = to_categorical(y_test, 10)"
   ]
  },
  {
   "cell_type": "code",
   "execution_count": 8,
   "metadata": {},
   "outputs": [],
   "source": [
    "# 打造函數學習機 CNN\n",
    "from tensorflow.keras.models import Sequential\n",
    "from tensorflow.keras.layers import Conv2D, MaxPooling2D\n",
    "from tensorflow.keras.layers import Dense, Flatten\n",
    "from tensorflow.keras.optimizers import SGD"
   ]
  },
  {
   "cell_type": "code",
   "execution_count": 9,
   "metadata": {},
   "outputs": [],
   "source": [
    "model = Sequential()\n",
    "model.add(Conv2D(16, (3,3), padding='same', input_shape=(28,28,1), activation='relu'))\n",
    "model.add(MaxPooling2D(pool_size=(2,2)))\n",
    "model.add(Conv2D(32, (3,3), padding='same', activation='relu'))\n",
    "model.add(MaxPooling2D(pool_size=(2,2)))\n",
    "model.add(Conv2D(64, (3,3), padding='same', activation='relu'))\n",
    "model.add(MaxPooling2D(pool_size=(2,2)))\n",
    "model.add(Conv2D(128, (3,3), padding='same', activation='relu'))\n",
    "model.add(MaxPooling2D(pool_size=(2,2)))\n",
    "model.add(Flatten())\n",
    "model.add(Dense(512, activation='relu'))\n",
    "model.add(Dense(256, activation='relu' ))\n",
    "model.add(Dense(10, activation='softmax'))"
   ]
  },
  {
   "cell_type": "code",
   "execution_count": 10,
   "metadata": {},
   "outputs": [
    {
     "name": "stdout",
     "output_type": "stream",
     "text": [
      "Model: \"sequential\"\n",
      "_________________________________________________________________\n",
      "Layer (type)                 Output Shape              Param #   \n",
      "=================================================================\n",
      "conv2d (Conv2D)              (None, 28, 28, 16)        160       \n",
      "_________________________________________________________________\n",
      "max_pooling2d (MaxPooling2D) (None, 14, 14, 16)        0         \n",
      "_________________________________________________________________\n",
      "conv2d_1 (Conv2D)            (None, 14, 14, 32)        4640      \n",
      "_________________________________________________________________\n",
      "max_pooling2d_1 (MaxPooling2 (None, 7, 7, 32)          0         \n",
      "_________________________________________________________________\n",
      "conv2d_2 (Conv2D)            (None, 7, 7, 64)          18496     \n",
      "_________________________________________________________________\n",
      "max_pooling2d_2 (MaxPooling2 (None, 3, 3, 64)          0         \n",
      "_________________________________________________________________\n",
      "conv2d_3 (Conv2D)            (None, 3, 3, 128)         73856     \n",
      "_________________________________________________________________\n",
      "max_pooling2d_3 (MaxPooling2 (None, 1, 1, 128)         0         \n",
      "_________________________________________________________________\n",
      "flatten (Flatten)            (None, 128)               0         \n",
      "_________________________________________________________________\n",
      "dense (Dense)                (None, 512)               66048     \n",
      "_________________________________________________________________\n",
      "dense_1 (Dense)              (None, 256)               131328    \n",
      "_________________________________________________________________\n",
      "dense_2 (Dense)              (None, 10)                2570      \n",
      "=================================================================\n",
      "Total params: 297,098\n",
      "Trainable params: 297,098\n",
      "Non-trainable params: 0\n",
      "_________________________________________________________________\n"
     ]
    }
   ],
   "source": [
    "model.summary()"
   ]
  },
  {
   "cell_type": "code",
   "execution_count": 11,
   "metadata": {},
   "outputs": [],
   "source": [
    "# 使用 mse loss function、SGD optimizer\n",
    "model.compile(loss='mse', optimizer=SGD(lr=1), metrics=['accuracy'])"
   ]
  },
  {
   "cell_type": "code",
   "execution_count": 12,
   "metadata": {
    "scrolled": true
   },
   "outputs": [
    {
     "name": "stdout",
     "output_type": "stream",
     "text": [
      "Train on 60000 samples\n",
      "Epoch 1/10\n",
      "60000/60000 [==============================] - 54s 893us/sample - loss: 0.0426 - accuracy: 0.6757\n",
      "Epoch 2/10\n",
      "60000/60000 [==============================] - 50s 839us/sample - loss: 0.0217 - accuracy: 0.8483\n",
      "Epoch 3/10\n",
      "60000/60000 [==============================] - 52s 870us/sample - loss: 0.0183 - accuracy: 0.8732\n",
      "Epoch 4/10\n",
      "60000/60000 [==============================] - 52s 872us/sample - loss: 0.0163 - accuracy: 0.8875\n",
      "Epoch 5/10\n",
      "60000/60000 [==============================] - 50s 829us/sample - loss: 0.0150 - accuracy: 0.8975\n",
      "Epoch 6/10\n",
      "60000/60000 [==============================] - 50s 834us/sample - loss: 0.0140 - accuracy: 0.9049\n",
      "Epoch 7/10\n",
      "60000/60000 [==============================] - 54s 900us/sample - loss: 0.0131 - accuracy: 0.9097\n",
      "Epoch 8/10\n",
      "60000/60000 [==============================] - 48s 806us/sample - loss: 0.0124 - accuracy: 0.9163\n",
      "Epoch 9/10\n",
      "60000/60000 [==============================] - 47s 782us/sample - loss: 0.0118 - accuracy: 0.9199\n",
      "Epoch 10/10\n",
      "60000/60000 [==============================] - 47s 777us/sample - loss: 0.0113 - accuracy: 0.9225\n"
     ]
    }
   ],
   "source": [
    "train_model = model.fit(x_train, y_train, batch_size=32, epochs=10)"
   ]
  },
  {
   "cell_type": "code",
   "execution_count": 13,
   "metadata": {},
   "outputs": [],
   "source": [
    "model2 = Sequential()\n",
    "model2.add(Conv2D(16, (3,3), padding='same', input_shape=(28,28,1), activation='relu'))\n",
    "model2.add(MaxPooling2D(pool_size=(2,2)))\n",
    "model2.add(Conv2D(32, (3,3), padding='same', activation='relu'))\n",
    "model2.add(MaxPooling2D(pool_size=(2,2)))\n",
    "model2.add(Conv2D(64, (3,3), padding='same', activation='relu'))\n",
    "model2.add(MaxPooling2D(pool_size=(2,2)))\n",
    "model2.add(Conv2D(128, (3,3), padding='same', activation='relu'))\n",
    "model2.add(MaxPooling2D(pool_size=(2,2)))\n",
    "model2.add(Flatten())\n",
    "model2.add(Dense(512, activation='relu'))\n",
    "model2.add(Dense(256, activation='relu' ))\n",
    "model2.add(Dense(10, activation='softmax'))"
   ]
  },
  {
   "cell_type": "code",
   "execution_count": 14,
   "metadata": {},
   "outputs": [],
   "source": [
    "# 使用 mse loss function、Adam optimizer\n",
    "from tensorflow.keras.optimizers import Adam\n",
    "model2.compile(loss='mse', optimizer=Adam(), metrics=['accuracy'])"
   ]
  },
  {
   "cell_type": "code",
   "execution_count": 15,
   "metadata": {},
   "outputs": [
    {
     "name": "stdout",
     "output_type": "stream",
     "text": [
      "Train on 60000 samples\n",
      "Epoch 1/10\n",
      "60000/60000 [==============================] - 52s 860us/sample - loss: 0.0264 - accuracy: 0.8087\n",
      "Epoch 2/10\n",
      "60000/60000 [==============================] - 49s 815us/sample - loss: 0.0166 - accuracy: 0.8850\n",
      "Epoch 3/10\n",
      "60000/60000 [==============================] - 51s 855us/sample - loss: 0.0144 - accuracy: 0.9014\n",
      "Epoch 4/10\n",
      "60000/60000 [==============================] - 50s 839us/sample - loss: 0.0132 - accuracy: 0.9097\n",
      "Epoch 5/10\n",
      "60000/60000 [==============================] - 54s 899us/sample - loss: 0.0121 - accuracy: 0.9180\n",
      "Epoch 6/10\n",
      "60000/60000 [==============================] - 52s 868us/sample - loss: 0.0112 - accuracy: 0.9238\n",
      "Epoch 7/10\n",
      "60000/60000 [==============================] - 56s 935us/sample - loss: 0.0105 - accuracy: 0.9287\n",
      "Epoch 8/10\n",
      "60000/60000 [==============================] - 55s 924us/sample - loss: 0.0099 - accuracy: 0.9342\n",
      "Epoch 9/10\n",
      "60000/60000 [==============================] - 53s 889us/sample - loss: 0.0095 - accuracy: 0.9371\n",
      "Epoch 10/10\n",
      "60000/60000 [==============================] - 50s 830us/sample - loss: 0.0090 - accuracy: 0.9413\n"
     ]
    }
   ],
   "source": [
    "train_model2 = model2.fit(x_train, y_train, batch_size=32, epochs=10)"
   ]
  },
  {
   "cell_type": "code",
   "execution_count": 16,
   "metadata": {},
   "outputs": [],
   "source": [
    "model3 = Sequential()\n",
    "model3.add(Conv2D(16, (3,3), padding='same', input_shape=(28,28,1), activation='relu'))\n",
    "model3.add(MaxPooling2D(pool_size=(2,2)))\n",
    "model3.add(Conv2D(32, (3,3), padding='same', activation='relu'))\n",
    "model3.add(MaxPooling2D(pool_size=(2,2)))\n",
    "model3.add(Conv2D(64, (3,3), padding='same', activation='relu'))\n",
    "model3.add(MaxPooling2D(pool_size=(2,2)))\n",
    "model3.add(Conv2D(128, (3,3), padding='same', activation='relu'))\n",
    "model3.add(MaxPooling2D(pool_size=(2,2)))\n",
    "model3.add(Flatten())\n",
    "model3.add(Dense(512, activation='relu'))\n",
    "model3.add(Dense(256, activation='relu' ))\n",
    "model3.add(Dense(10, activation='softmax'))"
   ]
  },
  {
   "cell_type": "code",
   "execution_count": 17,
   "metadata": {},
   "outputs": [],
   "source": [
    "# 使用 BinaryCrossentropy loss function、Adam optimizer\n",
    "from tensorflow.keras.losses import BinaryCrossentropy\n",
    "model3.compile(loss=BinaryCrossentropy(), optimizer=Adam(), metrics=['accuracy'])"
   ]
  },
  {
   "cell_type": "code",
   "execution_count": 18,
   "metadata": {},
   "outputs": [
    {
     "name": "stdout",
     "output_type": "stream",
     "text": [
      "Train on 60000 samples\n",
      "Epoch 1/10\n",
      "60000/60000 [==============================] - 43s 720us/sample - loss: 0.0851 - accuracy: 0.9659\n",
      "Epoch 2/10\n",
      "60000/60000 [==============================] - 45s 754us/sample - loss: 0.0545 - accuracy: 0.9780\n",
      "Epoch 3/10\n",
      "60000/60000 [==============================] - 43s 710us/sample - loss: 0.0471 - accuracy: 0.9814\n",
      "Epoch 4/10\n",
      "60000/60000 [==============================] - 49s 825us/sample - loss: 0.0417 - accuracy: 0.9836\n",
      "Epoch 5/10\n",
      "60000/60000 [==============================] - 54s 907us/sample - loss: 0.0382 - accuracy: 0.9848\n",
      "Epoch 6/10\n",
      "60000/60000 [==============================] - 46s 768us/sample - loss: 0.0348 - accuracy: 0.9861\n",
      "Epoch 7/10\n",
      "60000/60000 [==============================] - 43s 715us/sample - loss: 0.0324 - accuracy: 0.9872\n",
      "Epoch 8/10\n",
      "60000/60000 [==============================] - 42s 708us/sample - loss: 0.0302 - accuracy: 0.9880\n",
      "Epoch 9/10\n",
      "60000/60000 [==============================] - 49s 817us/sample - loss: 0.0283 - accuracy: 0.9888\n",
      "Epoch 10/10\n",
      "60000/60000 [==============================] - 52s 872us/sample - loss: 0.0262 - accuracy: 0.9896\n"
     ]
    }
   ],
   "source": [
    "train_model3 = model3.fit(x_train, y_train, batch_size=32, epochs=10)"
   ]
  },
  {
   "cell_type": "code",
   "execution_count": 19,
   "metadata": {},
   "outputs": [
    {
     "name": "stdout",
     "output_type": "stream",
     "text": [
      "10000/10000 [==============================] - 3s 260us/sample - loss: 0.0145 - accuracy: 0.9007\n",
      "10000/10000 [==============================] - 2s 220us/sample - loss: 0.0130 - accuracy: 0.9139\n",
      "10000/10000 [==============================] - 2s 236us/sample - loss: 0.0527 - accuracy: 0.9822\n",
      "[0.014521514661144465, 0.9007] [0.012970166089665145, 0.9139] [0.05273763147741556, 0.9822499]\n"
     ]
    }
   ],
   "source": [
    "score1 = model.evaluate(x_test, y_test)\n",
    "score2 = model2.evaluate(x_test, y_test)\n",
    "score3 = model3.evaluate(x_test, y_test)"
   ]
  },
  {
   "cell_type": "code",
   "execution_count": 21,
   "metadata": {},
   "outputs": [
    {
     "name": "stdout",
     "output_type": "stream",
     "text": [
      "model1:  0.9225 0.9007\n",
      "model2:  0.9413 0.9139\n",
      "model3:  0.9896 0.9822\n"
     ]
    }
   ],
   "source": [
    "print('model1: ', '0.9225', '0.9007')\n",
    "print('model2: ', '0.9413', '0.9139')\n",
    "print('model3: ', '0.9896', '0.9822')"
   ]
  },
  {
   "cell_type": "code",
   "execution_count": null,
   "metadata": {},
   "outputs": [],
   "source": [
    "# 前兩次試驗相對準確性較低，且有明顯的overfitting\n",
    "# 使用 BinaryCrossentropy loss function 和 Adam optimizer 的第三次試驗明顯表現最佳"
   ]
  }
 ],
 "metadata": {
  "kernelspec": {
   "display_name": "Python 3",
   "language": "python",
   "name": "python3"
  },
  "language_info": {
   "codemirror_mode": {
    "name": "ipython",
    "version": 3
   },
   "file_extension": ".py",
   "mimetype": "text/x-python",
   "name": "python",
   "nbconvert_exporter": "python",
   "pygments_lexer": "ipython3",
   "version": "3.7.6"
  }
 },
 "nbformat": 4,
 "nbformat_minor": 4
}
