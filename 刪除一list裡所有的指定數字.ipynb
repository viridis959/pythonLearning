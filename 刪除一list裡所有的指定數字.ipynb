{
 "cells": [
  {
   "cell_type": "code",
   "execution_count": 1,
   "metadata": {},
   "outputs": [],
   "source": [
    "# 刪除一list所有的某特定數字，並回傳新list的項目數\n",
    "def remove_element(nums,val):\n",
    "    j = 0\n",
    "    for i in range(len(nums)):\n",
    "        if val != nums[i]:\n",
    "            j = j + 1\n",
    "    nums[:] = [i for i in nums if val != i]\n",
    "    return j"
   ]
  },
  {
   "cell_type": "code",
   "execution_count": 2,
   "metadata": {},
   "outputs": [
    {
     "name": "stdout",
     "output_type": "stream",
     "text": [
      "Please enter a number to build your list(type quit to quit): 02\n",
      "Please enter a number to build your list(type quit to quit): 3\n",
      "Please enter a number to build your list(type quit to quit): 2.0\n",
      "Please enter a number to build your list(type quit to quit): 2\n",
      "Please enter a number to build your list(type quit to quit): ne\n",
      "You can just enter a number!\n",
      "Please enter a number to build your list(type quit to quit): 9\n",
      "Please enter a number to build your list(type quit to quit): 2\n",
      "Please enter a number to build your list(type quit to quit): quit\n",
      "Your list : [2.0, 3.0, 2.0, 2.0, 9.0, 2.0]\n"
     ]
    }
   ],
   "source": [
    "# 透過input建立一list(浮點數格式儲存)\n",
    "container = []\n",
    "typing = \"\"\n",
    "while typing != \"quit\":\n",
    "    typing = input(\"Please enter a number to build your list(type quit to quit): \")\n",
    "    if typing.replace(\".\", \"\", 1).isdigit():\n",
    "        container.append(float(typing))\n",
    "    elif typing != \"quit\":\n",
    "        print(\"You can just enter a number!\")\n",
    "print(\"Your list : {}\".format(container))"
   ]
  },
  {
   "cell_type": "code",
   "execution_count": 3,
   "metadata": {
    "scrolled": true
   },
   "outputs": [
    {
     "name": "stdout",
     "output_type": "stream",
     "text": [
      "Please enter the number you don't want to see: 2\n",
      "Your new 2 item(s) list : [3.0, 9.0]\n"
     ]
    }
   ],
   "source": [
    "no = input(\"Please enter the number you don't want to see: \")\n",
    "print(\"Your new {} item(s) list : {}\".format(remove_element(container, float(no)), container))"
   ]
  },
  {
   "cell_type": "code",
   "execution_count": null,
   "metadata": {},
   "outputs": [],
   "source": []
  }
 ],
 "metadata": {
  "kernelspec": {
   "display_name": "Python 3",
   "language": "python",
   "name": "python3"
  },
  "language_info": {
   "codemirror_mode": {
    "name": "ipython",
    "version": 3
   },
   "file_extension": ".py",
   "mimetype": "text/x-python",
   "name": "python",
   "nbconvert_exporter": "python",
   "pygments_lexer": "ipython3",
   "version": "3.7.4"
  }
 },
 "nbformat": 4,
 "nbformat_minor": 2
}
