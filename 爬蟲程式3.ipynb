{
 "cells": [
  {
   "cell_type": "code",
   "execution_count": null,
   "metadata": {},
   "outputs": [],
   "source": [
    "import requests\n",
    "from bs4 import BeautifulSoup\n",
    "import numpy as np\n",
    "import pandas as pd"
   ]
  },
  {
   "cell_type": "code",
   "execution_count": null,
   "metadata": {},
   "outputs": [],
   "source": [
    "# 回傳每個英雄角色在OPGG的ID數字(查找網頁的AJAX資料時可以用到)\n",
    "dict = {}\n",
    "soup = BeautifulSoup(requests.get('https://www.op.gg/champion/statistics').text, 'html.parser')\n",
    "for i in [link.get('href') for link in soup.select('div > a[href^=\"/champion/\"]')]:\n",
    "    r = BeautifulSoup(requests.get(f'https://www.op.gg{str(i)}').text, 'html.parser')\n",
    "    a = str(r.select('h1.champion-stats-header-info__name')[0].text)\n",
    "    b = str(r.find_all('script')).partition('championId: ')[2].partition('\\n')[0]\n",
    "    dict.setdefault(a,b)"
   ]
  },
  {
   "cell_type": "code",
   "execution_count": null,
   "metadata": {},
   "outputs": [],
   "source": []
  }
 ],
 "metadata": {
  "kernelspec": {
   "display_name": "Python 3",
   "language": "python",
   "name": "python3"
  },
  "language_info": {
   "codemirror_mode": {
    "name": "ipython",
    "version": 3
   },
   "file_extension": ".py",
   "mimetype": "text/x-python",
   "name": "python",
   "nbconvert_exporter": "python",
   "pygments_lexer": "ipython3",
   "version": "3.7.6"
  }
 },
 "nbformat": 4,
 "nbformat_minor": 4
}
