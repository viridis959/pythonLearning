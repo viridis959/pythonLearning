{
 "cells": [
  {
   "cell_type": "code",
   "execution_count": 1,
   "metadata": {},
   "outputs": [],
   "source": [
    "for i in []:\n",
    "    print(i)"
   ]
  },
  {
   "cell_type": "code",
   "execution_count": 3,
   "metadata": {},
   "outputs": [
    {
     "data": {
      "text/plain": [
       "False"
      ]
     },
     "execution_count": 3,
     "metadata": {},
     "output_type": "execute_result"
    }
   ],
   "source": [
    "[2, 1, 1, 1] == sorted([2, 1, 1, 1])"
   ]
  },
  {
   "cell_type": "code",
   "execution_count": 6,
   "metadata": {},
   "outputs": [
    {
     "name": "stdout",
     "output_type": "stream",
     "text": [
      "(1, 2, 2, 1)\n",
      "(1, 2, 1, 2)\n",
      "(1, 2, 2, 1)\n",
      "(1, 2, 1, 2)\n",
      "(1, 1, 2, 2)\n",
      "(1, 1, 2, 2)\n",
      "(2, 1, 2, 1)\n",
      "(2, 1, 1, 2)\n",
      "(2, 2, 1, 1)\n",
      "(2, 2, 1, 1)\n",
      "(2, 1, 1, 2)\n",
      "(2, 1, 2, 1)\n",
      "(2, 1, 2, 1)\n",
      "(2, 1, 1, 2)\n",
      "(2, 2, 1, 1)\n",
      "(2, 2, 1, 1)\n",
      "(2, 1, 1, 2)\n",
      "(2, 1, 2, 1)\n",
      "(1, 1, 2, 2)\n",
      "(1, 1, 2, 2)\n",
      "(1, 2, 1, 2)\n",
      "(1, 2, 2, 1)\n",
      "(1, 2, 1, 2)\n",
      "(1, 2, 2, 1)\n"
     ]
    }
   ],
   "source": [
    "import itertools\n",
    "for i in itertools.permutations([1, 2, 2, 1]):\n",
    "    print(i)"
   ]
  },
  {
   "cell_type": "code",
   "execution_count": 9,
   "metadata": {},
   "outputs": [
    {
     "data": {
      "text/plain": [
       "[[1, 2, 2, 1],\n",
       " [1, 2, 1, 2],\n",
       " [1, 1, 2, 2],\n",
       " [2, 1, 2, 1],\n",
       " [2, 1, 1, 2],\n",
       " [2, 2, 1, 1]]"
      ]
     },
     "execution_count": 9,
     "metadata": {},
     "output_type": "execute_result"
    }
   ],
   "source": [
    "c = []\n",
    "for i in itertools.permutations([1, 2, 2, 1]):\n",
    "        if list(i) not in c:\n",
    "            c.append(list(i))\n",
    "c"
   ]
  },
  {
   "cell_type": "code",
   "execution_count": 13,
   "metadata": {},
   "outputs": [
    {
     "data": {
      "text/plain": [
       "[1, 1, 2, 2]"
      ]
     },
     "execution_count": 13,
     "metadata": {},
     "output_type": "execute_result"
    }
   ],
   "source": [
    "[1,1,2,2].copy()"
   ]
  },
  {
   "cell_type": "code",
   "execution_count": 14,
   "metadata": {},
   "outputs": [
    {
     "name": "stdout",
     "output_type": "stream",
     "text": [
      "['1', '2', '3']\n",
      "['1', '2', '-']\n",
      "['1', '-', '3']\n",
      "['1', '-', '-']\n",
      "['-', '2', '3']\n",
      "['-', '2', '-']\n",
      "['-', '-', '3']\n",
      "['-', '-', '-']\n"
     ]
    }
   ],
   "source": [
    "def do_backtrack(a:list, inputs:list):\n",
    "    c = []\n",
    "    if (is_a_solution(a, inputs)):\n",
    "        process_solution(a, inputs)\n",
    "    else:\n",
    "        construct_candidate(a, inputs, c)\n",
    "        for i in c:\n",
    "            a.append(i)\n",
    "            do_backtrack(a, inputs)\n",
    "            a.pop()\n",
    "            \n",
    "def is_a_solution(a:list, inputs:list)->bool:\n",
    "    return len(a) == len(inputs)\n",
    "\n",
    "def construct_candidate(a:list, inputs:list, c:list):\n",
    "    c.append(True)\n",
    "    c.append(False)\n",
    "\n",
    "def process_solution(a:list, inputs:list):\n",
    "    # print([inputs[i] for i, x in enumerate(a) if x])\n",
    "    print([inputs[i] if x else '-' for i, x in enumerate(a)])\n",
    "    \n",
    "do_backtrack([],['1','2','3'])\n"
   ]
  },
  {
   "cell_type": "code",
   "execution_count": 76,
   "metadata": {},
   "outputs": [
    {
     "name": "stdout",
     "output_type": "stream",
     "text": [
      "[[1, 1, 3, 4], [1, 1, 4, 3], [1, 3, 1, 4], [1, 3, 4, 1], [1, 4, 1, 3], [1, 4, 3, 1], [1, 1, 3, 4], [1, 1, 4, 3], [1, 3, 1, 4], [1, 3, 4, 1], [1, 4, 1, 3], [1, 4, 3, 1], [3, 1, 1, 4], [3, 1, 4, 1], [3, 1, 1, 4], [3, 1, 4, 1], [3, 4, 1, 1], [3, 4, 1, 1], [4, 1, 1, 3], [4, 1, 3, 1], [4, 1, 1, 3], [4, 1, 3, 1], [4, 3, 1, 1], [4, 3, 1, 1]]\n"
     ]
    }
   ],
   "source": [
    "def do_backtrack(a:list, inputs:list):\n",
    "    c = []\n",
    "    if (is_a_solution(a, inputs)):\n",
    "        process_solution(a, inputs)\n",
    "    else:\n",
    "        construct_candidate(a, inputs, c)\n",
    "        for i in c:\n",
    "            a.append(i)\n",
    "            do_backtrack(a, inputs)\n",
    "            a.pop()           \n",
    "def process_solution(a:list, inputs:list):\n",
    "    solution.append(a.copy())\n",
    "def is_a_solution(a:list, inputs:list)->bool:\n",
    "    return len(a) == len(inputs)\n",
    "def construct_candidate(a:list, inputs:list, c:list):\n",
    "    copyInputs = [e for e in inputs]\n",
    "    for e in a:\n",
    "        copyInputs.remove(e)\n",
    "    for e in copyInputs:\n",
    "        c.append(e)\n",
    "    #for i in inputs:\n",
    "     #   tamp = c.copy()\n",
    "      #  tamp.append(i)\n",
    "       # if tamp.count(i) <= inputs.count(i) and tamp not in solution :\n",
    "        #    c.append(i)\n",
    "solution = []    \n",
    "do_backtrack([],[1, 1, 3, 4])\n",
    "print(solution)"
   ]
  },
  {
   "cell_type": "code",
   "execution_count": 35,
   "metadata": {},
   "outputs": [
    {
     "data": {
      "text/plain": [
       "[2]"
      ]
     },
     "execution_count": 35,
     "metadata": {},
     "output_type": "execute_result"
    }
   ],
   "source": [
    "a = [2,3]\n",
    "a.pop()\n",
    "a"
   ]
  },
  {
   "cell_type": "code",
   "execution_count": 54,
   "metadata": {},
   "outputs": [
    {
     "name": "stdout",
     "output_type": "stream",
     "text": [
      "2\n"
     ]
    }
   ],
   "source": [
    "def do_backtrack(a:list, inputs:list):\n",
    "    c = []\n",
    "    if (is_a_solution(a, inputs)):\n",
    "        process_solution(a, inputs)\n",
    "    else:\n",
    "        construct_candidate(a, inputs, c)\n",
    "        for i in c:\n",
    "            a.append(i)\n",
    "            do_backtrack(a, inputs)\n",
    "            a.pop() \n",
    "def is_a_solution(a:list, inputs:list)->bool:\n",
    "    return len(a) == len(inputs)\n",
    "def construct_candidate(a:list, inputs:list, c:list):\n",
    "    k = len(a)\n",
    "    n = len(inputs)\n",
    "    # if k == 1 and n & 1 == 0:\n",
    "    # n //= 2 #Only get left part of symmetric solutions when n is even\n",
    "    for i in range(n):\n",
    "        legal_move = True\n",
    "        for j in range(k):\n",
    "            if abs(k-j) == abs(i-a[j]): #Diagonal threat\n",
    "                legal_move = False\n",
    "            if i == a[j]: #Column threat\n",
    "                legal_move = False\n",
    "        if legal_move:\n",
    "            c.append(i)\n",
    "def process_solution(a:list, inputs:list):\n",
    "    global solution_count\n",
    "    solution_count += 1\n",
    "    # if len(inputs) & 1 == 0:\n",
    "    # solution_count += 1\n",
    "solution_count = 0\n",
    "n = 4\n",
    "do_backtrack([],[0]*n)\n",
    "print(solution_count)"
   ]
  },
  {
   "cell_type": "code",
   "execution_count": 71,
   "metadata": {},
   "outputs": [
    {
     "data": {
      "text/plain": [
       "[3, 2]"
      ]
     },
     "execution_count": 71,
     "metadata": {},
     "output_type": "execute_result"
    }
   ],
   "source": [
    "c = [3, 2]\n",
    "tamp = c.copy()\n",
    "tamp.append(2)\n",
    "c"
   ]
  },
  {
   "cell_type": "code",
   "execution_count": 65,
   "metadata": {},
   "outputs": [
    {
     "data": {
      "text/plain": [
       "True"
      ]
     },
     "execution_count": 65,
     "metadata": {},
     "output_type": "execute_result"
    }
   ],
   "source": [
    "set([1, 1, 1, 1])<set([1, 2])"
   ]
  },
  {
   "cell_type": "code",
   "execution_count": 66,
   "metadata": {},
   "outputs": [
    {
     "data": {
      "text/plain": [
       "False"
      ]
     },
     "execution_count": 66,
     "metadata": {},
     "output_type": "execute_result"
    }
   ],
   "source": [
    "all(elem in [1,1,1,1]  for elem in [1,2,3,4])"
   ]
  },
  {
   "cell_type": "code",
   "execution_count": null,
   "metadata": {},
   "outputs": [],
   "source": []
  }
 ],
 "metadata": {
  "kernelspec": {
   "display_name": "Python 3",
   "language": "python",
   "name": "python3"
  },
  "language_info": {
   "codemirror_mode": {
    "name": "ipython",
    "version": 3
   },
   "file_extension": ".py",
   "mimetype": "text/x-python",
   "name": "python",
   "nbconvert_exporter": "python",
   "pygments_lexer": "ipython3",
   "version": "3.7.6"
  }
 },
 "nbformat": 4,
 "nbformat_minor": 4
}
