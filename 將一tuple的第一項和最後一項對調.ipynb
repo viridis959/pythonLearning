{
 "cells": [
  {
   "cell_type": "code",
   "execution_count": 1,
   "metadata": {},
   "outputs": [],
   "source": [
    "# 回傳一tuple的第一項和最後一項對調的結果\n",
    "def swap_head_and_tail(a_tuple):\n",
    "    if a_tuple[-1:] != a_tuple[:1]:\n",
    "        new_tuple = a_tuple[-1:] + a_tuple[1:-1] + a_tuple[:1]\n",
    "        return new_tuple\n",
    "    else:\n",
    "        return a_tuple"
   ]
  },
  {
   "cell_type": "code",
   "execution_count": 2,
   "metadata": {},
   "outputs": [
    {
     "name": "stdout",
     "output_type": "stream",
     "text": [
      "Please enter your content(type quit to quit): u\n",
      "Please enter your content(type quit to quit): 12\n",
      "Please enter your content(type quit to quit): sfewp\n",
      "Please enter your content(type quit to quit): quit\n"
     ]
    },
    {
     "data": {
      "text/plain": [
       "('sfewp', '12', 'u')"
      ]
     },
     "execution_count": 2,
     "metadata": {},
     "output_type": "execute_result"
    }
   ],
   "source": [
    "# 以while迴圈來input tuple的內容\n",
    "container = []\n",
    "typing = \"\"\n",
    "while typing != \"quit\":\n",
    "    typing = input(\"Please enter your content(type quit to quit): \")\n",
    "    container.append(typing)\n",
    "container.pop()\n",
    "swap_head_and_tail(tuple(container))    "
   ]
  }
 ],
 "metadata": {
  "kernelspec": {
   "display_name": "Python 3",
   "language": "python",
   "name": "python3"
  },
  "language_info": {
   "codemirror_mode": {
    "name": "ipython",
    "version": 3
   },
   "file_extension": ".py",
   "mimetype": "text/x-python",
   "name": "python",
   "nbconvert_exporter": "python",
   "pygments_lexer": "ipython3",
   "version": "3.7.4"
  }
 },
 "nbformat": 4,
 "nbformat_minor": 2
}
