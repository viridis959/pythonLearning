{
 "cells": [
  {
   "cell_type": "code",
   "execution_count": 1,
   "metadata": {},
   "outputs": [],
   "source": [
    "import pandas as pd\n",
    "import numpy as np"
   ]
  },
  {
   "cell_type": "code",
   "execution_count": 2,
   "metadata": {},
   "outputs": [],
   "source": [
    "df = pd.read_csv(\"euw.csv\")\n",
    "df2 = pd.read_csv(\"KR20K.csv\")\n",
    "df2 = df2[df2.result != 2]"
   ]
  },
  {
   "cell_type": "code",
   "execution_count": 3,
   "metadata": {},
   "outputs": [],
   "source": [
    "df = df.append(df2, ignore_index=True)"
   ]
  },
  {
   "cell_type": "code",
   "execution_count": 4,
   "metadata": {},
   "outputs": [],
   "source": [
    "df = df.drop(columns = df.columns[0])\n",
    "df.dropna(inplace=True)"
   ]
  },
  {
   "cell_type": "code",
   "execution_count": 5,
   "metadata": {},
   "outputs": [],
   "source": [
    "Y = df[\"result\"].to_numpy().reshape(13904,1)\n",
    "df = df.drop(columns = \"result\")"
   ]
  },
  {
   "cell_type": "code",
   "execution_count": 6,
   "metadata": {},
   "outputs": [],
   "source": [
    "X = df.to_numpy()"
   ]
  },
  {
   "cell_type": "code",
   "execution_count": 7,
   "metadata": {},
   "outputs": [],
   "source": [
    "from sklearn.model_selection import train_test_split \n",
    "X_train, X_test, Y_train, Y_test = train_test_split(X, Y, test_size =0.2, random_state = 87)"
   ]
  },
  {
   "cell_type": "code",
   "execution_count": 8,
   "metadata": {},
   "outputs": [],
   "source": [
    "from tensorflow.keras.models import Sequential\n",
    "from tensorflow.keras.layers import Dense, Activation\n",
    "from tensorflow.keras.optimizers import SGD\n",
    "from tensorflow.keras.utils import to_categorical"
   ]
  },
  {
   "cell_type": "code",
   "execution_count": 9,
   "metadata": {},
   "outputs": [],
   "source": [
    "Y_train = to_categorical(Y_train, 2)\n",
    "Y_test = to_categorical(Y_test, 2)\n",
    "X_train = X_train.astype(dtype = 'float32')\n",
    "X_test = X_test.astype(dtype = 'float32')\n",
    "Y_train = Y_train.astype(dtype = 'float32')\n",
    "X_test = X_test.astype(dtype = 'float32')"
   ]
  },
  {
   "cell_type": "code",
   "execution_count": 10,
   "metadata": {},
   "outputs": [],
   "source": [
    "model = Sequential()\n",
    "model.add(Dense(1000,input_dim = 23,activation = \"relu\"))\n",
    "model.add(Dense(1000,activation = \"relu\"))\n",
    "model.add(Dense(1000,activation = \"relu\"))\n",
    "model.add(Dense(2,activation = \"sigmoid\"))\n",
    "from tensorflow.keras.losses import BinaryCrossentropy\n",
    "from tensorflow.keras.optimizers import Adam\n",
    "model.compile(loss = BinaryCrossentropy(), optimizer=Adam(lr=0.0001), metrics=  [\"accuracy\"])"
   ]
  },
  {
   "cell_type": "code",
   "execution_count": null,
   "metadata": {
    "scrolled": false
   },
   "outputs": [
    {
     "name": "stdout",
     "output_type": "stream",
     "text": [
      "Train on 11123 samples\n",
      "Epoch 1/100\n",
      "11123/11123 [==============================] - 53s 5ms/sample - loss: 0.6939 - accuracy: 0.4957\n",
      "Epoch 2/100\n",
      "11123/11123 [==============================] - 54s 5ms/sample - loss: 0.6934 - accuracy: 0.4969\n",
      "Epoch 3/100\n",
      "11123/11123 [==============================] - 57s 5ms/sample - loss: 0.6934 - accuracy: 0.4972\n",
      "Epoch 4/100\n",
      "11123/11123 [==============================] - 53s 5ms/sample - loss: 0.6932 - accuracy: 0.5059\n",
      "Epoch 5/100\n",
      "11123/11123 [==============================] - 52s 5ms/sample - loss: 0.6933 - accuracy: 0.4983\n",
      "Epoch 6/100\n",
      "11123/11123 [==============================] - 53s 5ms/sample - loss: 0.6932 - accuracy: 0.4984\n",
      "Epoch 7/100\n",
      "11123/11123 [==============================] - 54s 5ms/sample - loss: 0.6932 - accuracy: 0.4991\n",
      "Epoch 8/100\n",
      "11123/11123 [==============================] - 53s 5ms/sample - loss: 0.6932 - accuracy: 0.4990\n",
      "Epoch 9/100\n",
      "11123/11123 [==============================] - 53s 5ms/sample - loss: 0.6932 - accuracy: 0.4968\n",
      "Epoch 10/100\n",
      "11123/11123 [==============================] - 54s 5ms/sample - loss: 0.6932 - accuracy: 0.4991\n",
      "Epoch 11/100\n",
      "11123/11123 [==============================] - 53s 5ms/sample - loss: 0.6932 - accuracy: 0.5013\n",
      "Epoch 12/100\n",
      "11123/11123 [==============================] - 54s 5ms/sample - loss: 0.6932 - accuracy: 0.5026\n",
      "Epoch 13/100\n",
      "11123/11123 [==============================] - 54s 5ms/sample - loss: 0.6932 - accuracy: 0.5011\n",
      "Epoch 14/100\n",
      " 5755/11123 [==============>...............] - ETA: 25s - loss: 0.6932 - accuracy: 0.495"
     ]
    }
   ],
   "source": [
    "model.fit(X_train,Y_train, batch_size = 5, epochs =100)"
   ]
  },
  {
   "cell_type": "code",
   "execution_count": null,
   "metadata": {},
   "outputs": [],
   "source": [
    "model.evaluate(X_test,Y_test)"
   ]
  },
  {
   "cell_type": "code",
   "execution_count": null,
   "metadata": {},
   "outputs": [],
   "source": [
    "model.predict(np.array([0.5]*5 + [0.5]*4 + [0.5]*5 + [0.5]*5 + [0.5]*4).reshape(1,23))"
   ]
  },
  {
   "cell_type": "code",
   "execution_count": null,
   "metadata": {},
   "outputs": [],
   "source": [
    "model.predict(np.array([0.7]*5 + [0.5]*4 + [0.5]*5 + [0.5]*5 + [0.5]*4).reshape(1,23))"
   ]
  },
  {
   "cell_type": "code",
   "execution_count": null,
   "metadata": {},
   "outputs": [],
   "source": [
    "model.predict(np.array([0.5]*5 + [0.7]*4 + [0.5]*5 + [0.5]*5 + [0.5]*4).reshape(1,23))"
   ]
  },
  {
   "cell_type": "code",
   "execution_count": null,
   "metadata": {},
   "outputs": [],
   "source": [
    "model.predict(np.array([0.5]*5 + [0.5]*4 + [0.7]*5 + [0.5]*5 + [0.5]*4).reshape(1,23))"
   ]
  },
  {
   "cell_type": "code",
   "execution_count": null,
   "metadata": {},
   "outputs": [],
   "source": [
    "model.predict(np.array([0.5]*5 + [0.5]*4 + [0.5]*5 + [0.7]*5 + [0.5]*4).reshape(1,23))"
   ]
  },
  {
   "cell_type": "code",
   "execution_count": null,
   "metadata": {},
   "outputs": [],
   "source": [
    "model.predict(np.array([0.5]*5 + [0.5]*4 + [0.5]*5 + [0.5]*5 + [0.7]*4).reshape(1,23))"
   ]
  },
  {
   "cell_type": "code",
   "execution_count": null,
   "metadata": {},
   "outputs": [],
   "source": [
    "model.predict(np.array([0.3]*5 + [0.5]*4 + [0.7]*5 + [0.5]*5 + [0.5]*4).reshape(1,23))"
   ]
  },
  {
   "cell_type": "code",
   "execution_count": null,
   "metadata": {},
   "outputs": [],
   "source": [
    "model.predict(np.array([0.7]*5 + [0.5]*4 + [0.3]*5 + [0.5]*5 + [0.5]*4).reshape(1,23))"
   ]
  },
  {
   "cell_type": "code",
   "execution_count": null,
   "metadata": {},
   "outputs": [],
   "source": []
  },
  {
   "cell_type": "code",
   "execution_count": null,
   "metadata": {},
   "outputs": [],
   "source": []
  }
 ],
 "metadata": {
  "kernelspec": {
   "display_name": "Python 3",
   "language": "python",
   "name": "python3"
  },
  "language_info": {
   "codemirror_mode": {
    "name": "ipython",
    "version": 3
   },
   "file_extension": ".py",
   "mimetype": "text/x-python",
   "name": "python",
   "nbconvert_exporter": "python",
   "pygments_lexer": "ipython3",
   "version": "3.7.6"
  }
 },
 "nbformat": 4,
 "nbformat_minor": 4
}
