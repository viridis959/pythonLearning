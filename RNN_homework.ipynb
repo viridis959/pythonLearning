{
 "cells": [
  {
   "cell_type": "code",
   "execution_count": 1,
   "metadata": {},
   "outputs": [],
   "source": [
    "%matplotlib inline\n",
    "\n",
    "import numpy as np\n",
    "import matplotlib.pyplot as plt\n",
    "import pandas as pd"
   ]
  },
  {
   "cell_type": "code",
   "execution_count": 2,
   "metadata": {},
   "outputs": [],
   "source": [
    "from tensorflow.keras.preprocessing import sequence\n",
    "from tensorflow.keras.models import Sequential\n",
    "from tensorflow.keras.layers import Dense, Embedding\n",
    "from tensorflow.keras.layers import LSTM\n",
    "from tensorflow.keras.datasets import imdb"
   ]
  },
  {
   "cell_type": "code",
   "execution_count": 3,
   "metadata": {},
   "outputs": [],
   "source": [
    "(x_train, y_train), (x_test, y_test) = imdb.load_data(num_words=10000)"
   ]
  },
  {
   "cell_type": "code",
   "execution_count": 4,
   "metadata": {},
   "outputs": [],
   "source": [
    "x_train = sequence.pad_sequences(x_train, maxlen=100)\n",
    "x_test = sequence.pad_sequences(x_test, maxlen=100)"
   ]
  },
  {
   "cell_type": "code",
   "execution_count": 5,
   "metadata": {},
   "outputs": [],
   "source": [
    "#打造函數學習機\n",
    "model = Sequential()\n",
    "model.add(Embedding(10000, 64))\n",
    "model.add(LSTM(64, dropout=0.2, recurrent_dropout=0.2))\n",
    "model.add(Dense(1, activation='sigmoid'))\n",
    "#使用binary_crossentropy loss function、adam optimizer \n",
    "model.compile(loss='binary_crossentropy', optimizer='adam', metrics=['accuracy'])"
   ]
  },
  {
   "cell_type": "code",
   "execution_count": 6,
   "metadata": {},
   "outputs": [
    {
     "name": "stdout",
     "output_type": "stream",
     "text": [
      "Train on 25000 samples, validate on 25000 samples\n",
      "Epoch 1/10\n",
      "25000/25000 [==============================] - 86s 3ms/sample - loss: 0.4687 - accuracy: 0.7790 - val_loss: 0.3706 - val_accuracy: 0.8386\n",
      "Epoch 2/10\n",
      "25000/25000 [==============================] - 81s 3ms/sample - loss: 0.3287 - accuracy: 0.8626 - val_loss: 0.3626 - val_accuracy: 0.8421\n",
      "Epoch 3/10\n",
      "25000/25000 [==============================] - 81s 3ms/sample - loss: 0.2680 - accuracy: 0.8925 - val_loss: 0.4106 - val_accuracy: 0.8153\n",
      "Epoch 4/10\n",
      "25000/25000 [==============================] - 83s 3ms/sample - loss: 0.2269 - accuracy: 0.9108 - val_loss: 0.3994 - val_accuracy: 0.8446\n",
      "Epoch 5/10\n",
      "25000/25000 [==============================] - 84s 3ms/sample - loss: 0.1871 - accuracy: 0.9282 - val_loss: 0.4156 - val_accuracy: 0.8391\n",
      "Epoch 6/10\n",
      "25000/25000 [==============================] - 83s 3ms/sample - loss: 0.1508 - accuracy: 0.9455 - val_loss: 0.4519 - val_accuracy: 0.8388\n",
      "Epoch 7/10\n",
      "25000/25000 [==============================] - 83s 3ms/sample - loss: 0.1319 - accuracy: 0.9518 - val_loss: 0.4955 - val_accuracy: 0.8207\n",
      "Epoch 8/10\n",
      "25000/25000 [==============================] - 83s 3ms/sample - loss: 0.1085 - accuracy: 0.9605 - val_loss: 0.5549 - val_accuracy: 0.8349\n",
      "Epoch 9/10\n",
      "25000/25000 [==============================] - 84s 3ms/sample - loss: 0.0953 - accuracy: 0.9664 - val_loss: 0.5974 - val_accuracy: 0.8274\n",
      "Epoch 10/10\n",
      "25000/25000 [==============================] - 84s 3ms/sample - loss: 0.0788 - accuracy: 0.9732 - val_loss: 0.6127 - val_accuracy: 0.8302\n"
     ]
    },
    {
     "data": {
      "text/plain": [
       "<tensorflow.python.keras.callbacks.History at 0x244bc033488>"
      ]
     },
     "execution_count": 6,
     "metadata": {},
     "output_type": "execute_result"
    }
   ],
   "source": [
    "model.fit(x_train, y_train, batch_size=32, epochs=10, validation_data=(x_test, y_test))"
   ]
  },
  {
   "cell_type": "code",
   "execution_count": 7,
   "metadata": {},
   "outputs": [],
   "source": [
    "#打造函數學習機2\n",
    "model2 = Sequential()\n",
    "model2.add(Embedding(10000, 64))\n",
    "model2.add(LSTM(64, dropout=0.2, recurrent_dropout=0.2))\n",
    "model2.add(Dense(1, activation='sigmoid'))\n",
    "#使用binary_crossentropy loss function、rmsprop optimizer \n",
    "model2.compile(loss='binary_crossentropy', optimizer='rmsprop', metrics=['accuracy'])"
   ]
  },
  {
   "cell_type": "code",
   "execution_count": 8,
   "metadata": {},
   "outputs": [
    {
     "name": "stdout",
     "output_type": "stream",
     "text": [
      "Train on 25000 samples, validate on 25000 samples\n",
      "Epoch 1/10\n",
      "25000/25000 [==============================] - 79s 3ms/sample - loss: 0.4576 - accuracy: 0.7846 - val_loss: 0.5546 - val_accuracy: 0.7970\n",
      "Epoch 2/10\n",
      "25000/25000 [==============================] - 78s 3ms/sample - loss: 0.3354 - accuracy: 0.8600 - val_loss: 0.4270 - val_accuracy: 0.8096\n",
      "Epoch 3/10\n",
      "25000/25000 [==============================] - 78s 3ms/sample - loss: 0.2952 - accuracy: 0.8794 - val_loss: 0.3593 - val_accuracy: 0.8509\n",
      "Epoch 4/10\n",
      "25000/25000 [==============================] - 78s 3ms/sample - loss: 0.2685 - accuracy: 0.8914 - val_loss: 0.3334 - val_accuracy: 0.8593\n",
      "Epoch 5/10\n",
      "25000/25000 [==============================] - 76s 3ms/sample - loss: 0.2493 - accuracy: 0.9026 - val_loss: 0.3446 - val_accuracy: 0.8563\n",
      "Epoch 6/10\n",
      "25000/25000 [==============================] - 76s 3ms/sample - loss: 0.2343 - accuracy: 0.9072 - val_loss: 0.3349 - val_accuracy: 0.8624\n",
      "Epoch 7/10\n",
      "25000/25000 [==============================] - 76s 3ms/sample - loss: 0.2210 - accuracy: 0.9151 - val_loss: 0.3228 - val_accuracy: 0.8619\n",
      "Epoch 8/10\n",
      "25000/25000 [==============================] - 76s 3ms/sample - loss: 0.2093 - accuracy: 0.9200 - val_loss: 0.3937 - val_accuracy: 0.8514\n",
      "Epoch 9/10\n",
      "25000/25000 [==============================] - 77s 3ms/sample - loss: 0.1944 - accuracy: 0.9266 - val_loss: 0.3371 - val_accuracy: 0.8588\n",
      "Epoch 10/10\n",
      "25000/25000 [==============================] - 79s 3ms/sample - loss: 0.1836 - accuracy: 0.9303 - val_loss: 0.3458 - val_accuracy: 0.8606\n"
     ]
    },
    {
     "data": {
      "text/plain": [
       "<tensorflow.python.keras.callbacks.History at 0x244bfb54588>"
      ]
     },
     "execution_count": 8,
     "metadata": {},
     "output_type": "execute_result"
    }
   ],
   "source": [
    "model2.fit(x_train, y_train, batch_size=32, epochs=10, validation_data=(x_test, y_test))"
   ]
  },
  {
   "cell_type": "code",
   "execution_count": 9,
   "metadata": {},
   "outputs": [
    {
     "name": "stdout",
     "output_type": "stream",
     "text": [
      "25000/25000 [==============================] - 10s 391us/sample - loss: 0.6127 - accuracy: 0.8302\n",
      "25000/25000 [==============================] - 10s 390us/sample - loss: 0.3458 - accuracy: 0.8606\n"
     ]
    }
   ],
   "source": [
    "score1 = model.evaluate(x_test, y_test)\n",
    "score2 = model2.evaluate(x_test, y_test)"
   ]
  },
  {
   "cell_type": "code",
   "execution_count": 10,
   "metadata": {},
   "outputs": [],
   "source": [
    "#使用binary_crossentropy loss function、rmsprop optimizer 的準確性會比較高"
   ]
  },
  {
   "cell_type": "code",
   "execution_count": null,
   "metadata": {},
   "outputs": [],
   "source": []
  }
 ],
 "metadata": {
  "kernelspec": {
   "display_name": "Python 3",
   "language": "python",
   "name": "python3"
  },
  "language_info": {
   "codemirror_mode": {
    "name": "ipython",
    "version": 3
   },
   "file_extension": ".py",
   "mimetype": "text/x-python",
   "name": "python",
   "nbconvert_exporter": "python",
   "pygments_lexer": "ipython3",
   "version": "3.7.6"
  }
 },
 "nbformat": 4,
 "nbformat_minor": 4
}
