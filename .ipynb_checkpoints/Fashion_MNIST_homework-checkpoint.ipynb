{
 "cells": [
  {
   "cell_type": "code",
   "execution_count": 1,
   "metadata": {},
   "outputs": [],
   "source": [
    "%matplotlib inline\n",
    "\n",
    "import numpy as np\n",
    "import matplotlib.pyplot as plt\n",
    "import tensorflow as tf"
   ]
  },
  {
   "cell_type": "markdown",
   "metadata": {},
   "source": [
    "### 1. 讀入 Fashion MNSIT 數據集"
   ]
  },
  {
   "cell_type": "code",
   "execution_count": 2,
   "metadata": {},
   "outputs": [],
   "source": [
    "from tensorflow.keras.datasets import fashion_mnist"
   ]
  },
  {
   "cell_type": "code",
   "execution_count": 3,
   "metadata": {},
   "outputs": [],
   "source": [
    "(x_train, y_train), (x_test, y_test) = fashion_mnist.load_data()"
   ]
  },
  {
   "cell_type": "markdown",
   "metadata": {},
   "source": [
    "### 2. 欣賞數據集內容"
   ]
  },
  {
   "cell_type": "code",
   "execution_count": 4,
   "metadata": {},
   "outputs": [],
   "source": [
    "class_names = ['T-shirt/top', 'Trouser', 'Pullover', 'Dress', 'Coat',\n",
    "               'Sandal', 'Shirt', 'Sneaker', 'Bag', 'Ankle boot']"
   ]
  },
  {
   "cell_type": "code",
   "execution_count": 5,
   "metadata": {},
   "outputs": [
    {
     "name": "stdout",
     "output_type": "stream",
     "text": [
      "這是 Bag\n"
     ]
    },
    {
     "data": {
      "image/png": "[encoded data removed]",
      "text/plain": [
       "<Figure size 432x288 with 1 Axes>"
      ]
     },
     "metadata": {
      "needs_background": "light"
     },
     "output_type": "display_data"
    }
   ],
   "source": [
    "n = 1234\n",
    "print('這是', class_names[y_train[n]])\n",
    "plt.imshow(x_train[n], cmap='Greys');"
   ]
  },
  {
   "cell_type": "code",
   "execution_count": 6,
   "metadata": {},
   "outputs": [
    {
     "data": {
      "image/png": "[encoded data removed]",
      "text/plain": [
       "<Figure size 432x288 with 5 Axes>"
      ]
     },
     "metadata": {},
     "output_type": "display_data"
    }
   ],
   "source": [
    "pick = np.random.choice(60000, 5, replace=False)\n",
    "\n",
    "for i in range(5):\n",
    "    n = pick[i]\n",
    "    ax = plt.subplot(151+i)\n",
    "    ax.set_xticks([])\n",
    "    ax.set_yticks([])\n",
    "    ax.set_title(class_names[y_train[n]], fontsize=10)\n",
    "    plt.imshow(x_train[n], cmap='Greys')  "
   ]
  },
  {
   "cell_type": "markdown",
   "metadata": {},
   "source": [
    "### 3.資料整理"
   ]
  },
  {
   "cell_type": "code",
   "execution_count": 7,
   "metadata": {},
   "outputs": [
    {
     "name": "stdout",
     "output_type": "stream",
     "text": [
      "60000 10000 (60000, 28, 28) [[  0   0   0   0   0   0   0   0   1   0  79 116  76  28  61 116 123  52\n",
      "    0   0   0   0   0   0   0   0   0   0]\n",
      " [  0   0   0   0   0   0   0   0   0  87 174 166 178 107 150 150 167 157\n",
      "   20   0   0   0   0   0   0   0   0   0]\n",
      " [  0   0   0   0   0   0   0   0   0  88 130 148 151  84 131 159 134 123\n",
      "   21   0   0   0   0   0   0   0   0   0]\n",
      " [  0   0   0   0   0   0   0   0   0  97 120 111 139 163 155 111 110 139\n",
      "   28   0   0   0   0   0   0   0   0   0]\n",
      " [  0   0   0   0   0   0   0   0   0  99 126 112  99  97 103 108 107 139\n",
      "   32   0   0   0   0   0   0   0   0   0]\n",
      " [  0   0   0   0   0   0   0   0   0 106 119 104 102 111 110 103  96 136\n",
      "   36   0   0   0   0   0   0   0   0   0]\n",
      " [  0   0   0   0   0   0   0   0   0 110 116  93  96  96  97  92  93 138\n",
      "   41   0   0   0   0   0   0   0   0   0]\n",
      " [  0   0   0   0   0   0   0   0   0 112 115  95  91  96 100  96  96 143\n",
      "   49   0   0   0   0   0   0   0   0   0]\n",
      " [  0   0   0   0   0   0   0   0   0 122 111  93  95  97 100  97  93 135\n",
      "   60   0   0   0   0   0   0   0   0   0]\n",
      " [  0   0   0   0   0   0   0   0   1 128 108  95  96  95  95  93  92 128\n",
      "   95   0   0   0   0   0   0   0   0   0]\n",
      " [  0   0   0   0   0   0   0   0  71 130 103  97  93  93  91  92  92 111\n",
      "  138  20   0   0   0   0   0   0   0   0]\n",
      " [  0   0   0   0   0   0   0   0 120 122 107  97  92  97  92  96  96 111\n",
      "  144  59   0   0   0   0   0   0   0   0]\n",
      " [  0   0   0   0   0   0   0   0 112 119 106  99  93  95  92  92  96 103\n",
      "  146  48   0   0   0   0   0   0   0   0]\n",
      " [  0   0   0   0   0   0   0   0 107 119 110  97  93  92  99  92  95 103\n",
      "  150  56   0   0   0   0   0   0   0   0]\n",
      " [  0   0   0   0   0   0   0   0  97 116 116  95  92  96  99  92  99 102\n",
      "  144  52   0   0   0   0   0   0   0   0]\n",
      " [  0   0   0   0   0   0   0   0  95 116 118 100  93  96  92  96 100 102\n",
      "  136  51   0   0   0   0   0   0   0   0]\n",
      " [  0   0   0   0   0   0   0   0 107 119 112 103  92  95  93  97  99  97\n",
      "  126  59   0   0   0   0   0   0   0   0]\n",
      " [  0   0   0   0   0   0   0   0 124 116 115 112 102  99  96  99 100  95\n",
      "  126  63   0   0   0   0   0   0   0   0]\n",
      " [  0   0   0   0   0   0   0   0 127 112 114 114 103 102 102 102  99  99\n",
      "  132  55   0   0   0   0   0   0   0   0]\n",
      " [  0   0   0   0   0   0   0   0 127 110 116 114 102  99 103 103 100 102\n",
      "  124  52   0   0   0   0   0   0   0   0]\n",
      " [  0   0   0   0   0   0   0   0 130 110 115 112 104 100  97 103 107  91\n",
      "  159  68   0   0   0   0   0   0   0   0]\n",
      " [  0   0   0   0   0   0   0   0 130 110 107 118 108 102  97 107 115  92\n",
      "  175  67   0   0   0   0   0   0   0   0]\n",
      " [  0   0   0   0   0   0   0   0 128 118 104 123 107 106 104 110 111 100\n",
      "  134  53   0   0   0   0   0   0   0   0]\n",
      " [  0   0   0   0   0   0   0   0 130 119 106 124 110 110 108 110 110 106\n",
      "  135  73   0   0   0   0   0   0   0   0]\n",
      " [  0   0   0   0   0   0   0   0 127 107 115 136 119 110 115 114 118 107\n",
      "  130 108   0   0   0   0   0   0   0   0]\n",
      " [  0   0   0   0   0   0   0   0 190 110  89 115  96  92  92  99 100  87\n",
      "  154 134   0   0   0   0   0   0   0   0]\n",
      " [  0   0   0   0   0   0   0   0 202 255 186 185 182 178 177 179 185 199\n",
      "  201 140   0   0   0   0   0   0   0   0]\n",
      " [  0   0   0   0   0   0   0   0  18  85 124 134 135 135 132 127 108  95\n",
      "   96  22   0   0   0   0   0   0   0   0]]\n"
     ]
    }
   ],
   "source": [
    "#查看數據特徵\n",
    "print(len(x_train), len(x_test), x_train.shape, x_train[9487])"
   ]
  },
  {
   "cell_type": "code",
   "execution_count": 8,
   "metadata": {},
   "outputs": [],
   "source": [
    "# 數據轉換為合適格式\n",
    "x_train = x_train / 255\n",
    "x_test = x_test / 255\n",
    "x_train = x_train.reshape(60000, 784)\n",
    "x_test = x_test.reshape(10000, 784)"
   ]
  },
  {
   "cell_type": "code",
   "execution_count": 9,
   "metadata": {},
   "outputs": [],
   "source": [
    "from tensorflow.keras.utils import to_categorical\n",
    "y_train = to_categorical(y_train, 10)\n",
    "y_test = to_categorical(y_test, 10)"
   ]
  },
  {
   "cell_type": "markdown",
   "metadata": {},
   "source": [
    "### 4.建立神經網路"
   ]
  },
  {
   "cell_type": "code",
   "execution_count": 10,
   "metadata": {},
   "outputs": [],
   "source": [
    "from tensorflow.keras.models import Sequential\n",
    "from tensorflow.keras.layers import Dense, Activation\n",
    "from tensorflow.keras.optimizers import SGD"
   ]
  },
  {
   "cell_type": "code",
   "execution_count": 11,
   "metadata": {},
   "outputs": [],
   "source": [
    "model = Sequential()\n",
    "model.add(Dense(128,input_dim = 784,activation = \"relu\"))\n",
    "model.add(Dense(64,activation = \"relu\"))\n",
    "model.add(Dense(16,activation = \"relu\"))\n",
    "model.add(Dense(10,activation = \"softmax\"))"
   ]
  },
  {
   "cell_type": "code",
   "execution_count": 12,
   "metadata": {},
   "outputs": [],
   "source": [
    "# 使用 cross-entropy loss function\n",
    "from tensorflow.keras.losses import BinaryCrossentropy\n",
    "model.compile( loss = BinaryCrossentropy(), optimizer=SGD(lr = 0.001), metrics=  [\"accuracy\"])"
   ]
  },
  {
   "cell_type": "code",
   "execution_count": 13,
   "metadata": {},
   "outputs": [
    {
     "name": "stdout",
     "output_type": "stream",
     "text": [
      "Model: \"sequential\"\n",
      "_________________________________________________________________\n",
      "Layer (type)                 Output Shape              Param #   \n",
      "=================================================================\n",
      "dense (Dense)                (None, 128)               100480    \n",
      "_________________________________________________________________\n",
      "dense_1 (Dense)              (None, 64)                8256      \n",
      "_________________________________________________________________\n",
      "dense_2 (Dense)              (None, 16)                1040      \n",
      "_________________________________________________________________\n",
      "dense_3 (Dense)              (None, 10)                170       \n",
      "=================================================================\n",
      "Total params: 109,946\n",
      "Trainable params: 109,946\n",
      "Non-trainable params: 0\n",
      "_________________________________________________________________\n"
     ]
    }
   ],
   "source": [
    "model.summary()"
   ]
  },
  {
   "cell_type": "code",
   "execution_count": 15,
   "metadata": {},
   "outputs": [
    {
     "name": "stdout",
     "output_type": "stream",
     "text": [
      "Train on 60000 samples\n",
      "Epoch 1/20\n",
      "60000/60000 [==============================] - 1s 21us/sample - loss: 0.3134 - accuracy: 0.9000\n",
      "Epoch 2/20\n",
      "60000/60000 [==============================] - 1s 21us/sample - loss: 0.3117 - accuracy: 0.9000\n",
      "Epoch 3/20\n",
      "60000/60000 [==============================] - 1s 21us/sample - loss: 0.3099 - accuracy: 0.9000\n",
      "Epoch 4/20\n",
      "60000/60000 [==============================] - 2s 26us/sample - loss: 0.3081 - accuracy: 0.9000\n",
      "Epoch 5/20\n",
      "60000/60000 [==============================] - 1s 22us/sample - loss: 0.3063 - accuracy: 0.9000\n",
      "Epoch 6/20\n",
      "60000/60000 [==============================] - ETA: 0s - loss: 0.3043 - accuracy: 0.90 - 1s 22us/sample - loss: 0.3043 - accuracy: 0.9000\n",
      "Epoch 7/20\n",
      "60000/60000 [==============================] - 1s 22us/sample - loss: 0.3023 - accuracy: 0.9000\n",
      "Epoch 8/20\n",
      "60000/60000 [==============================] - 1s 25us/sample - loss: 0.3002 - accuracy: 0.9000\n",
      "Epoch 9/20\n",
      "60000/60000 [==============================] - 2s 31us/sample - loss: 0.2981 - accuracy: 0.9000\n",
      "Epoch 10/20\n",
      "60000/60000 [==============================] - 1s 22us/sample - loss: 0.2959 - accuracy: 0.9000\n",
      "Epoch 11/20\n",
      "60000/60000 [==============================] - 1s 22us/sample - loss: 0.2937 - accuracy: 0.9000\n",
      "Epoch 12/20\n",
      "60000/60000 [==============================] - 1s 22us/sample - loss: 0.2916 - accuracy: 0.9000\n",
      "Epoch 13/20\n",
      "60000/60000 [==============================] - 2s 26us/sample - loss: 0.2894 - accuracy: 0.9000\n",
      "Epoch 14/20\n",
      "60000/60000 [==============================] - 1s 21us/sample - loss: 0.2872 - accuracy: 0.9000\n",
      "Epoch 15/20\n",
      "60000/60000 [==============================] - 1s 22us/sample - loss: 0.2850 - accuracy: 0.9000\n",
      "Epoch 16/20\n",
      "60000/60000 [==============================] - 1s 20us/sample - loss: 0.2828 - accuracy: 0.9000\n",
      "Epoch 17/20\n",
      "60000/60000 [==============================] - 2s 28us/sample - loss: 0.2807 - accuracy: 0.9000\n",
      "Epoch 18/20\n",
      "60000/60000 [==============================] - 1s 22us/sample - loss: 0.2785 - accuracy: 0.9000\n",
      "Epoch 19/20\n",
      "60000/60000 [==============================] - 1s 22us/sample - loss: 0.2763 - accuracy: 0.9002\n",
      "Epoch 20/20\n",
      "60000/60000 [==============================] - 1s 22us/sample - loss: 0.2741 - accuracy: 0.9005\n"
     ]
    },
    {
     "data": {
      "text/plain": [
       "<tensorflow.python.keras.callbacks.History at 0x21896cd9108>"
      ]
     },
     "execution_count": 15,
     "metadata": {},
     "output_type": "execute_result"
    }
   ],
   "source": [
    "model.fit(x_train, y_train, batch_size=200, epochs=20)"
   ]
  },
  {
   "cell_type": "code",
   "execution_count": 16,
   "metadata": {},
   "outputs": [],
   "source": [
    "model2 = Sequential()\n",
    "model2.add(Dense(128,input_dim = 784,activation = \"relu\"))\n",
    "model2.add(Dense(64,activation = \"relu\"))\n",
    "model2.add(Dense(16,activation = \"relu\"))\n",
    "model2.add(Dense(10,activation = \"softmax\"))"
   ]
  },
  {
   "cell_type": "code",
   "execution_count": 17,
   "metadata": {},
   "outputs": [],
   "source": [
    "# 使用 Adam optimizers\n",
    "from tensorflow.keras.optimizers import Adam\n",
    "model2.compile( loss = BinaryCrossentropy(), optimizer=Adam(), metrics=  [\"accuracy\"])"
   ]
  },
  {
   "cell_type": "code",
   "execution_count": 18,
   "metadata": {},
   "outputs": [
    {
     "name": "stdout",
     "output_type": "stream",
     "text": [
      "Model: \"sequential_1\"\n",
      "_________________________________________________________________\n",
      "Layer (type)                 Output Shape              Param #   \n",
      "=================================================================\n",
      "dense_4 (Dense)              (None, 128)               100480    \n",
      "_________________________________________________________________\n",
      "dense_5 (Dense)              (None, 64)                8256      \n",
      "_________________________________________________________________\n",
      "dense_6 (Dense)              (None, 16)                1040      \n",
      "_________________________________________________________________\n",
      "dense_7 (Dense)              (None, 10)                170       \n",
      "=================================================================\n",
      "Total params: 109,946\n",
      "Trainable params: 109,946\n",
      "Non-trainable params: 0\n",
      "_________________________________________________________________\n"
     ]
    }
   ],
   "source": [
    "model2.summary()"
   ]
  },
  {
   "cell_type": "code",
   "execution_count": 21,
   "metadata": {},
   "outputs": [
    {
     "name": "stdout",
     "output_type": "stream",
     "text": [
      "Train on 60000 samples\n",
      "Epoch 1/20\n",
      "60000/60000 [==============================] - 2s 34us/sample - loss: 0.1169 - accuracy: 0.9555\n",
      "Epoch 2/20\n",
      "60000/60000 [==============================] - 1s 24us/sample - loss: 0.0737 - accuracy: 0.9712\n",
      "Epoch 3/20\n",
      "60000/60000 [==============================] - 1s 22us/sample - loss: 0.0653 - accuracy: 0.9743\n",
      "Epoch 4/20\n",
      "60000/60000 [==============================] - 1s 23us/sample - loss: 0.0613 - accuracy: 0.9758\n",
      "Epoch 5/20\n",
      "60000/60000 [==============================] - 2s 27us/sample - loss: 0.0575 - accuracy: 0.9775\n",
      "Epoch 6/20\n",
      "60000/60000 [==============================] - 1s 23us/sample - loss: 0.0548 - accuracy: 0.9784\n",
      "Epoch 7/20\n",
      "60000/60000 [==============================] - 1s 23us/sample - loss: 0.0532 - accuracy: 0.9790\n",
      "Epoch 8/20\n",
      "60000/60000 [==============================] - 2s 27us/sample - loss: 0.0509 - accuracy: 0.9799\n",
      "Epoch 9/20\n",
      "60000/60000 [==============================] - 2s 27us/sample - loss: 0.0494 - accuracy: 0.9804\n",
      "Epoch 10/20\n",
      "60000/60000 [==============================] - 1s 21us/sample - loss: 0.0479 - accuracy: 0.9811\n",
      "Epoch 11/20\n",
      "60000/60000 [==============================] - 1s 21us/sample - loss: 0.0461 - accuracy: 0.9817\n",
      "Epoch 12/20\n",
      "60000/60000 [==============================] - 1s 22us/sample - loss: 0.0450 - accuracy: 0.9821\n",
      "Epoch 13/20\n",
      "60000/60000 [==============================] - 2s 30us/sample - loss: 0.0441 - accuracy: 0.9824\n",
      "Epoch 14/20\n",
      "60000/60000 [==============================] - 1s 22us/sample - loss: 0.0428 - accuracy: 0.9830\n",
      "Epoch 15/20\n",
      "60000/60000 [==============================] - 1s 23us/sample - loss: 0.0418 - accuracy: 0.9833\n",
      "Epoch 16/20\n",
      "60000/60000 [==============================] - 1s 25us/sample - loss: 0.0404 - accuracy: 0.9841\n",
      "Epoch 17/20\n",
      "60000/60000 [==============================] - 2s 38us/sample - loss: 0.0402 - accuracy: 0.9839\n",
      "Epoch 18/20\n",
      "60000/60000 [==============================] - 2s 26us/sample - loss: 0.0385 - accuracy: 0.9848\n",
      "Epoch 19/20\n",
      "60000/60000 [==============================] - 1s 23us/sample - loss: 0.0377 - accuracy: 0.9852\n",
      "Epoch 20/20\n",
      "60000/60000 [==============================] - 2s 27us/sample - loss: 0.0371 - accuracy: 0.9852\n"
     ]
    },
    {
     "data": {
      "text/plain": [
       "<tensorflow.python.keras.callbacks.History at 0x21896737dc8>"
      ]
     },
     "execution_count": 21,
     "metadata": {},
     "output_type": "execute_result"
    }
   ],
   "source": [
    "model2.fit(x_train, y_train, batch_size=200, epochs = 20)"
   ]
  },
  {
   "cell_type": "code",
   "execution_count": 22,
   "metadata": {},
   "outputs": [
    {
     "name": "stdout",
     "output_type": "stream",
     "text": [
      "10000/10000 [==============================] - 0s 44us/sample - loss: 0.2735 - accuracy: 0.9007\n",
      "10000/10000 [==============================] - 0s 46us/sample - loss: 0.0601 - accuracy: 0.9783\n",
      "[0.2734738959312439, 0.90066785] [0.060117878207564354, 0.97833943]\n"
     ]
    }
   ],
   "source": [
    "# 比較兩個神經網路的成效\n",
    "score1 = model.evaluate(x_test, y_test)\n",
    "score2 = model2.evaluate(x_test, y_test)\n",
    "print(score1, score2)"
   ]
  },
  {
   "cell_type": "code",
   "execution_count": null,
   "metadata": {},
   "outputs": [],
   "source": [
    "#可知loss function使用cross-entropy, optimizer使用Adam，效果會最好"
   ]
  }
 ],
 "metadata": {
  "kernelspec": {
   "display_name": "Python 3",
   "language": "python",
   "name": "python3"
  },
  "language_info": {
   "codemirror_mode": {
    "name": "ipython",
    "version": 3
   },
   "file_extension": ".py",
   "mimetype": "text/x-python",
   "name": "python",
   "nbconvert_exporter": "python",
   "pygments_lexer": "ipython3",
   "version": "3.7.6"
  }
 },
 "nbformat": 4,
 "nbformat_minor": 4
}
