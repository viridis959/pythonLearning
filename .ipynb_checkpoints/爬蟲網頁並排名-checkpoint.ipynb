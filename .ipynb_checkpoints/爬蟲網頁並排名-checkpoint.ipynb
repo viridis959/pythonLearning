{
 "cells": [
  {
   "cell_type": "code",
   "execution_count": 100,
   "metadata": {},
   "outputs": [],
   "source": [
    "# 下載政大的首頁內容\n",
    "import requests\n",
    "r = requests.get('https://www.nccu.edu.tw/app/home.php')"
   ]
  },
  {
   "cell_type": "code",
   "execution_count": 101,
   "metadata": {},
   "outputs": [],
   "source": [
    "# 以 BeautifulSoup 解析 HTML 程式碼\n",
    "from bs4 import BeautifulSoup\n",
    "soup = BeautifulSoup(r.text, 'html.parser')"
   ]
  },
  {
   "cell_type": "code",
   "execution_count": 102,
   "metadata": {},
   "outputs": [],
   "source": [
    "# 回傳所有被<a>包圍(超連結上的文字)和被<p>包圍(各段落文字)的區塊\n",
    "content = soup.find_all('a') + soup.find_all('p') "
   ]
  },
  {
   "cell_type": "code",
   "execution_count": 103,
   "metadata": {},
   "outputs": [],
   "source": [
    "# 建立一List來放取所有剛剛回傳的區塊\n",
    "myList = []\n",
    "for c in content:\n",
    "    myList.append(c.text)"
   ]
  },
  {
   "cell_type": "code",
   "execution_count": 104,
   "metadata": {},
   "outputs": [
    {
     "data": {
      "text/plain": [
       "[('', 14),\n",
       " ('\\n\\n', 8),\n",
       " ('在校學生', 3),\n",
       " ('教職員工', 3),\n",
       " (':::', 3),\n",
       " ('English', 2),\n",
       " ('搜索', 2),\n",
       " (' ', 2),\n",
       " ('校友', 2),\n",
       " ('訪客', 2),\n",
       " ('\\n\\t\\t\\t\\t【重要公告】 因應防疫需求，本校自2月28日起調整校園開放規定\\n\\t\\t\\t', 2),\n",
       " ('更多新聞', 2),\n",
       " ('更多公告', 2),\n",
       " ('更多內容', 2),\n",
       " ('  ', 2),\n",
       " ('跳到主要內容區塊', 1),\n",
       " ('EN', 1),\n",
       " ('關於政大', 1),\n",
       " ('本校介紹', 1),\n",
       " ('政大校訊', 1),\n",
       " ('交通資訊', 1),\n",
       " ('校園地圖', 1),\n",
       " ('年度行事曆', 1),\n",
       " ('影音政大', 1),\n",
       " ('行政單位', 1),\n",
       " ('教學單位', 1),\n",
       " ('研究中心', 1),\n",
       " ('資訊服務', 1),\n",
       " ('招生專區', 1),\n",
       " ('圖書館', 1),\n",
       " ('捐政', 1),\n",
       " ('iNCCU', 1),\n",
       " ('網站導覽', 1),\n",
       " ('郵件信箱', 1),\n",
       " ('校園安全', 1),\n",
       " ('\\n\\t\\t\\t\\t校長郭明政啟動「一班奬助一生」運動 加碼一千萬送學生出國\\n\\t\\t\\t', 1),\n",
       " ('\\n\\t\\t\\t\\t政大攜手日本千葉大學推動跨國USR計畫 共展大學社會責任實踐力\\n\\t\\t\\t', 1),\n",
       " ('\\n\\t\\t\\t\\t教育部二度訪視 政大全面提升防疫等級\\n\\t\\t\\t', 1),\n",
       " ('\\n\\t\\t\\t\\t政大檢視防疫作業流程 建立疫情應變SOP\\n\\t\\t\\t', 1),\n",
       " ('\\n\\t\\t\\t\\t東南亞研究中心擔任「SEASIA研究聯盟」秘書處 入選UIA年報\\n\\t\\t\\t', 1),\n",
       " ('\\n\\t\\t\\t\\t校園交通地圖\\n\\t\\t\\t', 1),\n",
       " ('\\n\\t\\t\\t\\t課程手冊\\n\\t\\t\\t', 1),\n",
       " ('\\n\\t\\t\\t\\t緊急通聯\\n\\t\\t\\t', 1),\n",
       " ('\\n\\t\\t\\t\\t行動政大\\n\\t\\t\\t', 1),\n",
       " ('\\n\\t\\t\\t\\t紀念品\\n\\t\\t\\t', 1),\n",
       " ('\\n\\t\\t\\t\\t捐政\\n\\t\\t\\t', 1),\n",
       " ('演講', 1),\n",
       " ('徵才', 1),\n",
       " ('\\n\\t\\t\\t\\t政大雄鷹籃球隊\\n\\t\\t\\t', 1),\n",
       " ('\\n\\t\\t\\t\\tNCCU Youtube\\n\\t\\t\\t', 1),\n",
       " ('\\n\\t\\t\\t\\tNCCU Facebook\\n\\t\\t\\t', 1),\n",
       " ('\\n\\t\\t\\t\\t108學年第2學期視聽器材講習（一）\\n\\t\\t\\t', 1),\n",
       " ('\\n\\t\\t\\t\\t108學年第2學期視聽器材講習（二）\\n\\t\\t\\t', 1),\n",
       " ('\\n\\t\\t\\t\\t【社科院】Back to School返校座談\\n\\t\\t\\t', 1),\n",
       " ('繁體', 1),\n",
       " ('如何到政大', 1),\n",
       " ('防制學生藥物濫用資源網', 1),\n",
       " ('科技大觀園', 1),\n",
       " ('交通安全e網通', 1),\n",
       " (' 尊重智慧財產權', 1),\n",
       " ('網路使用規範要點', 1)]"
      ]
     },
     "execution_count": 104,
     "metadata": {},
     "output_type": "execute_result"
    }
   ],
   "source": [
    "# 統計List裡的各區塊，並將出現次數由大排到小\n",
    "from collections import Counter\n",
    "Counter(myList).most_common()"
   ]
  },
  {
   "cell_type": "code",
   "execution_count": null,
   "metadata": {},
   "outputs": [],
   "source": []
  }
 ],
 "metadata": {
  "kernelspec": {
   "display_name": "Python 3",
   "language": "python",
   "name": "python3"
  },
  "language_info": {
   "codemirror_mode": {
    "name": "ipython",
    "version": 3
   },
   "file_extension": ".py",
   "mimetype": "text/x-python",
   "name": "python",
   "nbconvert_exporter": "python",
   "pygments_lexer": "ipython3",
   "version": "3.7.4"
  }
 },
 "nbformat": 4,
 "nbformat_minor": 2
}
