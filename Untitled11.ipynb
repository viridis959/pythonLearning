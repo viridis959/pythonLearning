{
 "cells": [
  {
   "cell_type": "code",
   "execution_count": 1,
   "metadata": {},
   "outputs": [],
   "source": [
    "def reverse_digits(x):\n",
    "    m = abs(x)\n",
    "    n = 0\n",
    "    while m != 0:\n",
    "        n = n * 10 + m % 10\n",
    "        m //= 10\n",
    "    if x > 0 and n < 2 ** 31 - 1:\n",
    "        return n\n",
    "    elif x < 0 and -n > -2 ** 31:\n",
    "        return -n\n",
    "    else:\n",
    "        return 0"
   ]
  },
  {
   "cell_type": "code",
   "execution_count": 2,
   "metadata": {},
   "outputs": [],
   "source": [
    "def get_sequence(x):\n",
    "    container = [x]\n",
    "    while x != 1:\n",
    "        if x % 2 == 0:\n",
    "            x /= 2\n",
    "            container.append(x)\n",
    "        else:\n",
    "            x = 3 * x + 1\n",
    "            container.append(x)\n",
    "    return len(container)    "
   ]
  },
  {
   "cell_type": "code",
   "execution_count": null,
   "metadata": {},
   "outputs": [],
   "source": [
    "def get_largest_cycle(i, j):\n",
    "    container = []\n",
    "    for i in range(min(i, j), max(i, j) + 1):\n",
    "        container.append(get_sequence(i))\n",
    "    return max(container)"
   ]
  }
 ],
 "metadata": {
  "kernelspec": {
   "display_name": "Python 3",
   "language": "python",
   "name": "python3"
  },
  "language_info": {
   "codemirror_mode": {
    "name": "ipython",
    "version": 3
   },
   "file_extension": ".py",
   "mimetype": "text/x-python",
   "name": "python",
   "nbconvert_exporter": "python",
   "pygments_lexer": "ipython3",
   "version": "3.7.6"
  }
 },
 "nbformat": 4,
 "nbformat_minor": 4
}
