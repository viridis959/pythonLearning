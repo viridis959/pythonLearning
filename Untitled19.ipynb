{
 "cells": [
  {
   "cell_type": "code",
   "execution_count": 4,
   "metadata": {},
   "outputs": [
    {
     "data": {
      "text/plain": [
       "[5, 17, 12, 6, 19, 23, 8, 10]"
      ]
     },
     "execution_count": 4,
     "metadata": {},
     "output_type": "execute_result"
    }
   ],
   "source": [
    "def partition(nums:list, low:int, high:int)->int:\n",
    "    pivot = nums[low]\n",
    "    leftwall = low\n",
    "    for i in range(low+1, high+1):\n",
    "        if nums[i] < pivot:\n",
    "            leftwall += 1\n",
    "            nums[i], nums[leftwall] = nums[leftwall], nums[i]\n",
    "    nums[low], nums[leftwall] = nums[leftwall], nums[low]\n",
    "    return nums\n",
    "partition([5,17,12,6,19,23,8,10], 0, len([5,17,12,6,19,23,8,10])-1)"
   ]
  },
  {
   "cell_type": "code",
   "execution_count": 6,
   "metadata": {},
   "outputs": [
    {
     "data": {
      "text/plain": [
       "[10, 5, 12, 6, 8, 17, 19, 23]"
      ]
     },
     "execution_count": 6,
     "metadata": {},
     "output_type": "execute_result"
    }
   ],
   "source": [
    "def partition(nums:list, low:int, high:int)->int:\n",
    "    pivot = nums[low]\n",
    "    leftwall = low\n",
    "    for i in range(low+1, high+1):\n",
    "        if nums[i] < pivot:\n",
    "            leftwall += 1\n",
    "            nums[i], nums[leftwall] = nums[leftwall], nums[i]\n",
    "    nums[low], nums[leftwall] = nums[leftwall], nums[low]\n",
    "    return nums\n",
    "partition([17,5,12,6,19,23,8,10], 0, len([17,5,12,6,19,23,8,10])-1)"
   ]
  },
  {
   "cell_type": "code",
   "execution_count": 7,
   "metadata": {},
   "outputs": [
    {
     "data": {
      "text/plain": [
       "[17, 5, 12, 6, 19, 10, 8, 23]"
      ]
     },
     "execution_count": 7,
     "metadata": {},
     "output_type": "execute_result"
    }
   ],
   "source": [
    "def partition(nums:list, low:int, high:int)->int:\n",
    "    pivot = nums[low]\n",
    "    leftwall = low\n",
    "    for i in range(low+1, high+1):\n",
    "        if nums[i] < pivot:\n",
    "            leftwall += 1\n",
    "            nums[i], nums[leftwall] = nums[leftwall], nums[i]\n",
    "    nums[low], nums[leftwall] = nums[leftwall], nums[low]\n",
    "    return nums\n",
    "partition([23,5,12,6,19,10,8,17], 0, len([23,5,12,6,19,10,8,17])-1)"
   ]
  },
  {
   "cell_type": "code",
   "execution_count": null,
   "metadata": {},
   "outputs": [],
   "source": []
  }
 ],
 "metadata": {
  "kernelspec": {
   "display_name": "Python 3",
   "language": "python",
   "name": "python3"
  },
  "language_info": {
   "codemirror_mode": {
    "name": "ipython",
    "version": 3
   },
   "file_extension": ".py",
   "mimetype": "text/x-python",
   "name": "python",
   "nbconvert_exporter": "python",
   "pygments_lexer": "ipython3",
   "version": "3.7.6"
  }
 },
 "nbformat": 4,
 "nbformat_minor": 4
}
