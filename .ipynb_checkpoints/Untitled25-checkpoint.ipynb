{
 "cells": [
  {
   "cell_type": "code",
   "execution_count": 1,
   "metadata": {},
   "outputs": [],
   "source": [
    "import pandas as pd\n",
    "import numpy as np"
   ]
  },
  {
   "cell_type": "code",
   "execution_count": 2,
   "metadata": {},
   "outputs": [],
   "source": [
    "df = pd.read_csv(\"euw.csv\")\n",
    "df2 = pd.read_csv(\"KR20K.csv\")\n",
    "df2 = df2[df2.result != 2]"
   ]
  },
  {
   "cell_type": "code",
   "execution_count": 3,
   "metadata": {},
   "outputs": [],
   "source": [
    "df = df.append(df2, ignore_index=True)"
   ]
  },
  {
   "cell_type": "code",
   "execution_count": 4,
   "metadata": {},
   "outputs": [],
   "source": [
    "df = df.drop(columns = df.columns[0])\n",
    "df.dropna(inplace=True)"
   ]
  },
  {
   "cell_type": "code",
   "execution_count": 5,
   "metadata": {},
   "outputs": [],
   "source": [
    "Y = df[\"result\"].to_numpy().reshape(13904,1)\n",
    "df = df.drop(columns = \"result\")"
   ]
  },
  {
   "cell_type": "code",
   "execution_count": 6,
   "metadata": {},
   "outputs": [],
   "source": [
    "X = df.to_numpy()"
   ]
  },
  {
   "cell_type": "code",
   "execution_count": 7,
   "metadata": {},
   "outputs": [],
   "source": [
    "from sklearn.model_selection import train_test_split \n",
    "X_train, X_test, Y_train, Y_test = train_test_split(X, Y, test_size =0.2, random_state = 87)"
   ]
  },
  {
   "cell_type": "code",
   "execution_count": 8,
   "metadata": {},
   "outputs": [],
   "source": [
    "from tensorflow.keras.models import Sequential\n",
    "from tensorflow.keras.layers import Dense, Activation\n",
    "from tensorflow.keras.optimizers import SGD\n",
    "from tensorflow.keras.utils import to_categorical"
   ]
  },
  {
   "cell_type": "code",
   "execution_count": 9,
   "metadata": {},
   "outputs": [],
   "source": [
    "Y_train = to_categorical(Y_train, 2)\n",
    "Y_test = to_categorical(Y_test, 2)\n",
    "X_train = X_train.astype(dtype = 'float32')\n",
    "X_test = X_test.astype(dtype = 'float32')\n",
    "Y_train = Y_train.astype(dtype = 'float32')\n",
    "X_test = X_test.astype(dtype = 'float32')"
   ]
  },
  {
   "cell_type": "code",
   "execution_count": 10,
   "metadata": {},
   "outputs": [],
   "source": [
    "model = Sequential()\n",
    "model.add(Dense(128,input_dim = 23,activation = \"relu\"))\n",
    "model.add(Dense(64,activation = \"relu\"))\n",
    "model.add(Dense(16,activation = \"relu\"))\n",
    "model.add(Dense(2,activation = \"sigmoid\"))\n",
    "from tensorflow.keras.losses import BinaryCrossentropy\n",
    "from tensorflow.keras.optimizers import Adam\n",
    "model.compile(loss = BinaryCrossentropy(), optimizer=Adam(lr=0.0001), metrics=  [\"accuracy\"])"
   ]
  },
  {
   "cell_type": "code",
   "execution_count": 11,
   "metadata": {
    "scrolled": true
   },
   "outputs": [
    {
     "name": "stdout",
     "output_type": "stream",
     "text": [
      "Train on 11123 samples\n",
      "Epoch 1/30\n",
      "11123/11123 [==============================] - 4s 317us/sample - loss: 0.6935 - accuracy: 0.4950\n",
      "Epoch 2/30\n",
      "11123/11123 [==============================] - 3s 258us/sample - loss: 0.6934 - accuracy: 0.4975\n",
      "Epoch 3/30\n",
      "11123/11123 [==============================] - 3s 296us/sample - loss: 0.6933 - accuracy: 0.5021\n",
      "Epoch 4/30\n",
      "11123/11123 [==============================] - 3s 245us/sample - loss: 0.6933 - accuracy: 0.5020\n",
      "Epoch 5/30\n",
      "11123/11123 [==============================] - 3s 281us/sample - loss: 0.6933 - accuracy: 0.4994\n",
      "Epoch 6/30\n",
      "11123/11123 [==============================] - 3s 245us/sample - loss: 0.6933 - accuracy: 0.4974\n",
      "Epoch 7/30\n",
      "11123/11123 [==============================] - 3s 282us/sample - loss: 0.6932 - accuracy: 0.4970\n",
      "Epoch 8/30\n",
      "11123/11123 [==============================] - 3s 272us/sample - loss: 0.6933 - accuracy: 0.5014\n",
      "Epoch 9/30\n",
      "11123/11123 [==============================] - 3s 259us/sample - loss: 0.6932 - accuracy: 0.5029\n",
      "Epoch 10/30\n",
      "11123/11123 [==============================] - 3s 283us/sample - loss: 0.6931 - accuracy: 0.5026\n",
      "Epoch 11/30\n",
      "11123/11123 [==============================] - 3s 249us/sample - loss: 0.6931 - accuracy: 0.5026\n",
      "Epoch 12/30\n",
      "11123/11123 [==============================] - 3s 286us/sample - loss: 0.6932 - accuracy: 0.5022\n",
      "Epoch 13/30\n",
      "11123/11123 [==============================] - 3s 253us/sample - loss: 0.6932 - accuracy: 0.5027\n",
      "Epoch 14/30\n",
      "11123/11123 [==============================] - 3s 288us/sample - loss: 0.6931 - accuracy: 0.5026\n",
      "Epoch 15/30\n",
      "11123/11123 [==============================] - 3s 259us/sample - loss: 0.6932 - accuracy: 0.5011\n",
      "Epoch 16/30\n",
      "11123/11123 [==============================] - 3s 294us/sample - loss: 0.6931 - accuracy: 0.5022\n",
      "Epoch 17/30\n",
      "11123/11123 [==============================] - 3s 260us/sample - loss: 0.6932 - accuracy: 0.5029\n",
      "Epoch 18/30\n",
      "11123/11123 [==============================] - 4s 315us/sample - loss: 0.6931 - accuracy: 0.5026\n",
      "Epoch 19/30\n",
      "11123/11123 [==============================] - 4s 326us/sample - loss: 0.6931 - accuracy: 0.5026\n",
      "Epoch 20/30\n",
      "11123/11123 [==============================] - 3s 279us/sample - loss: 0.6931 - accuracy: 0.5026\n",
      "Epoch 21/30\n",
      "11123/11123 [==============================] - 4s 316us/sample - loss: 0.6931 - accuracy: 0.5026\n",
      "Epoch 22/30\n",
      "11123/11123 [==============================] - 3s 267us/sample - loss: 0.6931 - accuracy: 0.5026\n",
      "Epoch 23/30\n",
      "11123/11123 [==============================] - 3s 311us/sample - loss: 0.6931 - accuracy: 0.5026\n",
      "Epoch 24/30\n",
      "11123/11123 [==============================] - 4s 333us/sample - loss: 0.6931 - accuracy: 0.5026\n",
      "Epoch 25/30\n",
      "11123/11123 [==============================] - 3s 275us/sample - loss: 0.6931 - accuracy: 0.5026\n",
      "Epoch 26/30\n",
      "11123/11123 [==============================] - 3s 311us/sample - loss: 0.6931 - accuracy: 0.5026\n",
      "Epoch 27/30\n",
      "11123/11123 [==============================] - 3s 267us/sample - loss: 0.6931 - accuracy: 0.5026\n",
      "Epoch 28/30\n",
      "11123/11123 [==============================] - 3s 299us/sample - loss: 0.6931 - accuracy: 0.5026\n",
      "Epoch 29/30\n",
      "11123/11123 [==============================] - 3s 261us/sample - loss: 0.6931 - accuracy: 0.5026\n",
      "Epoch 30/30\n",
      "11123/11123 [==============================] - 3s 297us/sample - loss: 0.6931 - accuracy: 0.5026\n"
     ]
    },
    {
     "data": {
      "text/plain": [
       "<tensorflow.python.keras.callbacks.History at 0x25335bc73c8>"
      ]
     },
     "execution_count": 11,
     "metadata": {},
     "output_type": "execute_result"
    }
   ],
   "source": [
    "model.fit(X_train,Y_train, batch_size = 5, epochs =30)"
   ]
  },
  {
   "cell_type": "code",
   "execution_count": 12,
   "metadata": {},
   "outputs": [
    {
     "name": "stdout",
     "output_type": "stream",
     "text": [
      "2781/2781 [==============================] - 0s 51us/sample - loss: 0.6931 - accuracy: 0.5020\n"
     ]
    },
    {
     "data": {
      "text/plain": [
       "[0.6931398068131066, 0.5019777]"
      ]
     },
     "execution_count": 12,
     "metadata": {},
     "output_type": "execute_result"
    }
   ],
   "source": [
    "model.evaluate(X_test,Y_test)"
   ]
  },
  {
   "cell_type": "code",
   "execution_count": null,
   "metadata": {},
   "outputs": [],
   "source": []
  }
 ],
 "metadata": {
  "kernelspec": {
   "display_name": "Python 3",
   "language": "python",
   "name": "python3"
  },
  "language_info": {
   "codemirror_mode": {
    "name": "ipython",
    "version": 3
   },
   "file_extension": ".py",
   "mimetype": "text/x-python",
   "name": "python",
   "nbconvert_exporter": "python",
   "pygments_lexer": "ipython3",
   "version": "3.7.6"
  }
 },
 "nbformat": 4,
 "nbformat_minor": 4
}
