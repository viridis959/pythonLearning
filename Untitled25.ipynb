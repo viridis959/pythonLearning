{
 "cells": [
  {
   "cell_type": "code",
   "execution_count": 1,
   "metadata": {},
   "outputs": [],
   "source": [
    "import pandas as pd\n",
    "import numpy as np"
   ]
  },
  {
   "cell_type": "code",
   "execution_count": 2,
   "metadata": {},
   "outputs": [],
   "source": [
    "df = pd.read_csv(\"KRfin.csv\")\n"
   ]
  },
  {
   "cell_type": "code",
   "execution_count": 3,
   "metadata": {},
   "outputs": [
    {
     "data": {
      "text/plain": [
       "(19941, 17)"
      ]
     },
     "execution_count": 3,
     "metadata": {},
     "output_type": "execute_result"
    }
   ],
   "source": [
    "df.shape"
   ]
  },
  {
   "cell_type": "code",
   "execution_count": 4,
   "metadata": {},
   "outputs": [],
   "source": [
    "df = df.drop(columns = df.columns[0])\n",
    "df.dropna(inplace=True)"
   ]
  },
  {
   "cell_type": "code",
   "execution_count": 5,
   "metadata": {},
   "outputs": [],
   "source": [
    "Y = df[\"result\"].to_numpy().reshape(19941,1)\n",
    "df = df.drop(columns = \"result\")"
   ]
  },
  {
   "cell_type": "code",
   "execution_count": 6,
   "metadata": {},
   "outputs": [],
   "source": [
    "X = df.to_numpy()"
   ]
  },
  {
   "cell_type": "code",
   "execution_count": 7,
   "metadata": {},
   "outputs": [],
   "source": [
    "from sklearn.model_selection import train_test_split \n",
    "X_train, X_test, Y_train, Y_test = train_test_split(X, Y, test_size =0.1, random_state = 87)"
   ]
  },
  {
   "cell_type": "code",
   "execution_count": 8,
   "metadata": {},
   "outputs": [],
   "source": [
    "from tensorflow.keras.models import Sequential\n",
    "from tensorflow.keras.layers import Dense, Activation\n",
    "from tensorflow.keras.optimizers import SGD\n",
    "from tensorflow.keras.utils import to_categorical"
   ]
  },
  {
   "cell_type": "code",
   "execution_count": 9,
   "metadata": {},
   "outputs": [],
   "source": [
    "Y_train = to_categorical(Y_train, 2)\n",
    "Y_test = to_categorical(Y_test, 2)\n",
    "X_train = X_train.astype(dtype = 'float32')\n",
    "X_test = X_test.astype(dtype = 'float32')\n",
    "Y_train = Y_train.astype(dtype = 'float32')\n",
    "X_test = X_test.astype(dtype = 'float32')"
   ]
  },
  {
   "cell_type": "code",
   "execution_count": 10,
   "metadata": {},
   "outputs": [],
   "source": [
    "model = Sequential()\n",
    "model.add(Dense(128,input_dim = 15,activation = \"relu\"))\n",
    "model.add(Dense(64,activation = \"relu\"))\n",
    "model.add(Dense(16,activation = \"relu\"))\n",
    "model.add(Dense(2,activation = \"sigmoid\"))\n",
    "from tensorflow.keras.losses import BinaryCrossentropy\n",
    "from tensorflow.keras.optimizers import Adam\n",
    "model.compile(loss = BinaryCrossentropy(), optimizer=Adam(lr=0.0001), metrics=  [\"accuracy\"])"
   ]
  },
  {
   "cell_type": "code",
   "execution_count": null,
   "metadata": {
    "scrolled": true
   },
   "outputs": [
    {
     "name": "stdout",
     "output_type": "stream",
     "text": [
      "Train on 17946 samples\n",
      "Epoch 1/30\n",
      "17946/17946 [==============================] - 7s 366us/sample - loss: 0.6933 - accuracy: 0.4992\n",
      "Epoch 2/30\n",
      "17946/17946 [==============================] - 7s 363us/sample - loss: 0.6934 - accuracy: 0.5009\n",
      "Epoch 3/30\n",
      "17946/17946 [==============================] - 7s 408us/sample - loss: 0.6932 - accuracy: 0.5014\n",
      "Epoch 4/30\n",
      "17946/17946 [==============================] - 6s 324us/sample - loss: 0.6932 - accuracy: 0.4993\n",
      "Epoch 5/30\n",
      "17946/17946 [==============================] - 7s 363us/sample - loss: 0.6931 - accuracy: 0.5052\n",
      "Epoch 6/30\n",
      "17370/17946 [============================>.] - ETA: 0s - loss: 0.6931 - accuracy: 0.5064"
     ]
    }
   ],
   "source": [
    "model.fit(X_train,Y_train, batch_size = 5, epochs =30)"
   ]
  },
  {
   "cell_type": "code",
   "execution_count": null,
   "metadata": {},
   "outputs": [],
   "source": [
    "model.evaluate(X_test,Y_test)"
   ]
  },
  {
   "cell_type": "code",
   "execution_count": null,
   "metadata": {},
   "outputs": [],
   "source": [
    "from tensorflow.keras.models import load_model\n",
    "model = load_model('my_model.h5')"
   ]
  },
  {
   "cell_type": "code",
   "execution_count": null,
   "metadata": {},
   "outputs": [],
   "source": [
    "model.predict([[0.5]*23])[0][0]\n",
    "df_info = pd.read_csv(\"info_correct.csv\")\n",
    "df_top = df_info[df_info['position'] == 0]\n",
    "df_top.sort_values(by=['win_rate'])\n",
    "df_jg = df_info[df_info['position'] == 1]\n",
    "df_jg.sort_values(by=['win_rate'])\n",
    "df_mid = df_info[df_info['position'] == 2]\n",
    "df_mid.sort_values(by=['win_rate'])\n",
    "df_bot = df_info[df_info['position'] == 3]\n",
    "df_bot.sort_values(by=['win_rate'])\n",
    "df_sup = df_info[df_info['position'] == 4]\n",
    "df_sup.sort_values(by=['win_rate'])"
   ]
  },
  {
   "cell_type": "code",
   "execution_count": null,
   "metadata": {},
   "outputs": [],
   "source": [
    "import matplotlib.pyplot as plt\n",
    "container = []\n",
    "for index,row in df_top.iterrows():\n",
    "    container.append(row['win_rate'])\n",
    "    container.append(row['lane_kill_rate'])\n",
    "    container.append(row['kda'])\n",
    "    container.append(row['kill_participate'])\n",
    "    container.append(row['damage'])\n",
    "a = np.reshape(container, (-1, 5))\n",
    "b = np.reshape([0.5]*18*len(df_top), (-1, 18))\n",
    "c = np.append(a, b, axis=1)\n",
    "result_top = []\n",
    "x_top = []\n",
    "for i in range(0, len(df_top)):\n",
    "    result_top.append(model.predict([list(c[i])])[0][0])\n",
    "    x_top.append(i)"
   ]
  },
  {
   "cell_type": "code",
   "execution_count": null,
   "metadata": {},
   "outputs": [],
   "source": [
    "container = []\n",
    "for index,row in df_jg.iterrows():\n",
    "    container.append(row['win_rate'])\n",
    "    container.append(row['kda'])\n",
    "    container.append(row['kill_participate'])\n",
    "    container.append(row['damage'])\n",
    "a = np.reshape([0.5]*5*len(df_jg), (-1, 5))\n",
    "b = np.reshape(container, (-1, 4))\n",
    "c = np.reshape([0.5]*14*len(df_jg), (-1, 14))\n",
    "d = np.append(a, b, axis=1)\n",
    "e = np.append(d, c, axis=1)\n",
    "result_jg = []\n",
    "x_jg = []\n",
    "for i in range(0, len(df_jg)):\n",
    "    result_jg.append(model.predict([list(e[i])])[0][0])\n",
    "    x_jg.append(i)"
   ]
  },
  {
   "cell_type": "code",
   "execution_count": null,
   "metadata": {},
   "outputs": [],
   "source": [
    "container = []\n",
    "for index,row in df_mid.iterrows():\n",
    "    container.append(row['win_rate'])\n",
    "    container.append(row['lane_kill_rate'])\n",
    "    container.append(row['kda'])\n",
    "    container.append(row['kill_participate'])\n",
    "    container.append(row['damage'])\n",
    "a = np.reshape([0.5]*9*len(df_mid), (-1, 9))\n",
    "b = np.reshape(container, (-1, 5))\n",
    "c = np.reshape([0.5]*9*len(df_mid), (-1, 9))\n",
    "d = np.append(a, b, axis=1)\n",
    "e = np.append(d, c, axis=1)\n",
    "result_mid = []\n",
    "x_mid = []\n",
    "for i in range(0, len(df_mid)):\n",
    "    result_mid.append(model.predict([list(e[i])])[0][0])\n",
    "    x_mid.append(i)"
   ]
  },
  {
   "cell_type": "code",
   "execution_count": null,
   "metadata": {},
   "outputs": [],
   "source": [
    "container = []\n",
    "for index,row in df_bot.iterrows():\n",
    "    container.append(row['win_rate'])\n",
    "    container.append(row['lane_kill_rate'])\n",
    "    container.append(row['kda'])\n",
    "    container.append(row['kill_participate'])\n",
    "    container.append(row['damage'])\n",
    "a = np.reshape([0.5]*14*len(df_bot), (-1, 14))\n",
    "b = np.reshape(container, (-1, 5))\n",
    "c = np.reshape([0.5]*4*len(df_bot), (-1, 4))\n",
    "d = np.append(a, b, axis=1)\n",
    "e = np.append(d, c, axis=1)\n",
    "result_bot = []\n",
    "x_bot = []\n",
    "for i in range(0, len(df_bot)):\n",
    "    result_bot.append(model.predict([list(e[i])])[0][0])\n",
    "    x_bot.append(i)"
   ]
  },
  {
   "cell_type": "code",
   "execution_count": null,
   "metadata": {},
   "outputs": [],
   "source": [
    "container = []\n",
    "for index,row in df_sup.iterrows():\n",
    "    container.append(row['win_rate'])\n",
    "    container.append(row['lane_kill_rate'])\n",
    "    container.append(row['kda'])\n",
    "    container.append(row['kill_participate'])\n",
    "a = np.reshape([0.5]*19*len(df_sup), (-1, 19))\n",
    "b = np.reshape(container, (-1, 4))\n",
    "c = np.append(a, b, axis=1)\n",
    "result_sup = []\n",
    "x_sup = []\n",
    "for i in range(0, len(df_sup)):\n",
    "    result_sup.append(model.predict([list(c[i])])[0][0])\n",
    "    x_sup.append(i)"
   ]
  },
  {
   "cell_type": "code",
   "execution_count": null,
   "metadata": {
    "scrolled": true
   },
   "outputs": [],
   "source": [
    "plt.figure(figsize=(15,5),dpi=1000)\n",
    "plt.scatter(x_top, result_top, color = 'red', s=1, label='top')\n",
    "plt.scatter(x_jg, result_jg, color = 'orange', s=1, label='jungle')\n",
    "plt.scatter(x_mid, result_mid, color = 'yellow', s=1, label='middle')\n",
    "plt.scatter(x_bot, result_bot, color = 'green', s=1, label='bottom')\n",
    "plt.scatter(x_sup, result_sup, color = 'blue', s=1, label='support')\n",
    "plt.show"
   ]
  },
  {
   "cell_type": "code",
   "execution_count": null,
   "metadata": {},
   "outputs": [],
   "source": [
    "[0.5]*12"
   ]
  },
  {
   "cell_type": "code",
   "execution_count": null,
   "metadata": {},
   "outputs": [],
   "source": [
    "model.predict([[0.5]*23])[0][0]"
   ]
  },
  {
   "cell_type": "code",
   "execution_count": null,
   "metadata": {},
   "outputs": [],
   "source": []
  }
 ],
 "metadata": {
  "kernelspec": {
   "display_name": "Python 3",
   "language": "python",
   "name": "python3"
  },
  "language_info": {
   "codemirror_mode": {
    "name": "ipython",
    "version": 3
   },
   "file_extension": ".py",
   "mimetype": "text/x-python",
   "name": "python",
   "nbconvert_exporter": "python",
   "pygments_lexer": "ipython3",
   "version": "3.7.6"
  }
 },
 "nbformat": 4,
 "nbformat_minor": 4
}
