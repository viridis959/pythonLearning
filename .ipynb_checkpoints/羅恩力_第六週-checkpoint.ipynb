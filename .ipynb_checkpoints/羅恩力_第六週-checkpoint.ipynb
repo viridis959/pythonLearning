{
 "cells": [
  {
   "cell_type": "code",
   "execution_count": 1,
   "metadata": {},
   "outputs": [],
   "source": [
    "%matplotlib inline\n",
    "import numpy as np\n",
    "import matplotlib.pyplot as plt\n",
    "import pandas as pd"
   ]
  },
  {
   "cell_type": "code",
   "execution_count": 2,
   "metadata": {},
   "outputs": [
    {
     "name": "stderr",
     "output_type": "stream",
     "text": [
      "C:\\ProgramData\\Anaconda3\\lib\\site-packages\\pandas_datareader\\compat\\__init__.py:7: FutureWarning: pandas.util.testing is deprecated. Use the functions in the public API at pandas.testing instead.\n",
      "  from pandas.util.testing import assert_frame_equal\n"
     ]
    }
   ],
   "source": [
    "import pandas_datareader.data as web"
   ]
  },
  {
   "cell_type": "code",
   "execution_count": 3,
   "metadata": {},
   "outputs": [],
   "source": [
    "df = web.DataReader(\"AAPL\", \"yahoo\")"
   ]
  },
  {
   "cell_type": "code",
   "execution_count": 6,
   "metadata": {},
   "outputs": [
    {
     "data": {
      "text/html": [
       "<div>\n",
       "<style scoped>\n",
       "    .dataframe tbody tr th:only-of-type {\n",
       "        vertical-align: middle;\n",
       "    }\n",
       "\n",
       "    .dataframe tbody tr th {\n",
       "        vertical-align: top;\n",
       "    }\n",
       "\n",
       "    .dataframe thead th {\n",
       "        text-align: right;\n",
       "    }\n",
       "</style>\n",
       "<table border=\"1\" class=\"dataframe\">\n",
       "  <thead>\n",
       "    <tr style=\"text-align: right;\">\n",
       "      <th></th>\n",
       "      <th>High</th>\n",
       "      <th>Low</th>\n",
       "      <th>Open</th>\n",
       "      <th>Close</th>\n",
       "      <th>Volume</th>\n",
       "      <th>Adj Close</th>\n",
       "    </tr>\n",
       "    <tr>\n",
       "      <th>Date</th>\n",
       "      <th></th>\n",
       "      <th></th>\n",
       "      <th></th>\n",
       "      <th></th>\n",
       "      <th></th>\n",
       "      <th></th>\n",
       "    </tr>\n",
       "  </thead>\n",
       "  <tbody>\n",
       "    <tr>\n",
       "      <th>2019-01-30</th>\n",
       "      <td>166.149994</td>\n",
       "      <td>160.229996</td>\n",
       "      <td>163.250000</td>\n",
       "      <td>165.250000</td>\n",
       "      <td>61109800.0</td>\n",
       "      <td>162.418411</td>\n",
       "    </tr>\n",
       "    <tr>\n",
       "      <th>2019-01-31</th>\n",
       "      <td>169.000000</td>\n",
       "      <td>164.559998</td>\n",
       "      <td>166.110001</td>\n",
       "      <td>166.440002</td>\n",
       "      <td>40739600.0</td>\n",
       "      <td>163.587997</td>\n",
       "    </tr>\n",
       "    <tr>\n",
       "      <th>2019-02-01</th>\n",
       "      <td>168.979996</td>\n",
       "      <td>165.929993</td>\n",
       "      <td>166.960007</td>\n",
       "      <td>166.520004</td>\n",
       "      <td>32668100.0</td>\n",
       "      <td>163.666641</td>\n",
       "    </tr>\n",
       "    <tr>\n",
       "      <th>2019-02-04</th>\n",
       "      <td>171.660004</td>\n",
       "      <td>167.279999</td>\n",
       "      <td>167.410004</td>\n",
       "      <td>171.250000</td>\n",
       "      <td>31495500.0</td>\n",
       "      <td>168.315582</td>\n",
       "    </tr>\n",
       "    <tr>\n",
       "      <th>2019-02-05</th>\n",
       "      <td>175.080002</td>\n",
       "      <td>172.350006</td>\n",
       "      <td>172.860001</td>\n",
       "      <td>174.179993</td>\n",
       "      <td>36101600.0</td>\n",
       "      <td>171.195389</td>\n",
       "    </tr>\n",
       "    <tr>\n",
       "      <th>...</th>\n",
       "      <td>...</td>\n",
       "      <td>...</td>\n",
       "      <td>...</td>\n",
       "      <td>...</td>\n",
       "      <td>...</td>\n",
       "      <td>...</td>\n",
       "    </tr>\n",
       "    <tr>\n",
       "      <th>2020-04-01</th>\n",
       "      <td>248.720001</td>\n",
       "      <td>239.130005</td>\n",
       "      <td>246.500000</td>\n",
       "      <td>240.910004</td>\n",
       "      <td>44054600.0</td>\n",
       "      <td>240.910004</td>\n",
       "    </tr>\n",
       "    <tr>\n",
       "      <th>2020-04-02</th>\n",
       "      <td>245.149994</td>\n",
       "      <td>236.899994</td>\n",
       "      <td>240.339996</td>\n",
       "      <td>244.929993</td>\n",
       "      <td>41483500.0</td>\n",
       "      <td>244.929993</td>\n",
       "    </tr>\n",
       "    <tr>\n",
       "      <th>2020-04-03</th>\n",
       "      <td>245.699997</td>\n",
       "      <td>238.970001</td>\n",
       "      <td>242.800003</td>\n",
       "      <td>241.410004</td>\n",
       "      <td>32470000.0</td>\n",
       "      <td>241.410004</td>\n",
       "    </tr>\n",
       "    <tr>\n",
       "      <th>2020-04-06</th>\n",
       "      <td>263.109985</td>\n",
       "      <td>249.380005</td>\n",
       "      <td>250.899994</td>\n",
       "      <td>262.470001</td>\n",
       "      <td>50289700.0</td>\n",
       "      <td>262.470001</td>\n",
       "    </tr>\n",
       "    <tr>\n",
       "      <th>2020-04-07</th>\n",
       "      <td>271.700012</td>\n",
       "      <td>259.000000</td>\n",
       "      <td>270.799988</td>\n",
       "      <td>259.429993</td>\n",
       "      <td>50721831.0</td>\n",
       "      <td>259.429993</td>\n",
       "    </tr>\n",
       "  </tbody>\n",
       "</table>\n",
       "<p>300 rows × 6 columns</p>\n",
       "</div>"
      ],
      "text/plain": [
       "                  High         Low        Open       Close      Volume  \\\n",
       "Date                                                                     \n",
       "2019-01-30  166.149994  160.229996  163.250000  165.250000  61109800.0   \n",
       "2019-01-31  169.000000  164.559998  166.110001  166.440002  40739600.0   \n",
       "2019-02-01  168.979996  165.929993  166.960007  166.520004  32668100.0   \n",
       "2019-02-04  171.660004  167.279999  167.410004  171.250000  31495500.0   \n",
       "2019-02-05  175.080002  172.350006  172.860001  174.179993  36101600.0   \n",
       "...                ...         ...         ...         ...         ...   \n",
       "2020-04-01  248.720001  239.130005  246.500000  240.910004  44054600.0   \n",
       "2020-04-02  245.149994  236.899994  240.339996  244.929993  41483500.0   \n",
       "2020-04-03  245.699997  238.970001  242.800003  241.410004  32470000.0   \n",
       "2020-04-06  263.109985  249.380005  250.899994  262.470001  50289700.0   \n",
       "2020-04-07  271.700012  259.000000  270.799988  259.429993  50721831.0   \n",
       "\n",
       "             Adj Close  \n",
       "Date                    \n",
       "2019-01-30  162.418411  \n",
       "2019-01-31  163.587997  \n",
       "2019-02-01  163.666641  \n",
       "2019-02-04  168.315582  \n",
       "2019-02-05  171.195389  \n",
       "...                ...  \n",
       "2020-04-01  240.910004  \n",
       "2020-04-02  244.929993  \n",
       "2020-04-03  241.410004  \n",
       "2020-04-06  262.470001  \n",
       "2020-04-07  259.429993  \n",
       "\n",
       "[300 rows x 6 columns]"
      ]
     },
     "execution_count": 6,
     "metadata": {},
     "output_type": "execute_result"
    }
   ],
   "source": [
    "# 取出最後300筆資料\n",
    "df = df[-300:]\n",
    "df"
   ]
  },
  {
   "cell_type": "code",
   "execution_count": 7,
   "metadata": {},
   "outputs": [],
   "source": [
    "# 取出收盤價並轉成 array\n",
    "dfArray = df[\"Close\"].values"
   ]
  },
  {
   "cell_type": "code",
   "execution_count": 9,
   "metadata": {},
   "outputs": [],
   "source": [
    "# 資料分成 x、y\n",
    "x = np.delete(dfArray, 299)\n",
    "y = np.delete(dfArray, 0)"
   ]
  },
  {
   "cell_type": "code",
   "execution_count": 13,
   "metadata": {},
   "outputs": [],
   "source": [
    "from sklearn.linear_model import LinearRegression\n",
    "from sklearn.model_selection import train_test_split"
   ]
  },
  {
   "cell_type": "code",
   "execution_count": 14,
   "metadata": {},
   "outputs": [],
   "source": [
    "regr = LinearRegression()"
   ]
  },
  {
   "cell_type": "code",
   "execution_count": 15,
   "metadata": {},
   "outputs": [],
   "source": [
    "# 80%訓練資料、20%測試資料\n",
    "x_train, x_test, y_train, y_test = train_test_split(x, y,\n",
    "                                                   test_size = 0.2,\n",
    "                                                   random_state = 87)"
   ]
  },
  {
   "cell_type": "code",
   "execution_count": 24,
   "metadata": {},
   "outputs": [],
   "source": [
    "x_train.shape = (len(x_train), 1)\n",
    "x_test.shape = (len(x_test), 1)"
   ]
  },
  {
   "cell_type": "code",
   "execution_count": 25,
   "metadata": {},
   "outputs": [
    {
     "data": {
      "text/plain": [
       "LinearRegression(copy_X=True, fit_intercept=True, n_jobs=None, normalize=False)"
      ]
     },
     "execution_count": 25,
     "metadata": {},
     "output_type": "execute_result"
    }
   ],
   "source": [
    "regr.fit(x_train, y_train)"
   ]
  },
  {
   "cell_type": "code",
   "execution_count": 35,
   "metadata": {},
   "outputs": [
    {
     "data": {
      "text/plain": [
       "Text(0, 0.5, 'y_train')"
      ]
     },
     "execution_count": 35,
     "metadata": {},
     "output_type": "execute_result"
    },
    {
     "data": {
      "image/png": "[encoded data removed]",
      "text/plain": [
       "<Figure size 432x288 with 1 Axes>"
      ]
     },
     "metadata": {
      "needs_background": "light"
     },
     "output_type": "display_data"
    }
   ],
   "source": [
    "# 訓練資料的圖\n",
    "plt.scatter(x_train, y_train)\n",
    "plt.plot(x_train, regr.predict(x_train), 'r')\n",
    "plt.xlabel('x_train')\n",
    "plt.ylabel('y_train')"
   ]
  },
  {
   "cell_type": "code",
   "execution_count": 36,
   "metadata": {},
   "outputs": [
    {
     "data": {
      "text/plain": [
       "Text(0, 0.5, 'y_test')"
      ]
     },
     "execution_count": 36,
     "metadata": {},
     "output_type": "execute_result"
    },
    {
     "data": {
      "image/png": "[encoded data removed]",
      "text/plain": [
       "<Figure size 432x288 with 1 Axes>"
      ]
     },
     "metadata": {
      "needs_background": "light"
     },
     "output_type": "display_data"
    }
   ],
   "source": [
    "# 測試資料的圖\n",
    "plt.scatter(x_test, y_test)\n",
    "plt.plot(x_test, regr.predict(x_test), 'r')\n",
    "plt.xlabel('x_test')\n",
    "plt.ylabel('y_test')"
   ]
  },
  {
   "cell_type": "code",
   "execution_count": null,
   "metadata": {},
   "outputs": [],
   "source": []
  }
 ],
 "metadata": {
  "kernelspec": {
   "display_name": "Python 3",
   "language": "python",
   "name": "python3"
  },
  "language_info": {
   "codemirror_mode": {
    "name": "ipython",
    "version": 3
   },
   "file_extension": ".py",
   "mimetype": "text/x-python",
   "name": "python",
   "nbconvert_exporter": "python",
   "pygments_lexer": "ipython3",
   "version": "3.7.6"
  }
 },
 "nbformat": 4,
 "nbformat_minor": 4
}
